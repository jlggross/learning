{
  "nbformat": 4,
  "nbformat_minor": 0,
  "metadata": {
    "colab": {
      "name": "introdução-python-machine-learning-iris-dataset.ipynb",
      "provenance": []
    },
    "kernelspec": {
      "name": "python3",
      "display_name": "Python 3"
    }
  },
  "cells": [
    {
      "cell_type": "markdown",
      "metadata": {
        "id": "h42IxbH6n5HE",
        "colab_type": "text"
      },
      "source": [
        "# Introdução - Python com Machine Learning"
      ]
    },
    {
      "cell_type": "markdown",
      "metadata": {
        "id": "ymPpyZKEn8Ei",
        "colab_type": "text"
      },
      "source": [
        "## Utilizando Scikit-Learn para classificar flores.\n",
        "Este é um exemplo da utilização do Python em projetos de Machine Learning.\n",
        "\n",
        "Pela simplicidade da linguagem Python, podemos desenvolver poderosos algoritmos que podem nos ajudar a resolver problemas complexos. Neste exemplo vamos utilizar o framework scikit-learn para classificar flores."
      ]
    },
    {
      "cell_type": "markdown",
      "metadata": {
        "id": "baYUtz_Pn-hl",
        "colab_type": "text"
      },
      "source": [
        "## Importando Bibliotecas\n",
        "O scikit-learn é excelente framework que conta com diversos algoritmos de classificação, regressão, agrupamento e suporte e SVM. Para maiores detalhes você pode acessar o site da organização: https://scikit-learn.org/\n",
        "\n",
        "Numpy é um pacote criado principalmente para computação científica, que auxilia no tratamento de vetores e matrizes multidimensionais, possui diversas funções úteis na álgebra linear, estatística e matemática em geral."
      ]
    },
    {
      "cell_type": "code",
      "metadata": {
        "id": "P0TRt6DTn_nR",
        "colab_type": "code",
        "colab": {}
      },
      "source": [
        "from sklearn.datasets import load_iris\n",
        "from sklearn import tree\n",
        "from sklearn.metrics import accuracy_score\n",
        "import numpy as np"
      ],
      "execution_count": 1,
      "outputs": []
    },
    {
      "cell_type": "markdown",
      "metadata": {
        "id": "GCnaHlyIoB0N",
        "colab_type": "text"
      },
      "source": [
        "## Carregando o DataSet e separando conjuntos e rótudos dos dados"
      ]
    },
    {
      "cell_type": "code",
      "metadata": {
        "id": "09D7S2WQnwEP",
        "colab_type": "code",
        "colab": {}
      },
      "source": [
        "# Carregando o DataSet\n",
        "iris = load_iris()\n",
        "\n",
        "# Conjunto de dados\n",
        "x = iris.data\n",
        "print(x)"
      ],
      "execution_count": null,
      "outputs": []
    },
    {
      "cell_type": "code",
      "metadata": {
        "id": "5qIjuec4oL2t",
        "colab_type": "code",
        "colab": {
          "base_uri": "https://localhost:8080/",
          "height": 102
        },
        "outputId": "e79633a2-97d3-4766-b4d9-9f7b67044232"
      },
      "source": [
        "# Conjunto de rotulos ou respostas para cada entrada\n",
        "y = iris.target\n",
        "print(y)"
      ],
      "execution_count": 4,
      "outputs": [
        {
          "output_type": "stream",
          "text": [
            "[0 0 0 0 0 0 0 0 0 0 0 0 0 0 0 0 0 0 0 0 0 0 0 0 0 0 0 0 0 0 0 0 0 0 0 0 0\n",
            " 0 0 0 0 0 0 0 0 0 0 0 0 0 1 1 1 1 1 1 1 1 1 1 1 1 1 1 1 1 1 1 1 1 1 1 1 1\n",
            " 1 1 1 1 1 1 1 1 1 1 1 1 1 1 1 1 1 1 1 1 1 1 1 1 1 1 2 2 2 2 2 2 2 2 2 2 2\n",
            " 2 2 2 2 2 2 2 2 2 2 2 2 2 2 2 2 2 2 2 2 2 2 2 2 2 2 2 2 2 2 2 2 2 2 2 2 2\n",
            " 2 2]\n"
          ],
          "name": "stdout"
        }
      ]
    },
    {
      "cell_type": "markdown",
      "metadata": {
        "id": "ovpM6RG2oPSU",
        "colab_type": "text"
      },
      "source": [
        "## Preparação dos Dados"
      ]
    },
    {
      "cell_type": "code",
      "metadata": {
        "id": "uGc1t9aHoOO_",
        "colab_type": "code",
        "colab": {
          "base_uri": "https://localhost:8080/",
          "height": 187
        },
        "outputId": "c62355ef-6298-441c-90a5-6fb82f19e6e3"
      },
      "source": [
        "# Pegando os nomes das 3 especies de Flores\n",
        "y_names = iris.target_names\n",
        "print(y_names)\n",
        "\n",
        "# Utilizando índices aleatórios para dividir o conjunto de dados em treinamento e teste\n",
        "test_ids = np.random.permutation(len(x))\n",
        "\n",
        "# Divisão de dados e etiquetas em treinamento e teste\n",
        "# Mantendo as últimas 10 entradas para teste, e o restante para treinamento\n",
        "x_train = x[test_ids[:-10]]\n",
        "x_test = x[test_ids[-10:]] # Últimos 10 registros\n",
        "\n",
        "y_train = y[test_ids[:-10]]\n",
        "y_test = y[test_ids[-10:]] # Últimos 10 registros"
      ],
      "execution_count": 11,
      "outputs": [
        {
          "output_type": "stream",
          "text": [
            "['setosa' 'versicolor' 'virginica']\n",
            "[ 20  99  24  26  17 118 100  75 144  21   4  85  76  23   8  70 129 106\n",
            " 120  86  87  31  51 140 121  72  68  25  98   7  60  74 117 139  71  69\n",
            "  37 130 114  40  64  67  84  57  13  53  63  29  15  93 109 110  19 102\n",
            " 115  34 111  61  33 107  30 103 148  45  66 125  48  42   3  36  89  32\n",
            "  22  90  28  82  62  55  92  94 126 127 119 138  27 108  83  77  44  38\n",
            " 124  10   5 122  78  50 136  41  39  11  49  73 112 143 116 105  46 101\n",
            " 131 142  56 146  52  97  16 132 113 123   1  14   9 147 145 133  79  54\n",
            " 128 149  65  47 135 134  96  59  18 104  95  58 137  80  91  12   2  35\n",
            "   6   0  43  81  88 141]\n"
          ],
          "name": "stdout"
        }
      ]
    },
    {
      "cell_type": "markdown",
      "metadata": {
        "id": "p5rFzR4ioT72",
        "colab_type": "text"
      },
      "source": [
        "## Definindo Modelo de treinamento - Árvore de Decisão"
      ]
    },
    {
      "cell_type": "code",
      "metadata": {
        "id": "ZEiVedoeoVvo",
        "colab_type": "code",
        "colab": {
          "base_uri": "https://localhost:8080/",
          "height": 119
        },
        "outputId": "32b56483-9198-464f-f015-5b5679d1a130"
      },
      "source": [
        "# Classificando utilizando tecnicas de Árvore de Decisão\n",
        "clf = tree.DecisionTreeClassifier()\n",
        "print(clf)"
      ],
      "execution_count": 12,
      "outputs": [
        {
          "output_type": "stream",
          "text": [
            "DecisionTreeClassifier(ccp_alpha=0.0, class_weight=None, criterion='gini',\n",
            "                       max_depth=None, max_features=None, max_leaf_nodes=None,\n",
            "                       min_impurity_decrease=0.0, min_impurity_split=None,\n",
            "                       min_samples_leaf=1, min_samples_split=2,\n",
            "                       min_weight_fraction_leaf=0.0, presort='deprecated',\n",
            "                       random_state=None, splitter='best')\n"
          ],
          "name": "stdout"
        }
      ]
    },
    {
      "cell_type": "markdown",
      "metadata": {
        "id": "NZfUruIVobmP",
        "colab_type": "text"
      },
      "source": [
        "## Treinando o Modelo\n",
        "\n",
        "* Estamos trabalhando com uma árvore de decisão, ou seja, um abordagem de aprendizado supervisionado.\n",
        "* Para o treinamento é necessária a massa de dados (`x_train`) e os rótulos (`y_train`)."
      ]
    },
    {
      "cell_type": "code",
      "metadata": {
        "id": "TR6FhFadoa7T",
        "colab_type": "code",
        "colab": {
          "base_uri": "https://localhost:8080/",
          "height": 34
        },
        "outputId": "e4065803-21cb-48ea-813f-c03fb3027a96"
      },
      "source": [
        "# Treinando o classificador com o conjunto de treinamento\n",
        "clf.fit(x_train, y_train) # Massa de dados + Rótulos\n",
        "\n",
        "# Fazendo a predição do conjunto de teste\n",
        "pred = clf.predict(x_test)\n",
        "print(pred)"
      ],
      "execution_count": 15,
      "outputs": [
        {
          "output_type": "stream",
          "text": [
            "[1 0 0 0 0 0 0 1 1 2]\n"
          ],
          "name": "stdout"
        }
      ]
    },
    {
      "cell_type": "markdown",
      "metadata": {
        "id": "VpiHAbGooior",
        "colab_type": "text"
      },
      "source": [
        "## Analisando o resultado\n",
        "\n",
        "* Acurácia de 100% : Indica que o algoritmo conseguiu prever corretamente todos os 10 casos de teste."
      ]
    },
    {
      "cell_type": "code",
      "metadata": {
        "id": "msf90HwZokMT",
        "colab_type": "code",
        "colab": {
          "base_uri": "https://localhost:8080/",
          "height": 34
        },
        "outputId": "e36eab1c-b7c5-4f48-88e1-6e6011585c1a"
      },
      "source": [
        "# Acuracia\n",
        "print('Acuracia: ', (accuracy_score(pred, y_test))*100)"
      ],
      "execution_count": 9,
      "outputs": [
        {
          "output_type": "stream",
          "text": [
            "Acuracia:  100.0\n"
          ],
          "name": "stdout"
        }
      ]
    }
  ]
}