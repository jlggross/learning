{
  "nbformat": 4,
  "nbformat_minor": 0,
  "metadata": {
    "colab": {
      "name": "2020-05-21-python-data-science-toolbox-part2.ipynb",
      "provenance": []
    },
    "kernelspec": {
      "name": "python3",
      "display_name": "Python 3"
    }
  },
  "cells": [
    {
      "cell_type": "markdown",
      "metadata": {
        "id": "jUddbM-V7018",
        "colab_type": "text"
      },
      "source": [
        "# PyThon Data Science Toolbox (Part 2)\n",
        "Link: https://learn.datacamp.com/courses/python-data-science-toolbox-part-2\n",
        "\n",
        "## Course Agenda - What you will learn\n",
        "* **Iterators**\n",
        "  * Definition of Iterators\n",
        "    * Iterators vs. iterables\n",
        "  * Iterating over iterables, lists, dictionaries and files\n",
        "  * Using ```for``` loop\n",
        "  * Using ```enumerate()```\n",
        "  * Using ```zip()```\n",
        "  * Iterating over large data files, chunks by chunk\n",
        "* **List comprehensions and generators**\n",
        "  * What they are\n",
        "  * Creating list comprehension\n",
        "  * Conditionals in comprehensions (use of ```if``` and ```if-else```)\n",
        "  * Generator expressions\n",
        "  * Generator functions"
      ]
    },
    {
      "cell_type": "markdown",
      "metadata": {
        "id": "t-89hpXpSdoM",
        "colab_type": "text"
      },
      "source": [
        "## Iterators\n",
        "* As iterator is an object that keeps state.\n",
        "* Applying ```next()``` over an iterator produces the next value of the iterable object.\n",
        "* Can be used with ```for``` loop. When using the ```for``` loop what really happens is:\n",
        "  1. Takes the objects iterable;\n",
        "  2. Creates the associated iterable object;\n",
        "  3. Iterates over it.\n",
        "* So internally, the for loop creates an iterator object, ```iter_obj``` by calling ```iter()``` on the iterable.\n",
        "\n",
        "## Iterables\n",
        "* Examples are lists, strings, dictionaries, file connections.\n",
        "* It's an object with an associated ```iter()``` method.\n",
        "* An iterable is an object that can return an iterator.\n",
        "* Applying ```iter()``` to an iterable creates an iterator.\n",
        "\n",
        "## Creating and Iterator from an Iterable\n",
        "1. From the iterable object, let's say, a list, dictionary, string, file, we create the iterator with ```iter()```.\n",
        "2. Using ```next()``` over the iterator object will return each element of the iterable object, one by one.\n"
      ]
    },
    {
      "cell_type": "code",
      "metadata": {
        "id": "_bFJ4iGZS8SC",
        "colab_type": "code",
        "outputId": "0b92342e-b3d1-4db8-93e0-30e7c072c607",
        "colab": {
          "base_uri": "https://localhost:8080/",
          "height": 357
        }
      },
      "source": [
        "# Simple iteration\n",
        "wizards = ['Harry', 'Rony', 'Hermione']\n",
        "for wizard in wizards: # Iterate over list\n",
        "    print(wizard)\n",
        "    for letter in wizard: # Iterate over string\n",
        "        print(letter)"
      ],
      "execution_count": 0,
      "outputs": [
        {
          "output_type": "stream",
          "text": [
            "Harry\n",
            "H\n",
            "a\n",
            "r\n",
            "r\n",
            "y\n",
            "Rony\n",
            "R\n",
            "o\n",
            "n\n",
            "y\n",
            "Hermione\n",
            "H\n",
            "e\n",
            "r\n",
            "m\n",
            "i\n",
            "o\n",
            "n\n",
            "e\n"
          ],
          "name": "stdout"
        }
      ]
    },
    {
      "cell_type": "code",
      "metadata": {
        "id": "sWtq1zg5Utus",
        "colab_type": "code",
        "outputId": "2be77047-10d1-4ee2-d184-878a0a16cda3",
        "colab": {
          "base_uri": "https://localhost:8080/",
          "height": 153
        }
      },
      "source": [
        "# Creating and iterator from an iterable\n",
        "country = 'BR' # Iterable object\n",
        "\n",
        "# Using next()\n",
        "iterator = iter(country) # Creates iterator\n",
        "print(\"Using next()\")\n",
        "print(next(iterator))\n",
        "print(next(iterator))\n",
        "\n",
        "# Using for loop (uses next() internally)\n",
        "iterator = iter(country)\n",
        "print(\"Using for loop\")\n",
        "for letter in iterator:\n",
        "    print(letter)"
      ],
      "execution_count": 0,
      "outputs": [
        {
          "output_type": "stream",
          "text": [
            "Using next()\n",
            "B\n",
            "R\n",
            "Using for loop\n",
            "B\n",
            "R\n",
            "Using *\n",
            "B R\n"
          ],
          "name": "stdout"
        }
      ]
    },
    {
      "cell_type": "markdown",
      "metadata": {
        "id": "UgdZuCp1XxQy",
        "colab_type": "text"
      },
      "source": [
        "## Using * to iterate all elements at once\n",
        "* Also called splat operator.\n",
        "* Using the * character before the iterator object will make the iteration over all elements of the iterable object at once."
      ]
    },
    {
      "cell_type": "code",
      "metadata": {
        "id": "vUYivF9fX0Y4",
        "colab_type": "code",
        "outputId": "33b6ea55-ea65-412f-bfb2-f24571054a9a",
        "colab": {
          "base_uri": "https://localhost:8080/",
          "height": 34
        }
      },
      "source": [
        "# Using * (iterate all at once)\n",
        "name = 'João Gross' # Iterable object\n",
        "iterator = iter(name) # Iterator object\n",
        "print(*iterator) # Iterate all at once"
      ],
      "execution_count": 0,
      "outputs": [
        {
          "output_type": "stream",
          "text": [
            "J o ã o   G r o s s\n"
          ],
          "name": "stdout"
        }
      ]
    },
    {
      "cell_type": "code",
      "metadata": {
        "id": "lFQq4zATYZSv",
        "colab_type": "code",
        "outputId": "6797f82a-a1b2-46c8-bb31-b3023face281",
        "colab": {
          "base_uri": "https://localhost:8080/",
          "height": 51
        }
      },
      "source": [
        "games = {'RPG': 'Ni No Kuni', 'Puzzle': 'Ico'}\n",
        "for key, value in games.items():\n",
        "    print(key, \":\", value)"
      ],
      "execution_count": 0,
      "outputs": [
        {
          "output_type": "stream",
          "text": [
            "RPG : Ni No Kuni\n",
            "Puzzle : Ico\n"
          ],
          "name": "stdout"
        }
      ]
    },
    {
      "cell_type": "code",
      "metadata": {
        "id": "C3YEHyvOaQhD",
        "colab_type": "code",
        "outputId": "6968969c-9f05-4399-8e11-acc4a58efcab",
        "colab": {
          "base_uri": "https://localhost:8080/",
          "height": 102
        }
      },
      "source": [
        "# Iteraing with range()\n",
        "iterator = range(5) # range() create an iterable object\n",
        "for value in iterator:\n",
        "    print(value)"
      ],
      "execution_count": 0,
      "outputs": [
        {
          "output_type": "stream",
          "text": [
            "0\n",
            "1\n",
            "2\n",
            "3\n",
            "4\n"
          ],
          "name": "stdout"
        }
      ]
    },
    {
      "cell_type": "markdown",
      "metadata": {
        "id": "pzrLjgyIbTJa",
        "colab_type": "text"
      },
      "source": [
        "## Using ```enumerate()```\n",
        "* Function that takes any iterable as argument, such as a list.\n",
        "* Creates a list of pairs, each pair with an element of the original iterable and an index.\n",
        "* The ```enumerate()``` object itself is also an iterable and we can iterate over it."
      ]
    },
    {
      "cell_type": "code",
      "metadata": {
        "id": "RLVnsTrub070",
        "colab_type": "code",
        "outputId": "2f064fd3-aae2-4fdc-d500-bfb45b7cbdac",
        "colab": {
          "base_uri": "https://localhost:8080/",
          "height": 187
        }
      },
      "source": [
        "foods = ['hamburguer', 'pasta', 'lasagna', 'soup']\n",
        "e = enumerate(foods)\n",
        "print(\"Type:\", type(e))\n",
        "\n",
        "e_list = list(e)\n",
        "print(\"List:\", e_list)\n",
        "\n",
        "for index, food in enumerate(foods):\n",
        "    print(index, \":\", food)\n",
        "\n",
        "for index, food in enumerate(foods, start=100): # We can set another start value\n",
        "    print(index, \":\", food)"
      ],
      "execution_count": 0,
      "outputs": [
        {
          "output_type": "stream",
          "text": [
            "Type: <class 'enumerate'>\n",
            "List: [(0, 'hamburguer'), (1, 'pasta'), (2, 'lasagna'), (3, 'soup')]\n",
            "0 : hamburguer\n",
            "1 : pasta\n",
            "2 : lasagna\n",
            "3 : soup\n",
            "100 : hamburguer\n",
            "101 : pasta\n",
            "102 : lasagna\n",
            "103 : soup\n"
          ],
          "name": "stdout"
        }
      ]
    },
    {
      "cell_type": "markdown",
      "metadata": {
        "id": "8MrY2Fafc2Cp",
        "colab_type": "text"
      },
      "source": [
        "## Using ```zip()```\n",
        "* Accepts an arbitrary number of iterables and returns an iterator of tuples."
      ]
    },
    {
      "cell_type": "code",
      "metadata": {
        "id": "6sWnFgfodIGU",
        "colab_type": "code",
        "outputId": "7ebf70fa-146b-4d74-b160-2ba43d7af2ef",
        "colab": {
          "base_uri": "https://localhost:8080/",
          "height": 306
        }
      },
      "source": [
        "games = ['GTA V', 'Ico', 'Shadow of the Colossus', 'The Last of Us']\n",
        "ratings = [9.5, 8, 8.3, 10]\n",
        "\n",
        "# Checking type\n",
        "z = zip(games, ratings) # Creates iterator of tuples\n",
        "print('Type:', type(z)) \n",
        "\n",
        "# Creating list from iterator\n",
        "z_list = list(z)\n",
        "print('List:', z_list)\n",
        "\n",
        "print('\\nListing values')\n",
        "for game, rating in zip(games, ratings):\n",
        "    print(game, \",\", rating)\n",
        "\n",
        "print('\\nListing with indexes')\n",
        "for index, pair in enumerate(zip(games, ratings)):\n",
        "    print(index, \"-\", pair[0], \",\", pair[1])\n",
        "\n",
        "# Using * operator\n",
        "z = zip(games, ratings)\n",
        "print(\"\\nAll elements:\", *z)\n",
        "\n",
        "# Unzip elements\n",
        "z = zip(games, ratings)\n",
        "games2, ratings2 = zip(*z)\n",
        "print(\"Unziped:\", games2, ratings2)\n"
      ],
      "execution_count": 0,
      "outputs": [
        {
          "output_type": "stream",
          "text": [
            "Type: <class 'zip'>\n",
            "List: [('GTA V', 9.5), ('Ico', 8), ('Shadow of the Colossus', 8.3), ('The Last of Us', 10)]\n",
            "\n",
            "Listing values\n",
            "GTA V , 9.5\n",
            "Ico , 8\n",
            "Shadow of the Colossus , 8.3\n",
            "The Last of Us , 10\n",
            "\n",
            "Listing with indexes\n",
            "0 - GTA V , 9.5\n",
            "1 - Ico , 8\n",
            "2 - Shadow of the Colossus , 8.3\n",
            "3 - The Last of Us , 10\n",
            "\n",
            "All elements: ('GTA V', 9.5) ('Ico', 8) ('Shadow of the Colossus', 8.3) ('The Last of Us', 10)\n",
            "Unziped: ('GTA V', 'Ico', 'Shadow of the Colossus', 'The Last of Us') (9.5, 8, 8.3, 10)\n"
          ],
          "name": "stdout"
        }
      ]
    },
    {
      "cell_type": "markdown",
      "metadata": {
        "id": "wWw5GLBfiMO2",
        "colab_type": "text"
      },
      "source": [
        "## Using iterators to load large files into memory\n",
        "* If data is too big, it can't be loaded into memory entirely.\n",
        "* A chunk of data can be loaded, processed and discarded. \n",
        "* The process is repeated chunk over chunk until all the data has been analysed."
      ]
    },
    {
      "cell_type": "code",
      "metadata": {
        "id": "QXETINMai8Po",
        "colab_type": "code",
        "colab": {}
      },
      "source": [
        "import pandas as pd\n",
        "\n",
        "result = []\n",
        "for chunk in pd.read_csv('data.csv', chunksize=1000):\n",
        "    result.append(sum(chunk['x']))\n",
        "total = sum(result)\n",
        "\n",
        "print(total)\n"
      ],
      "execution_count": 0,
      "outputs": []
    },
    {
      "cell_type": "code",
      "metadata": {
        "id": "viNSIfnijqiu",
        "colab_type": "code",
        "outputId": "97451d65-9560-4a72-ca42-942643ef16cb",
        "colab": {
          "base_uri": "https://localhost:8080/",
          "height": 34
        }
      },
      "source": [
        "# Using functions, and chunk iterables\n",
        "import pandas as pd\n",
        "\n",
        "def count_entries(csv_file, c_size, colname):\n",
        "    \"\"\"Return a dictionary with counts of\n",
        "    occurrences as value for each key.\"\"\"\n",
        "    counts_dict = {}\n",
        "\n",
        "    # Iterate over the file chunk by chunk\n",
        "    for chunk in pd.read_csv(csv_file, chunksize=c_size):\n",
        "\n",
        "        # Iterate over the column in DataFrame\n",
        "        for entry in chunk[colname]:\n",
        "            if entry in counts_dict.keys():\n",
        "                counts_dict[entry] += 1\n",
        "            else:\n",
        "                counts_dict[entry] = 1\n",
        "\n",
        "    return counts_dict\n",
        "\n",
        "datapath = \"/content/drive/My Drive/Colab Notebooks/datasets/tweets.csv\"\n",
        "result_counts = count_entries(datapath, 10, 'lang')\n",
        "\n",
        "print(result_counts)"
      ],
      "execution_count": 0,
      "outputs": [
        {
          "output_type": "stream",
          "text": [
            "{'en': 97, 'et': 1, 'und': 2}\n"
          ],
          "name": "stdout"
        }
      ]
    },
    {
      "cell_type": "markdown",
      "metadata": {
        "id": "cZWflqXYorAL",
        "colab_type": "text"
      },
      "source": [
        "# List Comprehensions\n",
        "\n",
        "* Let's say you want to create another version of one list that holds all the first list numbers multiplied by 2. What you could do:\n",
        "  1. Create a new empty list;\n",
        "  2. Iterate over the elements of the first list in a for loop;\n",
        "  3. For each element, multiply it by 2;\n",
        "  4. Add the element in the new list.\n",
        "\n",
        "```\n",
        "numbers = [5, 10, 15, 20, 25]\n",
        "number_by_2 = []\n",
        "for number in numbers:\n",
        "    number_by_2.append(number*2)\n",
        "print(number_by_2)\n",
        "> [10, 20, 30, 40, 50]\n",
        "```\n",
        "\n",
        "* It works fine, but it's not very efficient. Also, this approach takes more code space.\n",
        "* A solution is using list comprehensions, and we can perform the task shown above in a single line of code.\n",
        "\n",
        "```\n",
        "numbers = [5, 10, 15, 20, 25]\n",
        "number_by_2 = [number*2 for number in numbers]\n",
        "print(number_by_2)\n",
        "> [10, 20, 30, 40, 50]\n",
        "```\n",
        "\n",
        "## In summary\n",
        "* List comprehension can be used over any iterable object\n",
        "* They collapse for loops for building lists into a single line\n",
        "* Required components\n",
        "  * Iterable object: list, dictionary, string, etc\n",
        "  * Iterator variable that represents the memebrs of iterable\n",
        "  * Output expression\n",
        "  \n",
        "  ```[``` *\\[output expression\\]* ```for``` *iterator variable* ```in``` *iterable*```]```\n",
        "\n",
        "* One of the trade-offs is readability, because long list comprehensions can be difficult to read"
      ]
    },
    {
      "cell_type": "code",
      "metadata": {
        "id": "XEhG0xECqfV9",
        "colab_type": "code",
        "outputId": "eb337788-4ee8-4c32-f143-8485d9b92a58",
        "colab": {
          "base_uri": "https://localhost:8080/",
          "height": 85
        }
      },
      "source": [
        "# Use of list comphrehensions and executoon time\n",
        "\n",
        "import pandas as pd\n",
        "import time\n",
        "\n",
        "numbers = range(10**2)\n",
        "df = pd.DataFrame({\"type\":[], \"time\":[]})\n",
        "\n",
        "for iteration in range(1000):\n",
        "    # Without list comprehension\n",
        "    start = time.time()\n",
        "    numbers_multiplied = []\n",
        "    for number in numbers:\n",
        "        numbers_multiplied.append(number*2)\n",
        "    end = time.time()\n",
        "    df = df.append({\"type\":\"no-comprehension\", \"time\":end-start}, ignore_index=True)\n",
        "\n",
        "    # Without list comprehension\n",
        "    start = time.time()\n",
        "    numbers_multiplied2 = [number*2 for number in numbers]\n",
        "    end = time.time()\n",
        "    df = df.append({\"type\":\"with-comprehension\", \"time\":end-start}, ignore_index=True)\n",
        "\n",
        "print(df.groupby(\"type\").mean())"
      ],
      "execution_count": 0,
      "outputs": [
        {
          "output_type": "stream",
          "text": [
            "                        time\n",
            "type                        \n",
            "no-comprehension    0.000018\n",
            "with-comprehension  0.000009\n"
          ],
          "name": "stdout"
        }
      ]
    },
    {
      "cell_type": "code",
      "metadata": {
        "id": "bFAhoFWd1Yq1",
        "colab_type": "code",
        "outputId": "ee6d53c0-f542-4b52-8513-5870ece3d69a",
        "colab": {
          "base_uri": "https://localhost:8080/",
          "height": 51
        }
      },
      "source": [
        "# List comprehensions in nested for loops\n",
        "\n",
        "random_pairs = []\n",
        "for a in range(0, 3):\n",
        "    for b in range(10,13):\n",
        "        random_pairs.append((a, b))\n",
        "print(random_pairs)\n",
        "\n",
        "random_pairs2 = [(a, b) for a in range(0, 3) for b in range(10,13)]\n",
        "print(random_pairs2)\n"
      ],
      "execution_count": 0,
      "outputs": [
        {
          "output_type": "stream",
          "text": [
            "[(0, 10), (0, 11), (0, 12), (1, 10), (1, 11), (1, 12), (2, 10), (2, 11), (2, 12)]\n",
            "[(0, 10), (0, 11), (0, 12), (1, 10), (1, 11), (1, 12), (2, 10), (2, 11), (2, 12)]\n"
          ],
          "name": "stdout"
        }
      ]
    },
    {
      "cell_type": "code",
      "metadata": {
        "id": "RGWOj14O8c5q",
        "colab_type": "code",
        "outputId": "69ce5649-5a2e-4be7-8aca-a05cb8c07e31",
        "colab": {
          "base_uri": "https://localhost:8080/",
          "height": 187
        }
      },
      "source": [
        "# Creating a matrix n x n\n",
        "size = 10\n",
        "matrix = [[col for col in range(size)] for row in range(size)]\n",
        "\n",
        "# Print matrix\n",
        "for row in matrix:\n",
        "    print(row)\n"
      ],
      "execution_count": 0,
      "outputs": [
        {
          "output_type": "stream",
          "text": [
            "[0, 1, 2, 3, 4, 5, 6, 7, 8, 9]\n",
            "[0, 1, 2, 3, 4, 5, 6, 7, 8, 9]\n",
            "[0, 1, 2, 3, 4, 5, 6, 7, 8, 9]\n",
            "[0, 1, 2, 3, 4, 5, 6, 7, 8, 9]\n",
            "[0, 1, 2, 3, 4, 5, 6, 7, 8, 9]\n",
            "[0, 1, 2, 3, 4, 5, 6, 7, 8, 9]\n",
            "[0, 1, 2, 3, 4, 5, 6, 7, 8, 9]\n",
            "[0, 1, 2, 3, 4, 5, 6, 7, 8, 9]\n",
            "[0, 1, 2, 3, 4, 5, 6, 7, 8, 9]\n",
            "[0, 1, 2, 3, 4, 5, 6, 7, 8, 9]\n"
          ],
          "name": "stdout"
        }
      ]
    },
    {
      "cell_type": "markdown",
      "metadata": {
        "id": "ff-t9IqC8wJ0",
        "colab_type": "text"
      },
      "source": [
        "## Conditionals in comprehensions\n",
        "\n",
        "* Expressions with ```if```\n",
        "* Expressions with ```if``` and ```else```\n",
        "* Use of dictionaries"
      ]
    },
    {
      "cell_type": "code",
      "metadata": {
        "id": "YB6eIriWAn4X",
        "colab_type": "code",
        "outputId": "7d89ef58-649f-41ac-dd18-22c172306e6b",
        "colab": {
          "base_uri": "https://localhost:8080/",
          "height": 425
        }
      },
      "source": [
        "# Using If\n",
        "list_even = [num for num in range(10) if num % 2 == 0]\n",
        "list_odd = [num for num in range(10) if num % 2 == 1]\n",
        "print(\"List even:\", list_even)\n",
        "print(\"List odd:\", list_odd)\n",
        "\n",
        "# Using If-Else\n",
        "list_numbers = [(num, \"even\") if num % 2 == 0 else (num, \"odd\") for num in range(10)]\n",
        "print(\"List numbers:\")\n",
        "for i in list_numbers: print(i)\n",
        "\n",
        "# Using dictionaries\n",
        "fractions = {num: \"*\" if num == 0 else 1/num for num in range(10)}\n",
        "print(\"My dictionary:\")\n",
        "for key, value in fractions.items(): print(key, (\"1/\"+str(key)+\" =\"), value)"
      ],
      "execution_count": 0,
      "outputs": [
        {
          "output_type": "stream",
          "text": [
            "List even: [0, 2, 4, 6, 8]\n",
            "List odd: [1, 3, 5, 7, 9]\n",
            "List numbers:\n",
            "(0, 'even')\n",
            "(1, 'odd')\n",
            "(2, 'even')\n",
            "(3, 'odd')\n",
            "(4, 'even')\n",
            "(5, 'odd')\n",
            "(6, 'even')\n",
            "(7, 'odd')\n",
            "(8, 'even')\n",
            "(9, 'odd')\n",
            "My dictionary:\n",
            "0 1/0 = *\n",
            "1 1/1 = 1.0\n",
            "2 1/2 = 0.5\n",
            "3 1/3 = 0.3333333333333333\n",
            "4 1/4 = 0.25\n",
            "5 1/5 = 0.2\n",
            "6 1/6 = 0.16666666666666666\n",
            "7 1/7 = 0.14285714285714285\n",
            "8 1/8 = 0.125\n",
            "9 1/9 = 0.1111111111111111\n"
          ],
          "name": "stdout"
        }
      ]
    },
    {
      "cell_type": "markdown",
      "metadata": {
        "id": "1TVl-3MKFY9U",
        "colab_type": "text"
      },
      "source": [
        "## Generator expressions\n",
        "* Similar to list comprehension.\n",
        "* It returns a **generator object**, instead of a list when using list comprehension.\n",
        "* A generator object can be iterated over.\n",
        "* Declaration uses ```()``` instead of ```[]```."
      ]
    },
    {
      "cell_type": "code",
      "metadata": {
        "id": "psjynwpkGO1j",
        "colab_type": "code",
        "outputId": "9feba427-4d73-4f02-f3b6-f90681c9301a",
        "colab": {
          "base_uri": "https://localhost:8080/",
          "height": 187
        }
      },
      "source": [
        "# Creating a generator expression - accessing values\n",
        "result = (num for num in range(10))\n",
        "for num in result:\n",
        "    print(num)"
      ],
      "execution_count": 0,
      "outputs": [
        {
          "output_type": "stream",
          "text": [
            "0\n",
            "1\n",
            "2\n",
            "3\n",
            "4\n",
            "5\n",
            "6\n",
            "7\n",
            "8\n",
            "9\n"
          ],
          "name": "stdout"
        }
      ]
    },
    {
      "cell_type": "code",
      "metadata": {
        "id": "F3NTVGKhGZIF",
        "colab_type": "code",
        "outputId": "bd00a959-08c0-44b1-ec8c-63f7012015c7",
        "colab": {
          "base_uri": "https://localhost:8080/",
          "height": 34
        }
      },
      "source": [
        "# Creating a generator expression - creating a list\n",
        "result = (num**10 for num in range(10))\n",
        "print(list(result))"
      ],
      "execution_count": 0,
      "outputs": [
        {
          "output_type": "stream",
          "text": [
            "[0, 1, 2, 3, 4, 5, 6, 7, 8, 9]\n"
          ],
          "name": "stdout"
        }
      ]
    },
    {
      "cell_type": "code",
      "metadata": {
        "id": "Y6hcnNHfGip_",
        "colab_type": "code",
        "outputId": "fd66cd29-f82f-418e-e544-0a17d44e955a",
        "colab": {
          "base_uri": "https://localhost:8080/",
          "height": 1000
        }
      },
      "source": [
        "generator = (num**2 for num in range(100))\n",
        "my_list = []\n",
        "print(\"Start\")\n",
        "while(True):\n",
        "    try:\n",
        "        my_list.append(next(generator))\n",
        "        print(len(my_list), my_list[-1])\n",
        "    except:\n",
        "        print(\"End\")\n",
        "        break"
      ],
      "execution_count": 3,
      "outputs": [
        {
          "output_type": "stream",
          "text": [
            "Start\n",
            "1 0\n",
            "2 1\n",
            "3 4\n",
            "4 9\n",
            "5 16\n",
            "6 25\n",
            "7 36\n",
            "8 49\n",
            "9 64\n",
            "10 81\n",
            "11 100\n",
            "12 121\n",
            "13 144\n",
            "14 169\n",
            "15 196\n",
            "16 225\n",
            "17 256\n",
            "18 289\n",
            "19 324\n",
            "20 361\n",
            "21 400\n",
            "22 441\n",
            "23 484\n",
            "24 529\n",
            "25 576\n",
            "26 625\n",
            "27 676\n",
            "28 729\n",
            "29 784\n",
            "30 841\n",
            "31 900\n",
            "32 961\n",
            "33 1024\n",
            "34 1089\n",
            "35 1156\n",
            "36 1225\n",
            "37 1296\n",
            "38 1369\n",
            "39 1444\n",
            "40 1521\n",
            "41 1600\n",
            "42 1681\n",
            "43 1764\n",
            "44 1849\n",
            "45 1936\n",
            "46 2025\n",
            "47 2116\n",
            "48 2209\n",
            "49 2304\n",
            "50 2401\n",
            "51 2500\n",
            "52 2601\n",
            "53 2704\n",
            "54 2809\n",
            "55 2916\n",
            "56 3025\n",
            "57 3136\n",
            "58 3249\n",
            "59 3364\n",
            "60 3481\n",
            "61 3600\n",
            "62 3721\n",
            "63 3844\n",
            "64 3969\n",
            "65 4096\n",
            "66 4225\n",
            "67 4356\n",
            "68 4489\n",
            "69 4624\n",
            "70 4761\n",
            "71 4900\n",
            "72 5041\n",
            "73 5184\n",
            "74 5329\n",
            "75 5476\n",
            "76 5625\n",
            "77 5776\n",
            "78 5929\n",
            "79 6084\n",
            "80 6241\n",
            "81 6400\n",
            "82 6561\n",
            "83 6724\n",
            "84 6889\n",
            "85 7056\n",
            "86 7225\n",
            "87 7396\n",
            "88 7569\n",
            "89 7744\n",
            "90 7921\n",
            "91 8100\n",
            "92 8281\n",
            "93 8464\n",
            "94 8649\n",
            "95 8836\n",
            "96 9025\n",
            "97 9216\n",
            "98 9409\n",
            "99 9604\n",
            "100 9801\n",
            "End\n"
          ],
          "name": "stdout"
        }
      ]
    },
    {
      "cell_type": "markdown",
      "metadata": {
        "id": "zzVYNOciOIpZ",
        "colab_type": "text"
      },
      "source": [
        "## Generator Functions\n",
        "* Produces generator objects when called\n",
        "* Defined like a regular function using ```def```\n",
        "* Yields a sequence of values instead of returning a single value\n",
        "  * Generates a value with ```yield``` keyword"
      ]
    },
    {
      "cell_type": "code",
      "metadata": {
        "id": "BNWpHBgzPDlt",
        "colab_type": "code",
        "colab": {
          "base_uri": "https://localhost:8080/",
          "height": 221
        },
        "outputId": "18adde23-14a5-4749-b0da-9adbe0df3fc7"
      },
      "source": [
        "def create_squares(n):\n",
        "    \"\"\"Generate squares from 1 to n (included).\"\"\"\n",
        "    square = 1\n",
        "    while square <= n:\n",
        "        yield square**2\n",
        "        square += 1\n",
        "\n",
        "result = create_squares(10)\n",
        "print(\"Type:\", type(result))\n",
        "print(\"List of squares:\")\n",
        "for index, square in enumerate(result, start=1):\n",
        "    print(index, square)\n"
      ],
      "execution_count": 9,
      "outputs": [
        {
          "output_type": "stream",
          "text": [
            "Type: <class 'generator'>\n",
            "List of squares:\n",
            "1 1\n",
            "2 4\n",
            "3 9\n",
            "4 16\n",
            "5 25\n",
            "6 36\n",
            "7 49\n",
            "8 64\n",
            "9 81\n",
            "10 100\n"
          ],
          "name": "stdout"
        }
      ]
    },
    {
      "cell_type": "code",
      "metadata": {
        "id": "HMJVsVYyV6sy",
        "colab_type": "code",
        "colab": {
          "base_uri": "https://localhost:8080/",
          "height": 54
        },
        "outputId": "8b60c0ca-8a64-4c34-967a-abf73a2650e7"
      },
      "source": [
        "# Case study - Opening file and reading chunks of data\n",
        "with open('/content/drive/My Drive/Colab Notebooks/datasets/world_ind_pop_data.csv') as file:\n",
        "\n",
        "    # Skip the column names\n",
        "    file.readline()\n",
        "\n",
        "    counts_dict = {}\n",
        "    for j in range(1000):\n",
        "        line = file.readline().split(',')\n",
        "        first_col = line[0]\n",
        "        if first_col in counts_dict.keys():\n",
        "            counts_dict[first_col] += 1\n",
        "        else:\n",
        "            counts_dict[first_col] = 1\n",
        "\n",
        "print(counts_dict)"
      ],
      "execution_count": 13,
      "outputs": [
        {
          "output_type": "stream",
          "text": [
            "{'Arab World': 5, 'Caribbean small states': 5, 'Central Europe and the Baltics': 5, 'East Asia & Pacific (all income levels)': 5, 'East Asia & Pacific (developing only)': 5, 'Euro area': 5, 'Europe & Central Asia (all income levels)': 5, 'Europe & Central Asia (developing only)': 5, 'European Union': 5, 'Fragile and conflict affected situations': 5, 'Heavily indebted poor countries (HIPC)': 5, 'High income': 5, 'High income: nonOECD': 5, 'High income: OECD': 5, 'Latin America & Caribbean (all income levels)': 5, 'Latin America & Caribbean (developing only)': 5, 'Least developed countries: UN classification': 5, 'Low & middle income': 5, 'Low income': 5, 'Lower middle income': 5, 'Middle East & North Africa (all income levels)': 5, 'Middle East & North Africa (developing only)': 5, 'Middle income': 5, 'North America': 5, 'OECD members': 5, 'Other small states': 5, 'Pacific island small states': 5, 'Small states': 5, 'South Asia': 5, 'Sub-Saharan Africa (all income levels)': 5, 'Sub-Saharan Africa (developing only)': 5, 'Upper middle income': 5, 'World': 4, 'Afghanistan': 4, 'Albania': 4, 'Algeria': 4, 'American Samoa': 4, 'Andorra': 4, 'Angola': 4, 'Antigua and Barbuda': 4, 'Argentina': 4, 'Armenia': 4, 'Aruba': 4, 'Australia': 4, 'Austria': 4, 'Azerbaijan': 4, '\"Bahamas': 4, 'Bahrain': 4, 'Bangladesh': 4, 'Barbados': 4, 'Belarus': 4, 'Belgium': 4, 'Belize': 4, 'Benin': 4, 'Bermuda': 4, 'Bhutan': 4, 'Bolivia': 4, 'Bosnia and Herzegovina': 4, 'Botswana': 4, 'Brazil': 4, 'Brunei Darussalam': 4, 'Bulgaria': 4, 'Burkina Faso': 4, 'Burundi': 4, 'Cabo Verde': 4, 'Cambodia': 4, 'Cameroon': 4, 'Canada': 4, 'Cayman Islands': 4, 'Central African Republic': 4, 'Chad': 4, 'Channel Islands': 4, 'Chile': 4, 'China': 4, 'Colombia': 4, 'Comoros': 4, '\"Congo': 8, 'Costa Rica': 4, \"Cote d'Ivoire\": 4, 'Croatia': 4, 'Cuba': 4, 'Curacao': 4, 'Cyprus': 4, 'Czech Republic': 4, 'Denmark': 4, 'Djibouti': 4, 'Dominica': 4, 'Dominican Republic': 4, 'Ecuador': 4, '\"Egypt': 4, 'El Salvador': 4, 'Equatorial Guinea': 4, 'Eritrea': 4, 'Estonia': 4, 'Ethiopia': 4, 'Faeroe Islands': 4, 'Fiji': 4, 'Finland': 4, 'France': 4, 'French Polynesia': 4, 'Gabon': 4, '\"Gambia': 4, 'Georgia': 4, 'Germany': 4, 'Ghana': 4, 'Greece': 4, 'Greenland': 4, 'Grenada': 4, 'Guam': 4, 'Guatemala': 4, 'Guinea': 4, 'Guinea-Bissau': 4, 'Guyana': 4, 'Haiti': 4, 'Honduras': 4, '\"Hong Kong SAR': 4, 'Hungary': 4, 'Iceland': 4, 'India': 4, 'Indonesia': 4, '\"Iran': 4, 'Iraq': 4, 'Ireland': 4, 'Isle of Man': 4, 'Israel': 4, 'Italy': 4, 'Jamaica': 4, 'Japan': 4, 'Jordan': 4, 'Kazakhstan': 4, 'Kenya': 4, 'Kiribati': 4, '\"Korea': 8, 'Kuwait': 4, 'Kyrgyz Republic': 4, 'Lao PDR': 4, 'Latvia': 4, 'Lebanon': 4, 'Lesotho': 4, 'Liberia': 4, 'Libya': 4, 'Liechtenstein': 4, 'Lithuania': 4, 'Luxembourg': 4, '\"Macao SAR': 4, '\"Macedonia': 4, 'Madagascar': 4, 'Malawi': 4, 'Malaysia': 4, 'Maldives': 4, 'Mali': 4, 'Malta': 4, 'Marshall Islands': 4, 'Mauritania': 4, 'Mauritius': 4, 'Mexico': 4, '\"Micronesia': 4, 'Moldova': 4, 'Monaco': 4, 'Mongolia': 4, 'Montenegro': 4, 'Morocco': 4, 'Mozambique': 4, 'Myanmar': 4, 'Namibia': 4, 'Nepal': 4, 'Netherlands': 4, 'New Caledonia': 4, 'New Zealand': 4, 'Nicaragua': 4, 'Niger': 4, 'Nigeria': 4, 'Northern Mariana Islands': 4, 'Norway': 4, 'Oman': 4, 'Pakistan': 4, 'Palau': 4, 'Panama': 4, 'Papua New Guinea': 4, 'Paraguay': 4, 'Peru': 4, 'Philippines': 4, 'Poland': 4, 'Portugal': 4, 'Puerto Rico': 4, 'Qatar': 4, 'Romania': 4, 'Russian Federation': 4, 'Rwanda': 4, 'Samoa': 4, 'San Marino': 4, 'Sao Tome and Principe': 4, 'Saudi Arabia': 4, 'Senegal': 4, 'Seychelles': 4, 'Sierra Leone': 4, 'Singapore': 4, 'Slovak Republic': 4, 'Slovenia': 4, 'Solomon Islands': 4, 'Somalia': 4, 'South Africa': 4, 'South Sudan': 4, 'Spain': 4, 'Sri Lanka': 4, 'St. Kitts and Nevis': 4, 'St. Lucia': 4, 'St. Vincent and the Grenadines': 4, 'Sudan': 4, 'Suriname': 4, 'Swaziland': 4, 'Sweden': 4, 'Switzerland': 4, 'Syrian Arab Republic': 4, 'Tajikistan': 4, 'Tanzania': 4, 'Thailand': 4, 'Timor-Leste': 4, 'Togo': 4, 'Tonga': 4, 'Trinidad and Tobago': 4, 'Tunisia': 4, 'Turkey': 4, 'Turkmenistan': 4, 'Turks and Caicos Islands': 4, 'Tuvalu': 4, 'Uganda': 4, 'Ukraine': 4, 'United Arab Emirates': 4, 'United Kingdom': 4, 'United States': 4, 'Uruguay': 4, 'Uzbekistan': 4, 'Vanuatu': 4, '\"Venezuela': 4, 'Vietnam': 4, 'Virgin Islands (U.S.)': 4, '\"Yemen': 4, 'Zambia': 4, 'Zimbabwe': 4}\n"
          ],
          "name": "stdout"
        }
      ]
    },
    {
      "cell_type": "code",
      "metadata": {
        "id": "NZFRPuQiakyf",
        "colab_type": "code",
        "colab": {}
      },
      "source": [
        "# Case study - Using generator function\n",
        "\n",
        "def read_large_file(file_object):\n",
        "    \"\"\"A generator function to read a large file lazily.\"\"\"\n",
        "    while True:\n",
        "        data = file_object.readline()\n",
        "        if not data:\n",
        "            break\n",
        "        yield data\n",
        "\n",
        "counts_dict = {}\n",
        "with open('/content/drive/My Drive/Colab Notebooks/datasets/world_ind_pop_data.csv') as file:\n",
        "    \n",
        "    # Iterate over the generator function\n",
        "    for line in read_large_file(file):\n",
        "\n",
        "        row = line.split(',')\n",
        "        first_col = row[0]\n",
        "\n",
        "        if first_col in counts_dict.keys():\n",
        "            counts_dict[first_col] += 1\n",
        "        else:\n",
        "            counts_dict[first_col] = 1 \n",
        "\n",
        "# Print           \n",
        "for key, count in counts_dict.items():\n",
        "    print(key, \":\", count)"
      ],
      "execution_count": 0,
      "outputs": []
    },
    {
      "cell_type": "code",
      "metadata": {
        "id": "_Uxd9vNJfQQZ",
        "colab_type": "code",
        "colab": {
          "base_uri": "https://localhost:8080/",
          "height": 668
        },
        "outputId": "888e830f-7fa7-425f-98ad-0f6023276cf4"
      },
      "source": [
        "# Case Study - Using streaming data chunk by chunk and list comprehension\n",
        "def plot_pop(filename, country_code):\n",
        "\n",
        "    # Initialize reader object\n",
        "    urb_pop_reader = pd.read_csv(filename, chunksize=1000)\n",
        "    data = pd.DataFrame()\n",
        "    \n",
        "    # Iterate over each DataFrame chunk\n",
        "    for df_urb_pop in urb_pop_reader:\n",
        "        df_pop_ceb = df_urb_pop[df_urb_pop['CountryCode'] == country_code]\n",
        "\n",
        "        # Zip DataFrame columns of interest\n",
        "        pops = zip(df_pop_ceb['Total Population'],\n",
        "                    df_pop_ceb['Urban population (% of total)'])\n",
        "        pops_list = list(pops)\n",
        "\n",
        "        # Use list comprehension to create new DataFrame column 'Total Urban Population'\n",
        "        df_pop_ceb['Total Urban Population'] = [int(tup[0] * tup[1] * 0.01) for tup in pops_list]\n",
        "    \n",
        "        # Append DataFrame chunk to data\n",
        "        data = data.append(df_pop_ceb)\n",
        "\n",
        "    # Plot urban population data\n",
        "    data.plot(kind='scatter', x='Year', y='Total Urban Population')\n",
        "    plt.show()\n",
        "\n",
        "# Set the filename\n",
        "filename = '/content/drive/My Drive/Colab Notebooks/datasets/world_ind_pop_data.csv'\n",
        "plot_pop(filename, 'CEB')\n",
        "plot_pop(filename, 'ARB')"
      ],
      "execution_count": 37,
      "outputs": [
        {
          "output_type": "stream",
          "text": [
            "/usr/local/lib/python3.6/dist-packages/ipykernel_launcher.py:18: SettingWithCopyWarning: \n",
            "A value is trying to be set on a copy of a slice from a DataFrame.\n",
            "Try using .loc[row_indexer,col_indexer] = value instead\n",
            "\n",
            "See the caveats in the documentation: https://pandas.pydata.org/pandas-docs/stable/user_guide/indexing.html#returning-a-view-versus-a-copy\n"
          ],
          "name": "stderr"
        },
        {
          "output_type": "display_data",
          "data": {
            "image/png": "[encoded data removed]",
            "text/plain": [
              "<Figure size 432x288 with 1 Axes>"
            ]
          },
          "metadata": {
            "tags": [],
            "needs_background": "light"
          }
        },
        {
          "output_type": "display_data",
          "data": {
            "image/png": "[encoded data removed]",
            "text/plain": [
              "<Figure size 432x288 with 1 Axes>"
            ]
          },
          "metadata": {
            "tags": [],
            "needs_background": "light"
          }
        }
      ]
    },
    {
      "cell_type": "markdown",
      "metadata": {
        "id": "q-lMjsAlf7Xy",
        "colab_type": "text"
      },
      "source": [
        "# Course conclusion - What we have learned\n",
        "* User-defined functions\n",
        "* Iterators\n",
        "* List comprehensions\n",
        "* Generators"
      ]
    }
  ]
}