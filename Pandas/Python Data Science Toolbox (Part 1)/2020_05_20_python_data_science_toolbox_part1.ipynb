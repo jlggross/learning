{
  "nbformat": 4,
  "nbformat_minor": 0,
  "metadata": {
    "colab": {
      "name": "2020-05-20-python-data-science-toolbox-part1.ipynb",
      "provenance": [],
      "collapsed_sections": [],
      "toc_visible": true
    },
    "kernelspec": {
      "name": "python3",
      "display_name": "Python 3"
    }
  },
  "cells": [
    {
      "cell_type": "markdown",
      "metadata": {
        "id": "ewZiU8udaCpz",
        "colab_type": "text"
      },
      "source": [
        "# PyThon Data Science Toolbox (Part 1)\n",
        "* Link: https://learn.datacamp.com/courses/python-data-science-toolbox-part-1\n"
      ]
    },
    {
      "cell_type": "markdown",
      "metadata": {
        "id": "X5c_O2m1CaNz",
        "colab_type": "text"
      },
      "source": [
        "## Course Description\n",
        "\n",
        "It's time to push forward and develop your Python chops even further. There are tons of fantastic functions in Python and its library ecosystem. However, as a data scientist, you'll constantly need to write your own functions to solve problems that are dictated by your data. You will learn the art of function writing in this first Python Data Science Toolbox course. You'll come out of this course being able to write your very own custom functions, complete with multiple parameters and multiple return values, along with default arguments and variable-length arguments. You'll gain insight into scoping in Python and be able to write lambda functions and handle errors in your function writing practice. And you'll wrap up each chapter by using your new skills to write functions that analyze Twitter DataFrames."
      ]
    },
    {
      "cell_type": "markdown",
      "metadata": {
        "id": "c9IfvlHMnWEN",
        "colab_type": "text"
      },
      "source": [
        "## Course Agenda - What you will learn\n",
        "* **Functions**\n",
        "  * Functions with and without parameters.\n",
        "  * Functions with and without return values.\n",
        "  * Functions with multiple arguments.\n",
        "  * Functions with multiple return values.\n",
        "  * Functions with default arguments.\n",
        "  * Functions that accept an arbitrary number of parameters (```*args``` and ```*kwargs```).\n",
        "* **Function usage in data science**\n",
        "  * Code examples \n",
        "* **Other functions features**\n",
        "  * Nested functions\n",
        "  * Lamba functions / Anonymous functions\n",
        "  * Error-handling within functions"
      ]
    },
    {
      "cell_type": "markdown",
      "metadata": {
        "id": "D2Z6w5TiCgom",
        "colab_type": "text"
      },
      "source": [
        "# Chapter 1 - Writing your own functions\n",
        "\n",
        "In this chapter, you'll learn how to write simple functions, as well as functions that accept multiple arguments and return multiple values. You'll also have the opportunity to apply these new skills to questions commonly encountered by data scientists."
      ]
    },
    {
      "cell_type": "markdown",
      "metadata": {
        "id": "bEU0KzHlnn3g",
        "colab_type": "text"
      },
      "source": [
        "## User-defined functions"
      ]
    },
    {
      "cell_type": "markdown",
      "metadata": {
        "id": "6qF4xcx3n1Bv",
        "colab_type": "text"
      },
      "source": [
        "### Defining functions"
      ]
    },
    {
      "cell_type": "code",
      "metadata": {
        "id": "019qHi7jbJb1",
        "colab_type": "code",
        "colab": {
          "base_uri": "https://localhost:8080/",
          "height": 119
        },
        "outputId": "8e5557e6-90ce-4f07-ea06-2e73dba66d2d"
      },
      "source": [
        "# Defining functions\n",
        "\n",
        "def square_noarg_noreturn():\n",
        "    '''Case 1 - Function with no arguments and no return'''\n",
        "    new_value = 4 ** 2\n",
        "    print(new_value)\n",
        "\n",
        "def square_noarg_withreturn():\n",
        "    '''Case 2 - Function with no arguments and with return'''\n",
        "    new_value = 4 ** 2\n",
        "    return new_value\n",
        "\n",
        "def square_witharg_withreturn(value):\n",
        "    '''Case 3 - Function with 1 argument and with return'''\n",
        "    new_value = value ** 2\n",
        "    return new_value\n",
        "\n",
        "def square_withStdarg_withreturn(value=1): \n",
        "    '''Case 4 - Function with default argument value and with return'''\n",
        "    new_value = value ** 2\n",
        "    return new_value\n",
        "\n",
        "print(\"Case 1 - square_noarg_noreturn(): \")\n",
        "square_noarg_noreturn()\n",
        "print(\"Case 2 - square_noarg_withreturn():\", square_noarg_withreturn())\n",
        "print(\"Case 3 - square_witharg_withreturn(5):\", square_witharg_withreturn(5))\n",
        "print(\"Case 4.1 - square_withStdarg_withreturn():\", square_withStdarg_withreturn())\n",
        "print(\"Case 4.2 - square_withStdarg_withreturn(3):\", square_withStdarg_withreturn(3))\n"
      ],
      "execution_count": 1,
      "outputs": [
        {
          "output_type": "stream",
          "text": [
            "Case 1 - square_noarg_noreturn(): \n",
            "16\n",
            "Case 2 - square_noarg_withreturn(): 16\n",
            "Case 3 - square_witharg_withreturn(5): 25\n",
            "Case 4.1 - square_withStdarg_withreturn(): 1\n",
            "Case 4.2 - square_withStdarg_withreturn(3): 9\n"
          ],
          "name": "stdout"
        }
      ]
    },
    {
      "cell_type": "markdown",
      "metadata": {
        "id": "i-dx4Nv0d3cW",
        "colab_type": "text"
      },
      "source": [
        "### Docstrings\n",
        "* Docstrings is a way to make comments on your code in multiple lines. \n",
        "* It can be used as documentation to describe function behavior and to make importante notes inside the code.\n",
        "* To use Docstrings simply put text between use triple double quotes \"\"\" \n",
        "* Example:\n",
        "\n",
        "```\n",
        "\"\"\"\n",
        "This is\n",
        "a multiline\n",
        "comment\n",
        "\"\"\"\n",
        "\n",
        "# This is a single line comment\n",
        "```"
      ]
    },
    {
      "cell_type": "markdown",
      "metadata": {
        "id": "c7wm8bDNk18H",
        "colab_type": "text"
      },
      "source": [
        "## Multiple Parameters and Return Values\n",
        "\n",
        "* **Parameters**: A function can have multiple parameters. Each parameter has it's own name. Parameters have a defined order. Let's assume a you define a function as ```def my_func(value1, value2, value3): ... ```. We can call this function in different ways. \n",
        "  * Calling the function as ```my_func(2, 4, 8)```, will make ```value1 = 2```, ```value2 = 4``` and ```value3 = 8```.\n",
        "  * Another way is to call the function as ```my_func(value2=2, value3=4, value1=8)```, which makes ```value1 = 8```, ```value2 = 2```, ```value3 = 4```.\n"
      ]
    },
    {
      "cell_type": "markdown",
      "metadata": {
        "id": "-aYudYPSoAmt",
        "colab_type": "text"
      },
      "source": [
        "### Multiple function parameters"
      ]
    },
    {
      "cell_type": "code",
      "metadata": {
        "id": "4eRA5oMok8sx",
        "colab_type": "code",
        "colab": {
          "base_uri": "https://localhost:8080/",
          "height": 85
        },
        "outputId": "04c99d16-4e2c-46e7-fe64-c730cd210cfd"
      },
      "source": [
        "# Multiple Parameters\n",
        "\n",
        "def raise_to_power(value1, value2):\n",
        "    \"\"\"Raise value1 to the power of value2.\"\"\"\n",
        "    new_value = value1 ** value2\n",
        "    return new_value\n",
        "\n",
        "print(\"Example 1 - raise_to_power(3, 2):\", raise_to_power(3, 2))\n",
        "print(\"Example 2 - raise_to_power(2, 3):\", raise_to_power(2, 3))\n",
        "print(\"Example 3 - raise_to_power(value1=3, value2=2):\", raise_to_power(value1=3, value2=2))\n",
        "print(\"Example 4 - raise_to_power(value2=3, value1=2):\", raise_to_power(value2=3, value1=2))"
      ],
      "execution_count": null,
      "outputs": [
        {
          "output_type": "stream",
          "text": [
            "Example 1 - raise_to_power(3, 2): 9\n",
            "Example 2 - raise_to_power(2, 3): 8\n",
            "Example 3 - raise_to_power(value1=3, value2=2): 9\n",
            "Example 4 - raise_to_power(value2=3, value1=2): 8\n"
          ],
          "name": "stdout"
        }
      ]
    },
    {
      "cell_type": "markdown",
      "metadata": {
        "id": "o5F5Lx3pq2D5",
        "colab_type": "text"
      },
      "source": [
        "### Multiple Returns\n",
        "* **Returns**: To return multiple values we use tuples."
      ]
    },
    {
      "cell_type": "markdown",
      "metadata": {
        "id": "okla09ucoI0v",
        "colab_type": "text"
      },
      "source": [
        "#### Tuples\n",
        "  * **Definition**: Contains multiples values, are immutable (can't be changed).\n",
        "  * **Creating tuples**: Tuples are constructed using parentheses (). Example: ```my_typle = (10, 20, 40)```.\n",
        "  * **Accessing values, first way**: To access tuples values we can assign it to several variables. Example: ```val1, val2, val3 = my_tuples```, which makes ```val1 = 10```, ```val2 = 20``` and ```val3 = 40```.\n",
        "    * Note that to assign a tuple to several variables we have to take into consideration the tuple's order of values. That's why in the example above ```val1``` has value ```10``` instead of ```20```.\n",
        "  * **Accessing values, second way**: We can access tuples values the same way we do for lists. Example: ```my_typle[2]``` returns value ```40```."
      ]
    },
    {
      "cell_type": "code",
      "metadata": {
        "id": "c0u2s_vilh5H",
        "colab_type": "code",
        "colab": {
          "base_uri": "https://localhost:8080/",
          "height": 51
        },
        "outputId": "7beb25e5-717d-4977-986a-6623a71f12b7"
      },
      "source": [
        "# Tuples\n",
        "\n",
        "value1 = 10\n",
        "value2 = 20\n",
        "value3 = 40\n",
        "first_tuple = (value1, value2, value3)\n",
        "print(\"first_tuple = (\", first_tuple[0], \",\", first_tuple[1], \",\", first_tuple[2],\")\")\n",
        "\n",
        "second_tuple = (13, 54, 30)\n",
        "a, b, c = second_tuple\n",
        "print(\"second_tuple = (\", a, \",\", b, \",\", c,\")\")"
      ],
      "execution_count": null,
      "outputs": [
        {
          "output_type": "stream",
          "text": [
            "first_tuple = ( 10 , 20 , 40 )\n",
            "second_tuple = ( 13 , 54 , 30 )\n"
          ],
          "name": "stdout"
        }
      ]
    },
    {
      "cell_type": "code",
      "metadata": {
        "id": "-Z-aDNuJq8AS",
        "colab_type": "code",
        "colab": {
          "base_uri": "https://localhost:8080/",
          "height": 34
        },
        "outputId": "47329132-0f79-4e18-d669-f17ee4050001"
      },
      "source": [
        "# Multiple Returns\n",
        "\n",
        "def sum_diff(value1, value2):\n",
        "    \"\"\"Makes sum and different of value1 and value2.\"\"\"\n",
        "    my_sum = value1 + value2\n",
        "    my_diff = value1 - value2\n",
        "\n",
        "    new_tuple = (my_sum, my_diff)\n",
        "    return new_tuple\n",
        "\n",
        "result = sum_diff(10, 2)\n",
        "print(\"sum_diff(10, 2):\", result)"
      ],
      "execution_count": null,
      "outputs": [
        {
          "output_type": "stream",
          "text": [
            "sum_diff(10, 2): (12, 8)\n"
          ],
          "name": "stdout"
        }
      ]
    },
    {
      "cell_type": "markdown",
      "metadata": {
        "id": "3pLQkQSHDGbG",
        "colab_type": "text"
      },
      "source": [
        "## Bringing it all together\n",
        "\n",
        "You've got your first taste of writing your own functions in the previous exercises. You've learned how to add parameters to your own function definitions, return a value or multiple values with tuples, and how to call the functions you've defined.\n",
        "\n",
        "In this and the following exercise, you will bring together all these concepts and apply them to a simple data science problem. You will load a dataset and develop functionalities to extract simple insights from the data.\n",
        "\n",
        "For this exercise, your goal is to recall how to load a dataset into a DataFrame. The dataset contains Twitter data and you will iterate over entries in a column to build a dictionary in which the keys are the names of languages and the values are the number of tweets in the given language. The file `tweets.csv` is available in your current directory."
      ]
    },
    {
      "cell_type": "code",
      "metadata": {
        "id": "gaL5kB_9unT8",
        "colab_type": "code",
        "colab": {
          "base_uri": "https://localhost:8080/",
          "height": 34
        },
        "outputId": "3cbc1250-22e4-45b3-b608-e9bb0e0b1912"
      },
      "source": [
        "import pandas as pd\n",
        "\n",
        "def count_entries(df, col_name):\n",
        "    # Initialize an empty dictionary\n",
        "    langs_count = {} \n",
        "\n",
        "    for entry in df[col_name]:\n",
        "        # If the language is in langs_count, add 1 \n",
        "        if entry in langs_count.keys():\n",
        "            langs_count[entry] += 1\n",
        "        # Else add the language to langs_count, set the value to 1\n",
        "        else:\n",
        "            langs_count[entry] = 1\n",
        "\n",
        "    return langs_count\n",
        "\n",
        "# Import Twitter data as DataFrame: df\n",
        "twitter_df = pd.read_csv(\"/content/drive/My Drive/Colab Notebooks/Course - Python Data Science Toolbox - Part 1/tweets.csv\")\n",
        "\n",
        "result = count_entries(twitter_df, \"lang\")\n",
        "\n",
        "# Print the populated dictionary\n",
        "print(result)\n"
      ],
      "execution_count": null,
      "outputs": [
        {
          "output_type": "stream",
          "text": [
            "{'en': 97, 'et': 1, 'und': 2}\n"
          ],
          "name": "stdout"
        }
      ]
    },
    {
      "cell_type": "markdown",
      "metadata": {
        "id": "zCHakNETDTp4",
        "colab_type": "text"
      },
      "source": [
        "# Chapter 2 - Default arguments, variable-length arguments and scope\n",
        "\n",
        "In this chapter, you'll learn to write functions with default arguments so that the user doesn't always need to specify them, and variable-length arguments so they can pass an arbitrary number of arguments on to your functions. You'll also learn about the essential concept of scope."
      ]
    },
    {
      "cell_type": "markdown",
      "metadata": {
        "id": "CSAFZwqkhgKr",
        "colab_type": "text"
      },
      "source": [
        "## Scope and user-defined functions"
      ]
    },
    {
      "cell_type": "markdown",
      "metadata": {
        "id": "BiUiE5tQDj4N",
        "colab_type": "text"
      },
      "source": [
        "### Overview\n",
        "* Not all objects are accessible everywhere in a script\n",
        "* Scope is a part of the program where an object or name may be\n",
        "accessible\n",
        "  * **Global scope**: dened in the main body of a script\n",
        "  * **Local scope**: dened inside a function\n",
        "  * **Built-in scope**: names in the pre-dened built-ins module"
      ]
    },
    {
      "cell_type": "code",
      "metadata": {
        "id": "beXNPmyyiWAS",
        "colab_type": "code",
        "colab": {
          "base_uri": "https://localhost:8080/",
          "height": 248
        },
        "outputId": "3d2fba4a-236c-4976-ff84-dde0f4dbb99e"
      },
      "source": [
        "# Testing scopes: local x global (1)\n",
        "\n",
        "global_numerator = 10\n",
        "print(\"Test 1 - Global Variable: \", global_numerator)\n",
        "\n",
        "def divide_by_2(value):\n",
        "    \"\"\"Returns the value divided by 2\"\"\"\n",
        "    local_division = value / 2\n",
        "    print(\"Test 2 - Local Variable: \", local_division)\n",
        "    return local_division\n",
        "\n",
        "divide_by_2(global_numerator)\n",
        "print(\"Test 3 - Global Variable: \", global_numerator)\n",
        "print(\"Test 4 - Local Variable: \", local_division) # twrows error, variable not accesible\n"
      ],
      "execution_count": null,
      "outputs": [
        {
          "output_type": "stream",
          "text": [
            "Test 1 - Global Variable:  10\n",
            "Test 2 - Local Variable:  5.0\n",
            "Test 3 - Global Variable:  10\n"
          ],
          "name": "stdout"
        },
        {
          "output_type": "error",
          "ename": "NameError",
          "evalue": "ignored",
          "traceback": [
            "\u001b[0;31m---------------------------------------------------------------------------\u001b[0m",
            "\u001b[0;31mNameError\u001b[0m                                 Traceback (most recent call last)",
            "\u001b[0;32m<ipython-input-3-af0e8abd4c0b>\u001b[0m in \u001b[0;36m<module>\u001b[0;34m()\u001b[0m\n\u001b[1;32m     10\u001b[0m \u001b[0mdivide_by_2\u001b[0m\u001b[0;34m(\u001b[0m\u001b[0mglobal_numerator\u001b[0m\u001b[0;34m)\u001b[0m\u001b[0;34m\u001b[0m\u001b[0;34m\u001b[0m\u001b[0m\n\u001b[1;32m     11\u001b[0m \u001b[0mprint\u001b[0m\u001b[0;34m(\u001b[0m\u001b[0;34m\"Test 3 - Global Variable: \"\u001b[0m\u001b[0;34m,\u001b[0m \u001b[0mglobal_numerator\u001b[0m\u001b[0;34m)\u001b[0m\u001b[0;34m\u001b[0m\u001b[0;34m\u001b[0m\u001b[0m\n\u001b[0;32m---> 12\u001b[0;31m \u001b[0mprint\u001b[0m\u001b[0;34m(\u001b[0m\u001b[0;34m\"Test 4 - Local Variable: \"\u001b[0m\u001b[0;34m,\u001b[0m \u001b[0mlocal_division\u001b[0m\u001b[0;34m)\u001b[0m \u001b[0;31m# twrows error, variable not accesible\u001b[0m\u001b[0;34m\u001b[0m\u001b[0;34m\u001b[0m\u001b[0m\n\u001b[0m",
            "\u001b[0;31mNameError\u001b[0m: name 'local_division' is not defined"
          ]
        }
      ]
    },
    {
      "cell_type": "code",
      "metadata": {
        "id": "GVJv10nBkmCw",
        "colab_type": "code",
        "colab": {
          "base_uri": "https://localhost:8080/",
          "height": 68
        },
        "outputId": "dd931445-647a-4400-b3bd-fded96dd0c9a"
      },
      "source": [
        "# Testing scopes: local x global (2)\n",
        "\n",
        "global_value = 10\n",
        "print(\"Test 1 - Global Variable: \", global_value)\n",
        "\n",
        "def reduce_by_2(global_value): # The funcation creates a local variable named \"global_value\"\n",
        "    \"\"\"Returns the value reduced by 2\"\"\"\n",
        "    global_value = global_value - 2\n",
        "    print(\"Test 2 - Local Variable: \", global_value) \n",
        "    return global_value\n",
        "\n",
        "reduce_by_2(global_value)\n",
        "print(\"Test 3 - Global Variable: \", global_value)"
      ],
      "execution_count": null,
      "outputs": [
        {
          "output_type": "stream",
          "text": [
            "Test 1 - Global Variable:  10\n",
            "Test 2 - Local Variable:  8\n",
            "Test 3 - Global Variable:  10\n"
          ],
          "name": "stdout"
        }
      ]
    },
    {
      "cell_type": "code",
      "metadata": {
        "id": "Gq_aU4vbl9M4",
        "colab_type": "code",
        "colab": {
          "base_uri": "https://localhost:8080/",
          "height": 68
        },
        "outputId": "b571bae6-d170-41e3-ac63-0859ec0ebe48"
      },
      "source": [
        "# Testing scopes: local x global (3)\n",
        "\n",
        "global_value = 10\n",
        "print(\"Test 1 - Global Variable: \", global_value)\n",
        "\n",
        "def reduce_by_2(value): \n",
        "    \"\"\"Returns the value reduced by 2\"\"\"\n",
        "    global global_value # We force the use of the global variable \"global_value\"\n",
        "    global_value = value - 2\n",
        "    print(\"Test 2 - Local Variable: \", global_value) \n",
        "    return global_value\n",
        "\n",
        "reduce_by_2(global_value)\n",
        "print(\"Test 3 - Global Variable: \", global_value)"
      ],
      "execution_count": null,
      "outputs": [
        {
          "output_type": "stream",
          "text": [
            "Test 1 - Global Variable:  10\n",
            "Test 2 - Local Variable:  8\n",
            "Test 3 - Global Variable:  8\n"
          ],
          "name": "stdout"
        }
      ]
    },
    {
      "cell_type": "markdown",
      "metadata": {
        "id": "Qk-RYfgWqS5k",
        "colab_type": "text"
      },
      "source": [
        "### Python's built-in scope\n",
        "* It is a built-in module called builtins. \n",
        "* To query builtins it's needed to import ```builtins```.\n",
        "  * It's interesting to note that ```builtins``` are not itself built in, because they must be imported\n",
        "* After executing ```import builtins``` in the IPython Shell, execute ```dir(builtins)``` to print a list of all the names in the module ```builtins```. \n",
        "* Some of the ```builtins``` are ```bool```, ```enumerate```, ```format```, ```help```, ```len```, ```map```, ```max```, ```min```, ```pow```, ```round```, ```sorted```, ```str```, ```sum```, ```tuple```, ```type``` and many more.\n",
        "\n",
        "Have a look and you'll see a bunch of names that you'll recognize! Which of the following names is NOT in the module builtins?"
      ]
    },
    {
      "cell_type": "code",
      "metadata": {
        "id": "16or_ex5Vq00",
        "colab_type": "code",
        "colab": {
          "base_uri": "https://localhost:8080/",
          "height": 1000
        },
        "outputId": "e186719f-8ebe-414d-fd0f-e4587530aa97"
      },
      "source": [
        "import builtins\n",
        "my_dict = {\"bultins\": dir(builtins)}\n",
        "\n",
        "for i, builtin in enumerate(my_dict[\"bultins\"]):\n",
        "    print(\"builtin\", i, \":\", builtin)"
      ],
      "execution_count": null,
      "outputs": [
        {
          "output_type": "stream",
          "text": [
            "builtin 0 : ArithmeticError\n",
            "builtin 1 : AssertionError\n",
            "builtin 2 : AttributeError\n",
            "builtin 3 : BaseException\n",
            "builtin 4 : BlockingIOError\n",
            "builtin 5 : BrokenPipeError\n",
            "builtin 6 : BufferError\n",
            "builtin 7 : BytesWarning\n",
            "builtin 8 : ChildProcessError\n",
            "builtin 9 : ConnectionAbortedError\n",
            "builtin 10 : ConnectionError\n",
            "builtin 11 : ConnectionRefusedError\n",
            "builtin 12 : ConnectionResetError\n",
            "builtin 13 : DeprecationWarning\n",
            "builtin 14 : EOFError\n",
            "builtin 15 : Ellipsis\n",
            "builtin 16 : EnvironmentError\n",
            "builtin 17 : Exception\n",
            "builtin 18 : False\n",
            "builtin 19 : FileExistsError\n",
            "builtin 20 : FileNotFoundError\n",
            "builtin 21 : FloatingPointError\n",
            "builtin 22 : FutureWarning\n",
            "builtin 23 : GeneratorExit\n",
            "builtin 24 : IOError\n",
            "builtin 25 : ImportError\n",
            "builtin 26 : ImportWarning\n",
            "builtin 27 : IndentationError\n",
            "builtin 28 : IndexError\n",
            "builtin 29 : InterruptedError\n",
            "builtin 30 : IsADirectoryError\n",
            "builtin 31 : KeyError\n",
            "builtin 32 : KeyboardInterrupt\n",
            "builtin 33 : LookupError\n",
            "builtin 34 : MemoryError\n",
            "builtin 35 : ModuleNotFoundError\n",
            "builtin 36 : NameError\n",
            "builtin 37 : None\n",
            "builtin 38 : NotADirectoryError\n",
            "builtin 39 : NotImplemented\n",
            "builtin 40 : NotImplementedError\n",
            "builtin 41 : OSError\n",
            "builtin 42 : OverflowError\n",
            "builtin 43 : PendingDeprecationWarning\n",
            "builtin 44 : PermissionError\n",
            "builtin 45 : ProcessLookupError\n",
            "builtin 46 : RecursionError\n",
            "builtin 47 : ReferenceError\n",
            "builtin 48 : ResourceWarning\n",
            "builtin 49 : RuntimeError\n",
            "builtin 50 : RuntimeWarning\n",
            "builtin 51 : StopAsyncIteration\n",
            "builtin 52 : StopIteration\n",
            "builtin 53 : SyntaxError\n",
            "builtin 54 : SyntaxWarning\n",
            "builtin 55 : SystemError\n",
            "builtin 56 : SystemExit\n",
            "builtin 57 : TabError\n",
            "builtin 58 : TimeoutError\n",
            "builtin 59 : True\n",
            "builtin 60 : TypeError\n",
            "builtin 61 : UnboundLocalError\n",
            "builtin 62 : UnicodeDecodeError\n",
            "builtin 63 : UnicodeEncodeError\n",
            "builtin 64 : UnicodeError\n",
            "builtin 65 : UnicodeTranslateError\n",
            "builtin 66 : UnicodeWarning\n",
            "builtin 67 : UserWarning\n",
            "builtin 68 : ValueError\n",
            "builtin 69 : Warning\n",
            "builtin 70 : ZeroDivisionError\n",
            "builtin 71 : __IPYTHON__\n",
            "builtin 72 : __build_class__\n",
            "builtin 73 : __debug__\n",
            "builtin 74 : __doc__\n",
            "builtin 75 : __import__\n",
            "builtin 76 : __loader__\n",
            "builtin 77 : __name__\n",
            "builtin 78 : __package__\n",
            "builtin 79 : __spec__\n",
            "builtin 80 : abs\n",
            "builtin 81 : all\n",
            "builtin 82 : any\n",
            "builtin 83 : ascii\n",
            "builtin 84 : bin\n",
            "builtin 85 : bool\n",
            "builtin 86 : bytearray\n",
            "builtin 87 : bytes\n",
            "builtin 88 : callable\n",
            "builtin 89 : chr\n",
            "builtin 90 : classmethod\n",
            "builtin 91 : compile\n",
            "builtin 92 : complex\n",
            "builtin 93 : copyright\n",
            "builtin 94 : credits\n",
            "builtin 95 : delattr\n",
            "builtin 96 : dict\n",
            "builtin 97 : dir\n",
            "builtin 98 : display\n",
            "builtin 99 : divmod\n",
            "builtin 100 : dreload\n",
            "builtin 101 : enumerate\n",
            "builtin 102 : eval\n",
            "builtin 103 : exec\n",
            "builtin 104 : filter\n",
            "builtin 105 : float\n",
            "builtin 106 : format\n",
            "builtin 107 : frozenset\n",
            "builtin 108 : get_ipython\n",
            "builtin 109 : getattr\n",
            "builtin 110 : globals\n",
            "builtin 111 : hasattr\n",
            "builtin 112 : hash\n",
            "builtin 113 : help\n",
            "builtin 114 : hex\n",
            "builtin 115 : id\n",
            "builtin 116 : input\n",
            "builtin 117 : int\n",
            "builtin 118 : isinstance\n",
            "builtin 119 : issubclass\n",
            "builtin 120 : iter\n",
            "builtin 121 : len\n",
            "builtin 122 : license\n",
            "builtin 123 : list\n",
            "builtin 124 : locals\n",
            "builtin 125 : map\n",
            "builtin 126 : max\n",
            "builtin 127 : memoryview\n",
            "builtin 128 : min\n",
            "builtin 129 : next\n",
            "builtin 130 : object\n",
            "builtin 131 : oct\n",
            "builtin 132 : open\n",
            "builtin 133 : ord\n",
            "builtin 134 : pow\n",
            "builtin 135 : print\n",
            "builtin 136 : property\n",
            "builtin 137 : range\n",
            "builtin 138 : repr\n",
            "builtin 139 : reversed\n",
            "builtin 140 : round\n",
            "builtin 141 : set\n",
            "builtin 142 : setattr\n",
            "builtin 143 : slice\n",
            "builtin 144 : sorted\n",
            "builtin 145 : staticmethod\n",
            "builtin 146 : str\n",
            "builtin 147 : sum\n",
            "builtin 148 : super\n",
            "builtin 149 : tuple\n",
            "builtin 150 : type\n",
            "builtin 151 : vars\n",
            "builtin 152 : zip\n"
          ],
          "name": "stdout"
        }
      ]
    },
    {
      "cell_type": "markdown",
      "metadata": {
        "id": "Psd6VlTWWtYm",
        "colab_type": "text"
      },
      "source": [
        "## Nested functions\n",
        "\n",
        "* A function inside another function.\n",
        "* Used to avoid repeating code snipets.\n",
        "* Organizes the code and make code reading easier.\n",
        "* Still about scopes, another declaration to use is ```nonlocal``` which makes explict that a variable is not local, belonging to an external scope."
      ]
    },
    {
      "cell_type": "markdown",
      "metadata": {
        "id": "xKsvAZE_DydW",
        "colab_type": "text"
      },
      "source": [
        "### Scopes searched order\n",
        "1. Local scope\n",
        "2. Enclosing functions \n",
        "3. Global\n",
        "4. Built-in\n",
        "\n",
        "LEGB search order"
      ]
    },
    {
      "cell_type": "code",
      "metadata": {
        "id": "0_DNS3lWXddW",
        "colab_type": "code",
        "colab": {
          "base_uri": "https://localhost:8080/",
          "height": 85
        },
        "outputId": "fb85d0f8-3b62-4ad8-ef5c-4374db2dbee6"
      },
      "source": [
        "# Nested functions\n",
        "\n",
        "def outer_function(value):\n",
        "    value = value + 1\n",
        "\n",
        "    def inner_function():\n",
        "        nonlocal value # Says that \"value\" is nonlocal\n",
        "        print(\"Step 2 - Inside inner_function: \", value)\n",
        "        value = value * value\n",
        "        print(\"Step 3 - Inside inner_function: \", value)\n",
        "        \n",
        "    print(\"Step 1 - Before inner_function: \", value)\n",
        "    inner_function()\n",
        "    print(\"Step 4 - After inner_function: \", value)\n",
        "\n",
        "outer_function(10)\n"
      ],
      "execution_count": null,
      "outputs": [
        {
          "output_type": "stream",
          "text": [
            "Step 1 - Before inner_function:  11\n",
            "Step 2 - Inside inner_function:  11\n",
            "Step 3 - Inside inner_function:  121\n",
            "Step 4 - After inner_function:  121\n"
          ],
          "name": "stdout"
        }
      ]
    },
    {
      "cell_type": "code",
      "metadata": {
        "id": "7nDmfs-4asTj",
        "colab_type": "code",
        "colab": {
          "base_uri": "https://localhost:8080/",
          "height": 34
        },
        "outputId": "8d871ebb-d410-4b87-e40a-883cb0ba836f"
      },
      "source": [
        "# Nested functions - returning a function\n",
        "\n",
        "def echo(n):\n",
        "    \"\"\"Return the inner_echo function.\"\"\"\n",
        "\n",
        "    def inner_echo(word1):\n",
        "        \"\"\"Concatenate n copies of word1.\"\"\"\n",
        "        echo_word = word1 * n\n",
        "        return echo_word\n",
        "\n",
        "    return inner_echo\n",
        "\n",
        "twice = echo(2) # Call echo: twice\n",
        "thrice = echo(3) # Call echo: thrice\n",
        "print(twice('hello'), thrice('hello'))"
      ],
      "execution_count": null,
      "outputs": [
        {
          "output_type": "stream",
          "text": [
            "hellohello hellohellohello\n"
          ],
          "name": "stdout"
        }
      ]
    },
    {
      "cell_type": "markdown",
      "metadata": {
        "id": "vdCe500Tnik3",
        "colab_type": "text"
      },
      "source": [
        "## Default arguments\n",
        "* It's possible to set some default values to arguments. "
      ]
    },
    {
      "cell_type": "code",
      "metadata": {
        "id": "o-nLr7X4oQQ-",
        "colab_type": "code",
        "colab": {
          "base_uri": "https://localhost:8080/",
          "height": 51
        },
        "outputId": "92e27b76-ebd8-45a8-eb06-d735ffbe305b"
      },
      "source": [
        "# Default values\n",
        "def sum_values(value1, value2=2, value3=3):\n",
        "    return value1 + value2 + value3\n",
        "\n",
        "# value1 = 5, value2 = 5, value3 = 5\n",
        "print(sum_values(5, 5, 5))\n",
        "\n",
        "# value1 = 2, value2 = 2, value3 = 3\n",
        "print(sum_values(2))"
      ],
      "execution_count": null,
      "outputs": [
        {
          "output_type": "stream",
          "text": [
            "15\n",
            "7\n"
          ],
          "name": "stdout"
        }
      ]
    },
    {
      "cell_type": "markdown",
      "metadata": {
        "id": "yG8vTtG13AUY",
        "colab_type": "text"
      },
      "source": [
        "## Flexible arguments\n",
        "* You can pass any number of arguments to a function.\n",
        "* Use of ```*args```\n",
        "  * Inside the function some handling must be done to access all the values in ```*args```\n",
        "* Use of ```*kwargs```\n",
        "  * Used to pass any number of parameters, each with an identifier"
      ]
    },
    {
      "cell_type": "code",
      "metadata": {
        "id": "LSTNK19Co1jb",
        "colab_type": "code",
        "colab": {
          "base_uri": "https://localhost:8080/",
          "height": 102
        },
        "outputId": "7a7cfb58-2d91-4612-d888-2716e7ab844d"
      },
      "source": [
        "# Flexible arguments with *args\n",
        "def sum_all_values(*args):\n",
        "    sum_all = 0\n",
        "\n",
        "    for num in args:\n",
        "        sum_all += num\n",
        "    return sum_all\n",
        "\n",
        "print(sum_all_values(1))\n",
        "print(sum_all_values(1, 2))\n",
        "print(sum_all_values(1, 2, 3))\n",
        "print(sum_all_values(1, 2, 3, 4))\n",
        "print(sum_all_values(1, 2, 3, 4, 5))"
      ],
      "execution_count": null,
      "outputs": [
        {
          "output_type": "stream",
          "text": [
            "1\n",
            "3\n",
            "6\n",
            "10\n",
            "15\n"
          ],
          "name": "stdout"
        }
      ]
    },
    {
      "cell_type": "code",
      "metadata": {
        "id": "bkTuJRrNp_7k",
        "colab_type": "code",
        "colab": {
          "base_uri": "https://localhost:8080/",
          "height": 136
        },
        "outputId": "3d335155-7e77-424c-e2a2-4e8904f1d662"
      },
      "source": [
        "# Flexible arguments with **kwargs\n",
        "def print_all(**kwargs):\n",
        "    \"\"\"Print out key-value pairs in **kwargs.\"\"\"\n",
        "    \n",
        "    for key, value in kwargs.items():\n",
        "        print(key + \": \" + value)\n",
        "\n",
        "print_all(first_name=\"João\", middle_name=\"Luiz\", last_name=\"Gross\")\n",
        "print(\"\")\n",
        "print_all(country=\"Brazil\", state=\"Rio Grande do Sul\", city=\"Porto Alegre\")"
      ],
      "execution_count": null,
      "outputs": [
        {
          "output_type": "stream",
          "text": [
            "first_name: João\n",
            "middle_name: Luiz\n",
            "last_name: Gross\n",
            "\n",
            "country: Brazil\n",
            "state: Rio Grande do Sul\n",
            "city: Porto Alegre\n"
          ],
          "name": "stdout"
        }
      ]
    },
    {
      "cell_type": "markdown",
      "metadata": {
        "id": "_zJVmMF_sDTo",
        "colab_type": "text"
      },
      "source": [
        "## Exercise \n",
        "* Using DataFrames to exercise scope, nested functions, default arguments and flexible arguments (```*args``` and ```*kwargs```)"
      ]
    },
    {
      "cell_type": "code",
      "metadata": {
        "id": "A0NCa55SsZ3J",
        "colab_type": "code",
        "colab": {
          "base_uri": "https://localhost:8080/",
          "height": 71
        },
        "outputId": "12f7b46d-fcfb-48ca-dd5e-c1995528040a"
      },
      "source": [
        "import pandas as pd\n",
        "\n",
        "def count_entries(df, *args):\n",
        "    \"\"\"Return a dictionary with counts of\n",
        "    occurrences as value for each key.\"\"\"\n",
        "    \n",
        "    cols_count = {}\n",
        "    for col_name in args:\n",
        "        col = df[col_name]\n",
        "    \n",
        "        for entry in col:\n",
        "            if entry in cols_count.keys():\n",
        "                cols_count[entry] += 1\n",
        "            else:\n",
        "                cols_count[entry] = 1\n",
        "\n",
        "    return cols_count\n",
        "\n",
        "twitter_df = pd.read_csv(\"/content/drive/My Drive/Colab Notebooks/Course - Python Data Science Toolbox - Part 1/tweets.csv\")\n",
        "print(count_entries(twitter_df, \"lang\"))\n",
        "print(count_entries(twitter_df, \"lang\", \"source\"))"
      ],
      "execution_count": null,
      "outputs": [
        {
          "output_type": "stream",
          "text": [
            "{'en': 97, 'et': 1, 'und': 2}\n",
            "{'en': 97, 'et': 1, 'und': 2, '<a href=\"http://twitter.com\" rel=\"nofollow\">Twitter Web Client</a>': 24, '<a href=\"http://www.facebook.com/twitter\" rel=\"nofollow\">Facebook</a>': 1, '<a href=\"http://twitter.com/download/android\" rel=\"nofollow\">Twitter for Android</a>': 26, '<a href=\"http://twitter.com/download/iphone\" rel=\"nofollow\">Twitter for iPhone</a>': 33, '<a href=\"http://www.twitter.com\" rel=\"nofollow\">Twitter for BlackBerry</a>': 2, '<a href=\"http://www.google.com/\" rel=\"nofollow\">Google</a>': 2, '<a href=\"http://twitter.com/#!/download/ipad\" rel=\"nofollow\">Twitter for iPad</a>': 6, '<a href=\"http://linkis.com\" rel=\"nofollow\">Linkis.com</a>': 2, '<a href=\"http://rutracker.org/forum/viewforum.php?f=93\" rel=\"nofollow\">newzlasz</a>': 2, '<a href=\"http://ifttt.com\" rel=\"nofollow\">IFTTT</a>': 1, '<a href=\"http://www.myplume.com/\" rel=\"nofollow\">Plume\\xa0for\\xa0Android</a>': 1}\n"
          ],
          "name": "stdout"
        }
      ]
    },
    {
      "cell_type": "markdown",
      "metadata": {
        "id": "viF4vaHKuJrZ",
        "colab_type": "text"
      },
      "source": [
        "# Chapter 3 - Lambda functions and error-handling\n",
        "\n",
        "Learn about lambda functions, which allow you to write functions quickly and on the fly. You'll also practice handling errors in your functions, which is an essential skill. Then, apply your new skills to answer data science questions."
      ]
    },
    {
      "cell_type": "markdown",
      "metadata": {
        "id": "bhlAFAeVEIZW",
        "colab_type": "text"
      },
      "source": [
        "## Lambda (Anonymous) functions\n",
        "\n",
        "* Functions with no name assigned to variables. Example:\n",
        "\n",
        "```\n",
        "raise_to_power = lambda x, y: x ** y\n",
        "raise_to_power(2, 3)\n",
        "> 8\n",
        "```\n",
        "\n",
        "* Applying a series of values to a lambda function requires ```map()```\n",
        "  * Function map takes two arguments: ```map(func, seq)```. Example:\n",
        "\n",
        "```\n",
        "values = [2, 3, 4, 5, 6, 7]\n",
        "raise_to_power2 = map(lambda x: x ** 2, values)\n",
        "print(list(raise_to_power2))\n",
        "> [4, 9, 16, 25, 36, 49]\n",
        "```  \n",
        "\n",
        "* Next you will see the use of functions ```map()```, ```filter()``` and ```reduce()``` with lambda functions"
      ]
    },
    {
      "cell_type": "code",
      "metadata": {
        "id": "q7KDiWdQvea4",
        "colab_type": "code",
        "colab": {
          "base_uri": "https://localhost:8080/",
          "height": 51
        },
        "outputId": "73eaca88-c56c-4c7e-9430-24ca22a12bec"
      },
      "source": [
        "# Lambda function - map()\n",
        "\n",
        "values = [2, 3, 4, 5, 6, 7]\n",
        "raise_to_power2 = map(lambda x: x ** 2, values)\n",
        "print(raise_to_power2)\n",
        "print(list(raise_to_power2))"
      ],
      "execution_count": null,
      "outputs": [
        {
          "output_type": "stream",
          "text": [
            "<map object at 0x7f448fd11828>\n",
            "[4, 9, 16, 25, 36, 49]\n"
          ],
          "name": "stdout"
        }
      ]
    },
    {
      "cell_type": "code",
      "metadata": {
        "id": "Vay3ifUkzdhV",
        "colab_type": "code",
        "colab": {
          "base_uri": "https://localhost:8080/",
          "height": 34
        },
        "outputId": "c81aba54-7ea0-43eb-f205-2282e7e57bc3"
      },
      "source": [
        "# Lambda functions - filter()\n",
        "fellowship = ['frodo', 'samwise', 'merry', 'pippin', 'aragorn', 'boromir', 'legolas', 'gimli', 'gandalf']\n",
        "result = filter(lambda member: len(member) > 6, fellowship)\n",
        "print(list(result))"
      ],
      "execution_count": null,
      "outputs": [
        {
          "output_type": "stream",
          "text": [
            "['samwise', 'aragorn', 'boromir', 'legolas', 'gandalf']\n"
          ],
          "name": "stdout"
        }
      ]
    },
    {
      "cell_type": "code",
      "metadata": {
        "id": "sgivd4zV0Iou",
        "colab_type": "code",
        "colab": {
          "base_uri": "https://localhost:8080/",
          "height": 34
        },
        "outputId": "9df71d41-e7ed-47d1-fd4b-8c7f2b2c330a"
      },
      "source": [
        "# Lambda function - reduce()\n",
        "from functools import reduce\n",
        "stark = ['robb', 'sansa', 'arya', 'brandon', 'rickon']\n",
        "result = reduce(lambda item1, item2: item1 + \"|\" + item2, stark)\n",
        "print(result)"
      ],
      "execution_count": null,
      "outputs": [
        {
          "output_type": "stream",
          "text": [
            "robb|sansa|arya|brandon|rickon\n"
          ],
          "name": "stdout"
        }
      ]
    },
    {
      "cell_type": "markdown",
      "metadata": {
        "id": "nhZDqvGx0ndz",
        "colab_type": "text"
      },
      "source": [
        "## Introduction to error handling\n",
        "\n",
        "* Used to catch specfic problems or behaviors.\n",
        "* During Python code execution some **Exception** may occur.\n",
        "  * Exceptions are not expected behaviors when using a function.\n",
        "* Catching exceptions can be done with **try-except clause**.\n",
        "  * First we **try** to run a piece of code.\n",
        "  * If and **exception** occurs, then run another piece of code."
      ]
    },
    {
      "cell_type": "code",
      "metadata": {
        "id": "5uLalBML1ruk",
        "colab_type": "code",
        "colab": {
          "base_uri": "https://localhost:8080/",
          "height": 68
        },
        "outputId": "e0258fad-10d3-4ca2-a71a-b381961babd3"
      },
      "source": [
        "# Catching expection\n",
        "def sqrt(test, x):\n",
        "    \"\"\"Returns the square root of a number.\"\"\"\n",
        "    try:    \n",
        "        x ** 0.5\n",
        "    except:\n",
        "        print(test, '- x must be an int or float')\n",
        "        return\n",
        "    print(test, \"- ok\")\n",
        "    return\n",
        "\n",
        "sqrt(\"Test 1\", 4) # int - ok\n",
        "sqrt(\"Test 2\", 3.2) # float - ok\n",
        "sqrt(\"Test 3\", \"John\") # string - error"
      ],
      "execution_count": null,
      "outputs": [
        {
          "output_type": "stream",
          "text": [
            "Test 1 - ok\n",
            "Test 2 - ok\n",
            "Test 3 - x must be an int or float\n"
          ],
          "name": "stdout"
        }
      ]
    },
    {
      "cell_type": "code",
      "metadata": {
        "id": "5lUnIYGl2qjY",
        "colab_type": "code",
        "colab": {
          "base_uri": "https://localhost:8080/",
          "height": 350
        },
        "outputId": "654c3e68-8119-4606-c5ca-626dea920efa"
      },
      "source": [
        "# Specifying TypeError expection and raising ValueError exception\n",
        "def sqrt(test, x):\n",
        "    \"\"\"Returns the square root of a number.\"\"\"\n",
        "    if x < 0:\n",
        "        raise ValueError(test, '- x must be non-negative')\n",
        "    try:    \n",
        "        x ** 0.5\n",
        "    except TypeError:\n",
        "        print(test, '- x must be an int or float')\n",
        "        return\n",
        "    print(test, \"- ok\")\n",
        "    return\n",
        "\n",
        "sqrt(\"Test 1\", 4) # int - ok\n",
        "sqrt(\"Test 2\", 3.2) # float - ok\n",
        "sqrt(\"Test 3\", -10) # negative number - error"
      ],
      "execution_count": null,
      "outputs": [
        {
          "output_type": "stream",
          "text": [
            "Test 1 - ok\n",
            "Test 2 - ok\n"
          ],
          "name": "stdout"
        },
        {
          "output_type": "error",
          "ename": "ValueError",
          "evalue": "ignored",
          "traceback": [
            "\u001b[0;31m---------------------------------------------------------------------------\u001b[0m",
            "\u001b[0;31mValueError\u001b[0m                                Traceback (most recent call last)",
            "\u001b[0;32m<ipython-input-67-ac2791a9a6ff>\u001b[0m in \u001b[0;36m<module>\u001b[0;34m()\u001b[0m\n\u001b[1;32m     14\u001b[0m \u001b[0msqrt\u001b[0m\u001b[0;34m(\u001b[0m\u001b[0;34m\"Test 1\"\u001b[0m\u001b[0;34m,\u001b[0m \u001b[0;36m4\u001b[0m\u001b[0;34m)\u001b[0m \u001b[0;31m# int - ok\u001b[0m\u001b[0;34m\u001b[0m\u001b[0;34m\u001b[0m\u001b[0m\n\u001b[1;32m     15\u001b[0m \u001b[0msqrt\u001b[0m\u001b[0;34m(\u001b[0m\u001b[0;34m\"Test 2\"\u001b[0m\u001b[0;34m,\u001b[0m \u001b[0;36m3.2\u001b[0m\u001b[0;34m)\u001b[0m \u001b[0;31m# float - ok\u001b[0m\u001b[0;34m\u001b[0m\u001b[0;34m\u001b[0m\u001b[0m\n\u001b[0;32m---> 16\u001b[0;31m \u001b[0msqrt\u001b[0m\u001b[0;34m(\u001b[0m\u001b[0;34m\"Test 3\"\u001b[0m\u001b[0;34m,\u001b[0m \u001b[0;34m-\u001b[0m\u001b[0;36m10\u001b[0m\u001b[0;34m)\u001b[0m \u001b[0;31m# negative number - error\u001b[0m\u001b[0;34m\u001b[0m\u001b[0;34m\u001b[0m\u001b[0m\n\u001b[0m",
            "\u001b[0;32m<ipython-input-67-ac2791a9a6ff>\u001b[0m in \u001b[0;36msqrt\u001b[0;34m(test, x)\u001b[0m\n\u001b[1;32m      3\u001b[0m     \u001b[0;34m\"\"\"Returns the square root of a number.\"\"\"\u001b[0m\u001b[0;34m\u001b[0m\u001b[0;34m\u001b[0m\u001b[0m\n\u001b[1;32m      4\u001b[0m     \u001b[0;32mif\u001b[0m \u001b[0mx\u001b[0m \u001b[0;34m<\u001b[0m \u001b[0;36m0\u001b[0m\u001b[0;34m:\u001b[0m\u001b[0;34m\u001b[0m\u001b[0;34m\u001b[0m\u001b[0m\n\u001b[0;32m----> 5\u001b[0;31m         \u001b[0;32mraise\u001b[0m \u001b[0mValueError\u001b[0m\u001b[0;34m(\u001b[0m\u001b[0mtest\u001b[0m\u001b[0;34m,\u001b[0m \u001b[0;34m'- x must be non-negative'\u001b[0m\u001b[0;34m)\u001b[0m\u001b[0;34m\u001b[0m\u001b[0;34m\u001b[0m\u001b[0m\n\u001b[0m\u001b[1;32m      6\u001b[0m     \u001b[0;32mtry\u001b[0m\u001b[0;34m:\u001b[0m\u001b[0;34m\u001b[0m\u001b[0;34m\u001b[0m\u001b[0m\n\u001b[1;32m      7\u001b[0m         \u001b[0mx\u001b[0m \u001b[0;34m**\u001b[0m \u001b[0;36m0.5\u001b[0m\u001b[0;34m\u001b[0m\u001b[0;34m\u001b[0m\u001b[0m\n",
            "\u001b[0;31mValueError\u001b[0m: ('Test 3', '- x must be non-negative')"
          ]
        }
      ]
    },
    {
      "cell_type": "markdown",
      "metadata": {
        "id": "tZJws3BD6rZn",
        "colab_type": "text"
      },
      "source": [
        "# What you’ve learned\n",
        "* Write functions that accept single and multiple arguments\n",
        "* Write functions that return one or many values\n",
        "* Use default, exible, and keyword arguments\n",
        "* Global and local scope in functions\n",
        "* Write lambda functions\n",
        "* Handle errors"
      ]
    },
    {
      "cell_type": "markdown",
      "metadata": {
        "id": "6tKX4FSA63FC",
        "colab_type": "text"
      },
      "source": [
        "# Python Data Science Toolbox Part 2\n",
        "* Create lists with list comprehensions\n",
        "* Iterators - you’ve seen them before!\n",
        "* Case studies to apply these techniques to Data Science"
      ]
    }
  ]
}