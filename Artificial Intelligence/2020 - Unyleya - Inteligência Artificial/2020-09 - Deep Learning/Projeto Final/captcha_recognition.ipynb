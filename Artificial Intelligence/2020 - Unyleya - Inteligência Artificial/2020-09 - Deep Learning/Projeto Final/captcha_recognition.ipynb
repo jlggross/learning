{
  "nbformat": 4,
  "nbformat_minor": 0,
  "metadata": {
    "kernelspec": {
      "display_name": "Python 3",
      "language": "python",
      "name": "python3"
    },
    "language_info": {
      "codemirror_mode": {
        "name": "ipython",
        "version": 3
      },
      "file_extension": ".py",
      "mimetype": "text/x-python",
      "name": "python",
      "nbconvert_exporter": "python",
      "pygments_lexer": "ipython3",
      "version": "3.6.6"
    },
    "colab": {
      "name": "captcha-recognition.ipynb",
      "provenance": []
    }
  },
  "cells": [
    {
      "cell_type": "markdown",
      "metadata": {
        "id": "n129x9wvGYzi",
        "colab_type": "text"
      },
      "source": [
        "# Projeto Final da Disciplina\n",
        "\n",
        "* **Aluno**: João Luiz Grave Gross\n",
        "* **Curso**: Pós-Graduação em IA, Faculdade Unyleya, 2020\n",
        "* **Disciplina**: Deep Learning\n",
        "* **Professor**: Prof. Oscar Okayama"
      ]
    },
    {
      "cell_type": "markdown",
      "metadata": {
        "id": "SJMdzIv8Gbvi",
        "colab_type": "text"
      },
      "source": [
        "## Objetivo\n",
        "\n",
        "Desenvolver um algoritmo de reconhecimento de imagens captcha retornando o resultado em texto. O algoritmo deve ser capaz de identificar quais são os caracteres da imagem `samples/8n5p3.png`."
      ]
    },
    {
      "cell_type": "markdown",
      "metadata": {
        "id": "BS9F7NcbG-pf",
        "colab_type": "text"
      },
      "source": [
        "## Características\n",
        "\n",
        "* **Dataset**: Disponível em https://www.kaggle.com/fournierp/captcha-version-2-images.\n",
        "  * Esse dataset é utilizado para treinamento e teste do algoritmo.\n",
        "* **Biblioteca**: Keras.\n",
        "* **Kernel**: Disponível em https://www.kaggle.com/shawon10/captcha-recognition.\n",
        "* **Imagem para análise**: O modelo deve reconhecer a imagem `samples/8n5p3.png`. Essa imagem foi salva com o nome `imagem_objetivo.png` para que a predição do código fosse realizada."
      ]
    },
    {
      "cell_type": "markdown",
      "metadata": {
        "id": "9I8SYs7ISLIm",
        "colab_type": "text"
      },
      "source": [
        "# Etapas do projeto"
      ]
    },
    {
      "cell_type": "markdown",
      "metadata": {
        "id": "24SEq__9OxG4",
        "colab_type": "text"
      },
      "source": [
        "## 1. Medição de tempo\n",
        "\n",
        "* Com o comando `%load_ext autotime` todas as células do Colab irão mostrar o tempo total de execução.\n",
        "* É mais uma informação interessante que podemos observar ao executar os trechos de código do nosso projeto."
      ]
    },
    {
      "cell_type": "code",
      "metadata": {
        "id": "alACQ2p1Oy3Q",
        "colab_type": "code",
        "colab": {
          "base_uri": "https://localhost:8080/",
          "height": 85
        },
        "outputId": "e244d3de-c4e9-4429-96b3-a797b41d3f87"
      },
      "source": [
        "!pip install ipython-autotime\n",
        "%load_ext autotime"
      ],
      "execution_count": null,
      "outputs": [
        {
          "output_type": "stream",
          "text": [
            "Requirement already satisfied: ipython-autotime in /usr/local/lib/python3.6/dist-packages (0.1)\n",
            "The autotime extension is already loaded. To reload it, use:\n",
            "  %reload_ext autotime\n",
            "time: 2.34 s\n"
          ],
          "name": "stdout"
        }
      ]
    },
    {
      "cell_type": "markdown",
      "metadata": {
        "id": "2Lg0hytiJknM",
        "colab_type": "text"
      },
      "source": [
        "## 2. Bibliotecas"
      ]
    },
    {
      "cell_type": "code",
      "metadata": {
        "_cell_guid": "b1076dfc-b9ad-4769-8c92-a6c4dae69d19",
        "_uuid": "8f2839f25d086af736a60e9eeb907d3b93b6e0e5",
        "id": "tTi7yrc5F2Lj",
        "colab_type": "code",
        "colab": {
          "base_uri": "https://localhost:8080/",
          "height": 34
        },
        "outputId": "d96b8916-fb04-4d69-c9bf-d1993510132f"
      },
      "source": [
        "from keras import layers\n",
        "from keras.models import Model\n",
        "from keras.models import load_model\n",
        "from keras import callbacks\n",
        "\n",
        "import numpy as np\n",
        "import pandas as pd\n",
        "import cv2\n",
        "import string\n",
        "\n",
        "import os\n",
        "import matplotlib.pyplot as plt\n",
        "%matplotlib inline "
      ],
      "execution_count": null,
      "outputs": [
        {
          "output_type": "stream",
          "text": [
            "time: 9.38 ms\n"
          ],
          "name": "stdout"
        }
      ]
    },
    {
      "cell_type": "markdown",
      "metadata": {
        "id": "QwXmRuVNNOrs",
        "colab_type": "text"
      },
      "source": [
        "## 3. Dados de entrada"
      ]
    },
    {
      "cell_type": "code",
      "metadata": {
        "id": "lIgRFvewNQ3S",
        "colab_type": "code",
        "colab": {
          "base_uri": "https://localhost:8080/",
          "height": 223
        },
        "outputId": "d6f76e88-f864-43da-e19f-5a9b31cc5e64"
      },
      "source": [
        "# Dados de entrada estão disponíveis no caminho indicado pela variável path\n",
        "path = '/content/drive/My Drive/Colab Notebooks/Pós-Graduação - IA/samples/samples/' # Defina o caminho dos dados aqui\n",
        "\n",
        "print(os.listdir(path))\n",
        "print('count:', len(os.listdir(path)))\n",
        "\n",
        "# Exemplo de imagem do dataset\n",
        "first_image = os.listdir(path)[0]\n",
        "img=cv2.imread(path + first_image, cv2.IMREAD_GRAYSCALE)\n",
        "plt.imshow(img, cmap=plt.get_cmap('gray'))"
      ],
      "execution_count": null,
      "outputs": [
        {
          "output_type": "stream",
          "text": [
            "['25p2m.png', '25m6p.png', '25257.png', '253dc.png', '25egp.png', '24pew.png', '23n88.png', '24f6w.png', '244e2.png', '243mm.png', '245y5.png', '2356g.png', '23mdg.png', '22d5n.png', '226md.png', '47e4p.png', '478nx.png', '474ff.png', '44ype.png', '44xe8.png', '46mbm.png', '4743p.png', '467d5.png', '47m2b.png', '44fyb.png', '44c22.png', '43xfe.png', '4433m.png', '445cc.png', '42dw4.png', '43p5d.png', '43mn5.png', '42nxy.png', '42xpy.png', '43gey.png', '3ym7f.png', '428b6.png', '3xng6.png', '3ye2e.png', '3ygde.png', '3xcgg.png', '3wnd3.png', '3w2bw.png', '3pe4g.png', '3x325.png', '3x5fm.png', '3p4nn.png', '3p67n.png', '3nnpw.png', '3ny45.png', '3nfdn.png', '3ndxd.png', '3n7mx.png', '3n3cf.png', '3n2b4.png', '3mxdn.png', '3g2w6.png', '3nw7w.png', '3fbxd.png', '3eny7.png', '3dgmf.png', '3ebpw.png', '3den6.png', '3bx86.png', '3d7bd.png', '3bnyf.png', '3c7de.jpg', '3cpwb.png', '3bfnd.png', '3ebnn.png', '3bd8f.png', '3b4we.png', '387g2.png', '37ep6.png', '37d52.png', '373gb.png', '378e5.png', '377xx.png', '36w25.png', '36nx4.png', '38n57.png', '36bc2.png', '368y5.png', '34fxm.png', '34b84.png', '33p4e.png', '33f7m.png', '33ng4.png', '33n73.png', '32dnn.png', '33b22.png', '34pcn.png', '32cnn.png', '325fb.png', '2wx73.png', '2xc2n.png', '2yggg.png', '2x7bm.png', '2w4y7.png', '2wc38.png', '2nx38.png', '2p2y8.png', '2pfpn.png', '2ycn8.png', '2npg6.png', '2nf26.png', '2mpnn.png', '2nbc5.jpg', '2nbcx.png', '2n73f.png', '2g783.png', '2gyb6.png', '2fxgd.png', '2g7nm.png', '2mg87.png', '2en7g.png', '2enf4.png', '2b827.png', '2cegf.png', '2cgyx.png', '2bg48.png', '28348.png', '264m5.png', '25w53.png', '28x47.png', '268g2.png', '2cg58.png', '6dd2y.png', '6cm6m.png', '6c3p5.png', '6c3n6.png', '6b4w6.png', '6bdn5.png', '6bnnm.png', '6bxwg.png', '6b46g.png', '6cwxe.png', '68x48.png', '677g3.png', '678w3.png', '662bw.png', '664nf.png', '66wp5.png', '664dn.png', '67dey.png', '675p3.png', '68wfd.png', '6825y.png', '65nmw.jpg', '65m85.png', '658xe.png', '62fgn.jpg', '63pxe.png', '646x8.png', '63824.png', '64b3p.png', '64m82.png', '62nb3.png', '65ebm.png', '5yxgp.png', '5ywwf.png', '5x7x5.png', '5x5nx.png', '5xwcg.png', '5wddw.png', '5p3mm.png', '5p8fm.png', '5pm6b.png', '5npdn.png', '5nxnn.png', '5xd2e.png', '5np4m.png', '5nnff.png', '5ng6e.png', '5nggg.png', '5n732.png', '5n3w4.png', '5mgn4.png', '5n245.png', '5n728.png', '5mnpd.png', '5nm6d.png', '5mfff.png', '5mf7c.png', '5g5e5.png', '5gcd3.png', '5fyem.png', '5dxnm.png', '5bnd7.png', '5f3gf.png', '5ep3n.png', '5expp.png', '5mcy7.png', '5bgp2.png', '5bg8f.png', '58pnp.png', '58b5m.png', '57gnx.png', '574d7.png', '57wdp.png', '57b27.png', '573bn.png', '573d8.png', '5bb66.png', '56ncx.png', '56m6y.png', '556wd.png', '55w5c.png', '56c34.png', '53wp3.png', '52447.png', '537nf.png', '5325m.png', '53wb8.png', '53mn8.png', '55y2m.png', '4ynf3.png', '4ycex.png', '4nnf3.png', '4w6mw.png', '4yc85.png', '4nc37.png', '4m2w5.png', '4n3mn.png', '4gycb.png', '4n2yg.png', '4gb3f.png', '4w76g.png', '4fp5g.png', '4fc36.png', '4exnn.png', '4egem.png', '4dw3w.png', '4c8n8.png', '4dgf7.png', '4d22m.png', '4cfw8.png', '4cn7b.png', '4f8yp.png', '4b2pw.png', '488de.png', '8gf7n.png', '8gecm.png', '8e32m.png', '8eggg.png', '8db67.png', '8d2nd.png', '8d8ep.png', '8d4wm.png', '8cm46.png', '8g4yp.png', '8cccc.png', '8fexn.png', '8c2wy.png', '8c23f.png', '8bbm4.png', '8b735.png', '88y52.png', '87d4c.png', '88bgx.png', '8684m.png', '865wm.png', '87nym.png', '8bbw8.png', '85pew.jpg', '85dxn.png', '84w7x.png', '84py4.jpg', '85622.png', '832f3.png', '7y2x4.png', '7xd5m.png', '823p2.png', '7yf62.png', '82fx2.png', '7xcyd.png', '7wyp4.png', '7w67m.png', '7wn74.png', '7pn5g.png', '7pcd7.png', '7mgmf.png', '7nnnx.png', '7m8px.png', '7p852.png', '7wnpm.png', '7gp47.png', '7gnge.png', '7fmcy.png', '7g3nf.png', '7gmf3.png', '7fde7.png', '7dxbd.png', '7e2y7.png', '7f8b3.png', '7dyww.png', '7dwx4.png', '7gce6.png', '7dgc2.png', '7d44m.png', '7bwm2.png', '7cdge.png', '7b4bm.png', '7bb7b.png', '77wp4.png', '78dw6.jpg', '78eec.png', '785n4.png', '7cgym.png', '77n6g.png', '77387.png', '75pfw.png', '74853.png', '7634y.png', '76353.png', '76nxn.png', '73mnx.png', '74eyg.png', '76n7p.png', '76y6f.png', '72m6f.png', '728n8.png', '6xxdx.png', '6xpme.png', '6xen4.png', '6pfy4.png', '6wnyc.png', '6wb76.png', '6pwcn.png', '6wg4n.png', '6ydyp.png', '6p7gx.png', '6p2ge.png', '6n6gg.png', '6n5fd.png', '6n443.png', '6mygb.png', '6m5eg.png', '6mege.png', '6mn8n.png', '6gnm3.png', '6ng6w.png', '6ng6n.png', '6ge3p.png', '6g45w.png', '6fg8c.png', '6f857.png', '6fn84.png', '6f2yc.png', '6e6pn.png', '6ecbn.png', '6e554.png', '6e2dg.png', '6end3.png', '6fgdw.png', '6dmx7.png', 'cdf77.png', 'ccn2x.png', 'cd4eg.png', 'cdcb3.png', 'ccf2w.png', 'cd6p4.png', 'cen55.png', 'cc845.png', 'cb8cf.png', 'c8n8c.png', 'c8fxy.png', 'c86md.png', 'c7nn8.png', 'c6we6.png', 'c6745.png', 'c6f8g.png', 'c753e.png', 'c7gb3.png', 'c5xne.png', 'c55c6.png', 'c4bgd.png', 'c4bny.png', 'c482b.png', 'c43b4.png', 'c353e.png', 'c4527.png', 'c3572.png', 'c3n8x.png', 'c4mcm.png', 'c2yn8.png', 'c2pg6.png', 'c2fb7.png', 'byfgn.png', 'by5y3.png', 'bx5ed.jpg', 'bw6n6.png', 'bwmee.png', 'byc82.png', 'bxxfc.png', 'c2g4d.png', 'bw5ym.png', 'bw5nf.png', 'bp6mw.png', 'bp2d4.png', 'bw44w.png', 'bny4w.png', 'bny23.png', 'bnc2f.png', 'bn5mw.png', 'bmxpe.png', 'bnc5f.png', 'bpwd7.png', 'bm3p8.png', 'bgxcd.jpg', 'bf52c.png', 'bgb48.png', 'bgem5.png', 'befbd.png', 'be6np.png', 'bd3b7.png', 'bdg84.png', 'be3bp.png', 'bdbb3.png', 'bgd4m.png', 'bcwnn.png', 'bc8nf.png', 'b6f2p.png', 'b84xc.png', 'b685n.png', 'b5nmm.png', 'b5fm7.png', 'b5dn4.png', 'b5pnn.png', 'b55d6.png', 'bbymy.png', 'b4y5x.png', 'b4ndb.jpg', 'b43nw.png', 'b3xpn.png', 'b4ncn.png', 'b35f6.png', 'b2g8e.png', 'b26nd.png', 'b2nen.png', '8ypdn.png', 'b28g8.png', 'b4d7c.png', '8y6b3.png', '8y63f.png', '8wy7d.png', '8w875.png', '8pfxx.png', '8np22.png', '8nn73.png', '8npe3.png', '8w754.png', '8npd5.png', '8xef7.png', '8ne4g.png', '8nbew.png', '8n5p3.png', '8n5pn.png', '8n65n.png', '8n56m.png', '8n4n8.png', '8n2pg.png', '8gmc4.png', '8gmnx.png', '8n34n.png', '8n62n.png', 'enpw2.png', 'efgx5.png', 'efg72.png', 'ef4np.png', 'een23.png', 'efb3f.png', 'ef4mn.png', 'edg3p.png', 'ee8fg.png', 'edwny.png', 'ecd4w.png', 'efe62.png', 'ec6pm.png', 'ebcbx.png', 'e8dxn.png', 'e7x45.png', 'e84n2.png', 'e72cd.png', 'e7nx4.png', 'e6b7y.png', 'e76n4.png', 'e6m6p.png', 'e8e5e.png', 'e667x.png', 'e5n66.png', 'e46yw.png', 'e46pd.png', 'e3cfe.jpg', 'e2mg2.png', 'e43ym.png', 'e25xg.png', 'e2d66.png', 'e3ndn.png', 'e4gd7.png', 'dyxnc.png', 'dyp7n.png', 'dxwcw.png', 'dw8d3.png', 'dw6mn.png', 'dnxdp.png', 'dnmd8.png', 'dnne7.png', 'dw3nn.png', 'dpbyd.png', 'dy3cx.png', 'dn5df.png', 'dn2ym.png', 'dmxp8.png', 'dmx8p.png', 'defyx.png', 'deep5.png', 'deneb.png', 'dfnx4.png', 'dmw8n.png', 'dgcm4.jpg', 'dn26n.png', 'de7f8.png', 'de45x.png', 'ddmyg.png', 'ddnpf.png', 'ddxpp.jpg', 'ddcne.png', 'ddcdd.png', 'dd5w5.png', 'dd764.png', 'dcnp8.png', 'dce8y.png', 'ddpyb.png', 'dc436.png', 'dbpcd.png', 'dbex3.png', 'd8xcn.png', 'dbny3.png', 'd8dce.png', 'd7c5x.png', 'd7nn3.png', 'd7en3.png', 'd75b5.png', 'd6fcn.png', 'dbfen.png', 'd66cn.png', 'd666m.png', 'd2n8x.jpg', 'd2nbn.png', 'd3ycn.png', 'd4n82.png', 'd3c8y.png', 'd2ycw.png', 'd378n.png', 'd3c7y.png', 'd4ppy.png', 'd236n.png', 'd22y5.png', 'cwmny.png', 'cy3nw.png', 'cx3wg.png', 'd22bd.png', 'cwgyx.png', 'cpe63.png', 'cnwyc.png', 'cpc8c.png', 'cwdnx.png', 'd22n7.png', 'cnmnn.png', 'cnex4.png', 'cm6yb.png', 'cgcgb.png', 'cg5dd.png', 'cfp86.png', 'cffp4.png', 'cfc56.png', 'cfn53.png', 'cfw6e.png', 'cndmc.jpg', 'cfc2y.png', 'cewnm.png', 'cdmn8.png', 'cdfen.png', 'gw468.png', 'gpxng.png', 'gpnxn.png', 'gp22x.png', 'gny6b.png', 'gng6e.png', 'gnbde.png', 'gnc3n.png', 'gnbn4.png', 'gnf85.png', 'gn2xy.png', 'gp7c5.png', 'gn2d3.png', 'gmmne.jpg', 'gm6nn.png', 'gm2c2.png', 'gfp54.png', 'geyn5.jpg', 'gf2g4.png', 'ggd7m.png', 'gfxcc.png', 'gfbx6.png', 'gm7n8.png', 'gewfy.png', 'gegw4.png', 'gdng3.png', 'gd8fb.png', 'gd4mf.png', 'gc83b.png', 'gcfgp.png', 'gc277.png', 'gcx6f.png', 'gc2wd.png', 'gecmf.png', 'gbxyy.png', 'g8gnd.png', 'g7wxw.png', 'g842c.png', 'g7gnf.png', 'g55b4.png', 'g7fmc.png', 'g3ex3.png', 'g6n7x.png', 'g78gn.png', 'g888x.png', 'g3dy6.png', 'g2fnw.png', 'fyfbn.png', 'fywb8.png', 'fy2nd.png', 'g2577.png', 'fpw76.png', 'fw3b2.png', 'fxpw3.png', 'fp762.png', 'fwxdp.png', 'g247w.png', 'fp5wn.png', 'fp3wy.png', 'fnbfw.png', 'fncnb.png', 'fgb36.jpg', 'ffnxn.png', 'fg8n4.png', 'fg7mg.png', 'fg38b.png', 'ffpxf.png', 'fp382.png', 'ffd6p.png', 'feyc8.png', 'fcmem.png', 'fcey3.png', 'fdpgd.png', 'fc6xb.png', 'f858x.png', 'fbp2c.png', 'f8f8g.png', 'f85y3.png', 'fc2ff.png', 'fcne6.png', 'f83pn.png', 'f7cey.png', 'f753f.png', 'f74x3.png', 'f4wfn.png', 'f5cm2.png', 'f5e5e.png', 'f6ww8.png', 'f6ne5.png', 'f6bpw.jpg', 'f75cx.png', 'f4fn2.png', 'f364x.png', 'f2m8n.png', 'f35xp.png', 'f2fge.png', 'excmn.png', 'f228n.png', 'ewnx8.png', 'exycn.png', 'ewyg7.jpg', 'f22bn.png', 'eppg3.png', 'ewcf5.png', 'enn7n.png', 'ep85x.png', 'ennmm.png', 'eng53.png', 'emwpn.png', 'en32e.png', 'egxmp.png', 'efx34.png', 'en4n4.png', 'ncw4g.png', 'ncfgb.png', 'nbwnn.png', 'nbp3e.png', 'nc4yg.png', 'nbmx7.png', 'nb267.png', 'nbf8m.png', 'nb45d.png', 'nbfx5.png', 'nbcgb.png', 'nbwpn.png', 'n8ydd.png', 'n8wxm.jpg', 'n8fp6.png', 'n7meb.png', 'n8pfe.png', 'n7g4f.png', 'n7enn.png', 'n7ebx.png', 'n6xc5.png', 'n7dyb.png', 'n7ff2.png', 'n6f4b.png', 'n6nn2.png', 'n5w5g.png', 'n5x2n.png', 'n5n8b.png', 'n5cm7.png', 'n4wwn.png', 'n4cpy.png', 'n464c.png', 'n4xx5.png', 'n4b4m.png', 'n5wbg.png', 'n3xfg.jpg', 'n3x4c.png', 'n3ffn.png', 'n3bm6.png', 'n373n.png', 'n2c85.jpg', 'n2by7.png', 'n2gmg.png', 'n265y.png', 'n336e.png', 'n3m6x.png', 'myf82.png', 'mye68.png', 'mxnw4.png', 'mxyxw.png', 'myc3c.png', 'mx8bb.png', 'mw5p2.png', 'mpxfb.png', 'mwxwp.png', 'mpmy5.png', 'mwdf6.png', 'my84e.png', 'mp7wp.png', 'mnef5.png', 'mmg38.png', 'mmg2m.png', 'mmc5n.png', 'mggce.png', 'mm3nn.png', 'mgw3n.png', 'mmy5n.png', 'mmfm6.png', 'mn5c4.png', 'mgdwb.png', 'mg5nn.png', 'men4f.png', 'mfb3x.png', 'mdyp7.png', 'mddgb.png', 'mcg43.png', 'mcyfx.png', 'md344.png', 'mdxpn.png', 'mfc35.png', 'mcc2x.png', 'mc8w2.png', 'mbf58.png', 'mc35n.png', 'mbp2y.png', 'mb4en.png', 'm8m4x.png', 'm6n4x.png', 'm8gmx.png', 'm75bf.png', 'm74dm.png', 'm5ym2.png', 'm67b3.png', 'm457d.png', 'm5meg.png', 'm4fd8.png', 'm448b.png', 'm2576.png', 'm3b5p.png', 'm3wfw.png', 'm3588.png', 'm2nf4.png', 'm4g8g.png', 'm23bp.png', 'm22e3.png', 'gy8xb.png', 'gy5bf.png', 'gy433.png', 'gxxpf.png', 'gwn53.png', 'gxx2p.png', 'gwnm6.png', 'gw53m.png', 'gymmn.png', 'w2yp7.png', 'w2n7e.png', 'pybee.png', 'w2e87.png', 'pyefb.png', 'pyf65.png', 'pxne8.png', 'pxdwp.png', 'px8n8.png', 'px2xp.png', 'pwn5e.png', 'pym7p.png', 'pwmbn.png', 'pwebm.png', 'pp87n.png', 'ppwyd.png', 'pw5nc.png', 'pp546.png', 'pn7pn.png', 'pmf5w.png', 'pnmxf.png', 'pnnwy.png', 'pmg55.png', 'ppx77.png', 'pme86.png', 'pmd3w.png', 'pgg3n.png', 'pm363.png', 'pg4bf.png', 'pg2pm.png', 'pgwnp.png', 'pgm2e.png', 'pg2yx.png', 'pgmn2.png', 'pm47f.png', 'pf5ng.png', 'pf4nb.png', 'pdyc8.png', 'pdw38.png', 'pcpg6.png', 'pcmcc.jpg', 'pbpgc.png', 'pdcp4.png', 'pcm7f.png', 'pcede.png', 'pe4xn.png', 'p8wwf.png', 'p8ngx.png', 'p5nce.png', 'p8c24.png', 'p6mn8.png', 'p5g5m.png', 'p2x7x.png', 'p4pde.png', 'p57fn.png', 'p4nm4.png', 'p2ym2.png', 'p7fyp.png', 'p2m6n.png', 'p2dw7.png', 'nybcx.png', 'ny5dp.png', 'ny3nn.png', 'ny8np.png', 'nxx25.png', 'nxxf8.png', 'ny3dw.png', 'nxn4f.png', 'p24gn.png', 'nxf2c.jpg', 'nxcmn.png', 'nwg2m.png', 'nwfde.png', 'nxc83.png', 'nw5b2.png', 'nnn5p.png', 'nny5e.png', 'nnp4e.png', 'npxb7.png', 'nnn57.png', 'nwncn.png', 'nngxc.png', 'nnfx3.png', 'nn6w6.jpg', 'nn6mg.png', 'nn4wx.png', 'nm248.png', 'nm46n.png', 'nmy2x.png', 'nmw46.png', 'ngn26.png', 'nnf8b.png', 'ng756.png', 'ng6yp.png', 'nfndw.png', 'nfg23.png', 'ng46m.png', 'nfd8g.png', 'nfcb5.png', 'nfbg8.png', 'nfcwy.png', 'nf8b8.png', 'nf7bn.png', 'ng2gw.png', 'nf2n8.png', 'neggn.png', 'ne325.png', 'ndyfe.png', 'ndme7.png', 'ndecc.png', 'ncww7.png', 'ncyx8.png', 'ndg2b.png', 'nd5wg.png', 'neecd.png', 'ybfx6.png', 'y7mnm.png', 'y5dpp.png', 'y5w28.png', 'y7x8p.png', 'y7d75.png', 'y5g87.png', 'y5n6d.png', 'y53c2.png', 'y866y.png', 'y4n6m.png', 'y4g3b.png', 'y3c58.png', 'y33nm.png', 'y4ec2.png', 'y32yy.png', 'y2xg4.png', 'y2ye8.png', 'xyyyw.png', 'xyncc.png', 'y2436.png', 'y48c3.png', 'xymfn.png', 'xxw44.png', 'xwx7d.png', 'xxbm5.png', 'xw465.png', 'xnnc3.png', 'xp24p.png', 'xnfx5.png', 'xngxc.png', 'xnn4d.png', 'xxney.png', 'xnd3y.png', 'xmcym.png', 'xfgxb.png', 'xfg65.png', 'xgcxy.png', 'xf5g7.png', 'xdn65.png', 'xe6eb.png', 'xemyg.png', 'xf4p4.png', 'xe8xm.png', 'xfn6n.png', 'xdcn4.png', 'xcmbp.png', 'xc68n.png', 'xce8d.png', 'xcf88.png', 'xbem6.png', 'xbcbx.png', 'x8e8n.png', 'x775w.png', 'x7746.png', 'x8xnp.png', 'x76mn.png', 'x7547.png', 'x6pdb.png', 'x7422.png', 'x6b5m.png', 'x4gg5.png', 'x4pnp.png', 'x5f54.png', 'x5nyn.png', 'x4f7g.png', 'x74b2.png', 'x458w.png', 'x44n4.png', 'x37bf.png', 'x38fn.png', 'x3fwf.png', 'x362g.png', 'x277e.png', 'x2cnn.png', 'x347n.png', 'wye85.png', 'wyc25.png', 'x3deb.png', 'wxy4n.png', 'wxcn8.png', 'wnmyn.png', 'wnpec.png', 'wmpmp.png', 'wg625.png', 'wm746.png', 'wfy5m.png', 'wgnwp.png', 'wm47f.png', 'wwmn6.png', 'wf684.png', 'wecfd.png', 'wd2gb.png', 'wce5n.png', 'wdww8.png', 'wc2bd.png', 'w8f36.png', 'wbncw.png', 'wb3ed.png', 'w7e6m.png', 'w8bnx.png', 'wddcp.png', 'w75w8.png', 'w6yne.png', 'w6ny4.jpg', 'w4x2m.png', 'w52fn.png', 'w4nfx.png', 'w4cdc.png', 'w46ep.png', 'w4cnn.png', 'w48cw.png', 'w6pxy.png', 'ywn6f.png', 'yyg5g.png', 'yxd7m.png', 'yyn57.png', 'yx2d4.png', 'yw7ny.png', 'yy824.png', 'yw8y5.jpg', 'yw667.png', 'ypw3d.png', 'yg5bb.png', 'ygenn.png', 'ymp7g.png', 'yf424.png', 'yfdn7.png', 'ygfwe.png', 'yge7c.jpg', 'ygce8.jpg', 'ypp8f.png', 'yf347.png', 'yf28d.png', 'yemy4.png', 'yew6p.png', 'ydg8n.png', 'ycnfc.png', 'yd3m3.png', 'ydd3g.png', 'yd755.png', 'yd38e.png', 'yeyn4.png', 'ycmcw.png', 'imagem_objetivo.png']\n",
            "count: 1071\n"
          ],
          "name": "stdout"
        },
        {
          "output_type": "execute_result",
          "data": {
            "text/plain": [
              "<matplotlib.image.AxesImage at 0x7f2175ec7898>"
            ]
          },
          "metadata": {
            "tags": []
          },
          "execution_count": 55
        },
        {
          "output_type": "display_data",
          "data": {
            "image/png": "[encoded data removed]",
            "text/plain": [
              "<Figure size 432x288 with 1 Axes>"
            ]
          },
          "metadata": {
            "tags": [],
            "needs_background": "light"
          }
        },
        {
          "output_type": "stream",
          "text": [
            "time: 185 ms\n"
          ],
          "name": "stdout"
        }
      ]
    },
    {
      "cell_type": "markdown",
      "metadata": {
        "id": "Szv_-g-eKguV",
        "colab_type": "text"
      },
      "source": [
        "## 4. Declaração de valores"
      ]
    },
    {
      "cell_type": "code",
      "metadata": {
        "_uuid": "a84cb6138839a96688013722a585658859150dd8",
        "id": "QdJ6XIq1F2Lr",
        "colab_type": "code",
        "colab": {
          "base_uri": "https://localhost:8080/",
          "height": 68
        },
        "outputId": "edc3f41e-bb30-4f13-a102-af2f6debf091"
      },
      "source": [
        "# Init main values\n",
        "symbols = string.ascii_lowercase + \"0123456789\" # Todos os símbolos que um captcha pode conter\n",
        "print(symbols)\n",
        "\n",
        "num_symbols = len(symbols) # Quantidade de símbolos\n",
        "print(num_symbols)  \n",
        "\n",
        "img_shape = (50, 200, 1)"
      ],
      "execution_count": null,
      "outputs": [
        {
          "output_type": "stream",
          "text": [
            "abcdefghijklmnopqrstuvwxyz0123456789\n",
            "36\n",
            "time: 3.97 ms\n"
          ],
          "name": "stdout"
        }
      ]
    },
    {
      "cell_type": "markdown",
      "metadata": {
        "id": "zsPutT_nK5We",
        "colab_type": "text"
      },
      "source": [
        "## 5. Pré-processamento dos dados"
      ]
    },
    {
      "cell_type": "code",
      "metadata": {
        "_uuid": "4dccb0ee2eb679f4b7e7d1a92b52d643ac02ff3e",
        "id": "EFZIc2A8F2Lw",
        "colab_type": "code",
        "colab": {
          "base_uri": "https://localhost:8080/",
          "height": 425
        },
        "outputId": "1ce0afb2-b9fa-44bf-814b-2a6f038b39f5"
      },
      "source": [
        "def preprocess_data(path):\n",
        "    n_samples = len(os.listdir(path)) # Número de amostras\n",
        "    print('n_samples: ', n_samples)\n",
        "\n",
        "    X = np.zeros((n_samples, 50, 200, 1)) # 1070*50*200\n",
        "    y = np.zeros((5, n_samples, num_symbols)) # 5*1070*36\n",
        "\n",
        "    for i, pic in enumerate(os.listdir(path)):\n",
        "        \n",
        "        # Exibe progresso do processamento\n",
        "        if i % 50 == 0: \n",
        "            print('Progress ', str(i) + '/' + str(n_samples))\n",
        "\n",
        "        # Lê a imagem e converte para escalas de cinza (grayscale)\n",
        "        img = cv2.imread(os.path.join(path, pic), cv2.IMREAD_GRAYSCALE)\n",
        "        pic_target = pic[:-4]\n",
        "        if len(pic_target) < 6:\n",
        "            \n",
        "            # Faz scale e reshape na imagem\n",
        "            img = img / 255.0\n",
        "            img = np.reshape(img, (50, 200, 1))\n",
        "            \n",
        "            # Define targets and code them using OneHotEncoding\n",
        "            targs = np.zeros((5, num_symbols))\n",
        "            for j, l in enumerate(pic_target):\n",
        "                ind = symbols.find(l)\n",
        "                targs[j, ind] = 1\n",
        "            \n",
        "            X[i] = img\n",
        "            y[:, i] = targs\n",
        "    \n",
        "    # Return final data\n",
        "    return X, y\n",
        "\n",
        "X, y = preprocess_data(path)"
      ],
      "execution_count": null,
      "outputs": [
        {
          "output_type": "stream",
          "text": [
            "n_samples:  1071\n",
            "Progress  0/1071\n",
            "Progress  50/1071\n",
            "Progress  100/1071\n",
            "Progress  150/1071\n",
            "Progress  200/1071\n",
            "Progress  250/1071\n",
            "Progress  300/1071\n",
            "Progress  350/1071\n",
            "Progress  400/1071\n",
            "Progress  450/1071\n",
            "Progress  500/1071\n",
            "Progress  550/1071\n",
            "Progress  600/1071\n",
            "Progress  650/1071\n",
            "Progress  700/1071\n",
            "Progress  750/1071\n",
            "Progress  800/1071\n",
            "Progress  850/1071\n",
            "Progress  900/1071\n",
            "Progress  950/1071\n",
            "Progress  1000/1071\n",
            "Progress  1050/1071\n",
            "time: 3.2 s\n"
          ],
          "name": "stdout"
        }
      ]
    },
    {
      "cell_type": "markdown",
      "metadata": {
        "id": "K412xpVkRxiK",
        "colab_type": "text"
      },
      "source": [
        "## 6. Definição de conjuntos de treinamento e teste"
      ]
    },
    {
      "cell_type": "code",
      "metadata": {
        "id": "iZ6NXuDqR0xH",
        "colab_type": "code",
        "colab": {
          "base_uri": "https://localhost:8080/",
          "height": 34
        },
        "outputId": "292c691a-6584-4c3d-ed67-235a91916c37"
      },
      "source": [
        "X_train, y_train = X[:970], y[:, :970]\n",
        "X_test, y_test = X[970:], y[:, 970:]"
      ],
      "execution_count": null,
      "outputs": [
        {
          "output_type": "stream",
          "text": [
            "time: 2.27 ms\n"
          ],
          "name": "stdout"
        }
      ]
    },
    {
      "cell_type": "code",
      "metadata": {
        "id": "GMxbP2LuR2a5",
        "colab_type": "code",
        "colab": {
          "base_uri": "https://localhost:8080/",
          "height": 68
        },
        "outputId": "87367f45-49ae-415c-b597-a00853599981"
      },
      "source": [
        "print('Treinamento:', len(X_train))\n",
        "print('Teste:', len(X_test))"
      ],
      "execution_count": null,
      "outputs": [
        {
          "output_type": "stream",
          "text": [
            "Treinamento: 970\n",
            "Teste: 101\n",
            "time: 1.96 ms\n"
          ],
          "name": "stdout"
        }
      ]
    },
    {
      "cell_type": "markdown",
      "metadata": {
        "id": "PFeWJbnfKycL",
        "colab_type": "text"
      },
      "source": [
        "## 7. Criação do Modelo"
      ]
    },
    {
      "cell_type": "code",
      "metadata": {
        "_uuid": "46c8b77c16307b91a561dd2b3c82d894063671b8",
        "id": "u3XKwNA-F2Lt",
        "colab_type": "code",
        "colab": {
          "base_uri": "https://localhost:8080/",
          "height": 34
        },
        "outputId": "2f04341d-32fa-4ff1-9a57-7e0ac136f6a5"
      },
      "source": [
        "def create_model():\n",
        "    img = layers.Input(shape=img_shape) # A entrada é uma imagem. Processamento ocorre em etapas de convolução\n",
        "    conv1 = layers.Conv2D(16, (3, 3), padding='same', activation='relu')(img)\n",
        "    mp1 = layers.MaxPooling2D(padding='same')(conv1)  # 100x25\n",
        "    conv2 = layers.Conv2D(32, (3, 3), padding='same', activation='relu')(mp1)\n",
        "    mp2 = layers.MaxPooling2D(padding='same')(conv2)  # 50x13\n",
        "    conv3 = layers.Conv2D(32, (3, 3), padding='same', activation='relu')(mp2)\n",
        "    bn = layers.BatchNormalization()(conv3)\n",
        "    mp3 = layers.MaxPooling2D(padding='same')(bn)  # 25x7\n",
        "    \n",
        "    # Transforma o resultado da etapa anterior em um vetor flatten\n",
        "    # Faz 5 branches para cada branch predizer uma letra\n",
        "    flat = layers.Flatten()(mp3)\n",
        "    outs = []\n",
        "    for _ in range(5):\n",
        "        dens1 = layers.Dense(64, activation='relu')(flat)\n",
        "        drop = layers.Dropout(0.5)(dens1)\n",
        "        res = layers.Dense(num_symbols, activation='sigmoid')(drop)\n",
        "\n",
        "        outs.append(res)\n",
        "    \n",
        "    # Compila o modelo e o retorna\n",
        "    model = Model(img, outs)\n",
        "    model.compile(loss='categorical_crossentropy', optimizer='adam', metrics=['accuracy'])\n",
        "    return model"
      ],
      "execution_count": null,
      "outputs": [
        {
          "output_type": "stream",
          "text": [
            "time: 19.7 ms\n"
          ],
          "name": "stdout"
        }
      ]
    },
    {
      "cell_type": "code",
      "metadata": {
        "_uuid": "834999810cccd5d867f87b26b4b6e89d87a3092f",
        "id": "_d3g03IVF2Ly",
        "colab_type": "code",
        "colab": {
          "base_uri": "https://localhost:8080/",
          "height": 986
        },
        "outputId": "d3758322-3066-4a75-b85c-9b4c98f1590d"
      },
      "source": [
        "model = create_model()\n",
        "model.summary()"
      ],
      "execution_count": null,
      "outputs": [
        {
          "output_type": "stream",
          "text": [
            "Model: \"functional_5\"\n",
            "__________________________________________________________________________________________________\n",
            "Layer (type)                    Output Shape         Param #     Connected to                     \n",
            "==================================================================================================\n",
            "input_3 (InputLayer)            [(None, 50, 200, 1)] 0                                            \n",
            "__________________________________________________________________________________________________\n",
            "conv2d_6 (Conv2D)               (None, 50, 200, 16)  160         input_3[0][0]                    \n",
            "__________________________________________________________________________________________________\n",
            "max_pooling2d_6 (MaxPooling2D)  (None, 25, 100, 16)  0           conv2d_6[0][0]                   \n",
            "__________________________________________________________________________________________________\n",
            "conv2d_7 (Conv2D)               (None, 25, 100, 32)  4640        max_pooling2d_6[0][0]            \n",
            "__________________________________________________________________________________________________\n",
            "max_pooling2d_7 (MaxPooling2D)  (None, 13, 50, 32)   0           conv2d_7[0][0]                   \n",
            "__________________________________________________________________________________________________\n",
            "conv2d_8 (Conv2D)               (None, 13, 50, 32)   9248        max_pooling2d_7[0][0]            \n",
            "__________________________________________________________________________________________________\n",
            "batch_normalization_2 (BatchNor (None, 13, 50, 32)   128         conv2d_8[0][0]                   \n",
            "__________________________________________________________________________________________________\n",
            "max_pooling2d_8 (MaxPooling2D)  (None, 7, 25, 32)    0           batch_normalization_2[0][0]      \n",
            "__________________________________________________________________________________________________\n",
            "flatten_2 (Flatten)             (None, 5600)         0           max_pooling2d_8[0][0]            \n",
            "__________________________________________________________________________________________________\n",
            "dense_20 (Dense)                (None, 64)           358464      flatten_2[0][0]                  \n",
            "__________________________________________________________________________________________________\n",
            "dense_22 (Dense)                (None, 64)           358464      flatten_2[0][0]                  \n",
            "__________________________________________________________________________________________________\n",
            "dense_24 (Dense)                (None, 64)           358464      flatten_2[0][0]                  \n",
            "__________________________________________________________________________________________________\n",
            "dense_26 (Dense)                (None, 64)           358464      flatten_2[0][0]                  \n",
            "__________________________________________________________________________________________________\n",
            "dense_28 (Dense)                (None, 64)           358464      flatten_2[0][0]                  \n",
            "__________________________________________________________________________________________________\n",
            "dropout_10 (Dropout)            (None, 64)           0           dense_20[0][0]                   \n",
            "__________________________________________________________________________________________________\n",
            "dropout_11 (Dropout)            (None, 64)           0           dense_22[0][0]                   \n",
            "__________________________________________________________________________________________________\n",
            "dropout_12 (Dropout)            (None, 64)           0           dense_24[0][0]                   \n",
            "__________________________________________________________________________________________________\n",
            "dropout_13 (Dropout)            (None, 64)           0           dense_26[0][0]                   \n",
            "__________________________________________________________________________________________________\n",
            "dropout_14 (Dropout)            (None, 64)           0           dense_28[0][0]                   \n",
            "__________________________________________________________________________________________________\n",
            "dense_21 (Dense)                (None, 36)           2340        dropout_10[0][0]                 \n",
            "__________________________________________________________________________________________________\n",
            "dense_23 (Dense)                (None, 36)           2340        dropout_11[0][0]                 \n",
            "__________________________________________________________________________________________________\n",
            "dense_25 (Dense)                (None, 36)           2340        dropout_12[0][0]                 \n",
            "__________________________________________________________________________________________________\n",
            "dense_27 (Dense)                (None, 36)           2340        dropout_13[0][0]                 \n",
            "__________________________________________________________________________________________________\n",
            "dense_29 (Dense)                (None, 36)           2340        dropout_14[0][0]                 \n",
            "==================================================================================================\n",
            "Total params: 1,818,196\n",
            "Trainable params: 1,818,132\n",
            "Non-trainable params: 64\n",
            "__________________________________________________________________________________________________\n",
            "time: 205 ms\n"
          ],
          "name": "stdout"
        }
      ]
    },
    {
      "cell_type": "markdown",
      "metadata": {
        "id": "QnNfWEvxTODj",
        "colab_type": "text"
      },
      "source": [
        "## 8. Treinamento do modelo"
      ]
    },
    {
      "cell_type": "code",
      "metadata": {
        "_uuid": "e82754ff49c3cec708b87947c417566a252d3c12",
        "id": "hJd6LScvF2L2",
        "colab_type": "code",
        "colab": {
          "base_uri": "https://localhost:8080/",
          "height": 1000
        },
        "outputId": "e4e0b88a-36eb-417a-b57b-af88962c52f3"
      },
      "source": [
        "# Definidos 30 ciclos de treinamento\n",
        "hist = model.fit(X_train, [y_train[0], y_train[1], y_train[2], y_train[3], y_train[4]], batch_size=32, epochs=30, verbose=1, validation_split=0.2)"
      ],
      "execution_count": null,
      "outputs": [
        {
          "output_type": "stream",
          "text": [
            "Epoch 1/30\n",
            "25/25 [==============================] - 7s 275ms/step - loss: 17.2272 - dense_21_loss: 3.4435 - dense_23_loss: 3.4818 - dense_25_loss: 3.4221 - dense_27_loss: 3.4367 - dense_29_loss: 3.4432 - dense_21_accuracy: 0.0747 - dense_23_accuracy: 0.0606 - dense_25_accuracy: 0.0541 - dense_27_accuracy: 0.0515 - dense_29_accuracy: 0.0528 - val_loss: 17.5346 - val_dense_21_loss: 3.6201 - val_dense_23_loss: 3.5057 - val_dense_25_loss: 3.4806 - val_dense_27_loss: 3.4418 - val_dense_29_loss: 3.4864 - val_dense_21_accuracy: 0.0361 - val_dense_23_accuracy: 0.0464 - val_dense_25_accuracy: 0.0361 - val_dense_27_accuracy: 0.0567 - val_dense_29_accuracy: 0.0619\n",
            "Epoch 2/30\n",
            "25/25 [==============================] - 7s 262ms/step - loss: 15.8840 - dense_21_loss: 3.1373 - dense_23_loss: 3.1749 - dense_25_loss: 3.1956 - dense_27_loss: 3.1722 - dense_29_loss: 3.2040 - dense_21_accuracy: 0.0657 - dense_23_accuracy: 0.0735 - dense_25_accuracy: 0.0747 - dense_27_accuracy: 0.0503 - dense_29_accuracy: 0.0619 - val_loss: 17.3986 - val_dense_21_loss: 3.6096 - val_dense_23_loss: 3.4657 - val_dense_25_loss: 3.4654 - val_dense_27_loss: 3.4030 - val_dense_29_loss: 3.4549 - val_dense_21_accuracy: 0.0000e+00 - val_dense_23_accuracy: 0.0412 - val_dense_25_accuracy: 0.1134 - val_dense_27_accuracy: 0.0670 - val_dense_29_accuracy: 0.0773\n",
            "Epoch 3/30\n",
            "25/25 [==============================] - 6s 260ms/step - loss: 14.8742 - dense_21_loss: 2.8458 - dense_23_loss: 2.9833 - dense_25_loss: 3.0054 - dense_27_loss: 3.0285 - dense_29_loss: 3.0112 - dense_21_accuracy: 0.0876 - dense_23_accuracy: 0.0799 - dense_25_accuracy: 0.0915 - dense_27_accuracy: 0.0773 - dense_29_accuracy: 0.1005 - val_loss: 17.2997 - val_dense_21_loss: 3.5958 - val_dense_23_loss: 3.4285 - val_dense_25_loss: 3.4367 - val_dense_27_loss: 3.4120 - val_dense_29_loss: 3.4267 - val_dense_21_accuracy: 0.0000e+00 - val_dense_23_accuracy: 0.1598 - val_dense_25_accuracy: 0.1753 - val_dense_27_accuracy: 0.1495 - val_dense_29_accuracy: 0.1495\n",
            "Epoch 4/30\n",
            "25/25 [==============================] - 7s 262ms/step - loss: 14.1596 - dense_21_loss: 2.6836 - dense_23_loss: 2.8374 - dense_25_loss: 2.8202 - dense_27_loss: 2.9229 - dense_29_loss: 2.8955 - dense_21_accuracy: 0.0915 - dense_23_accuracy: 0.1366 - dense_25_accuracy: 0.1469 - dense_27_accuracy: 0.1005 - dense_29_accuracy: 0.1366 - val_loss: 17.2822 - val_dense_21_loss: 3.5922 - val_dense_23_loss: 3.4210 - val_dense_25_loss: 3.4107 - val_dense_27_loss: 3.4075 - val_dense_29_loss: 3.4508 - val_dense_21_accuracy: 0.0000e+00 - val_dense_23_accuracy: 0.0928 - val_dense_25_accuracy: 0.2320 - val_dense_27_accuracy: 0.1186 - val_dense_29_accuracy: 0.1959\n",
            "Epoch 5/30\n",
            "25/25 [==============================] - 7s 260ms/step - loss: 13.5106 - dense_21_loss: 2.5528 - dense_23_loss: 2.7077 - dense_25_loss: 2.6979 - dense_27_loss: 2.8173 - dense_29_loss: 2.7350 - dense_21_accuracy: 0.1082 - dense_23_accuracy: 0.1688 - dense_25_accuracy: 0.1933 - dense_27_accuracy: 0.1044 - dense_29_accuracy: 0.2088 - val_loss: 17.1101 - val_dense_21_loss: 3.5867 - val_dense_23_loss: 3.3720 - val_dense_25_loss: 3.3538 - val_dense_27_loss: 3.4163 - val_dense_29_loss: 3.3814 - val_dense_21_accuracy: 0.0000e+00 - val_dense_23_accuracy: 0.1289 - val_dense_25_accuracy: 0.2577 - val_dense_27_accuracy: 0.1031 - val_dense_29_accuracy: 0.2320\n",
            "Epoch 6/30\n",
            "25/25 [==============================] - 7s 262ms/step - loss: 12.8182 - dense_21_loss: 2.3983 - dense_23_loss: 2.5621 - dense_25_loss: 2.5316 - dense_27_loss: 2.7437 - dense_29_loss: 2.5825 - dense_21_accuracy: 0.1521 - dense_23_accuracy: 0.1765 - dense_25_accuracy: 0.2487 - dense_27_accuracy: 0.1508 - dense_29_accuracy: 0.1907 - val_loss: 16.7575 - val_dense_21_loss: 3.5892 - val_dense_23_loss: 3.2965 - val_dense_25_loss: 3.2757 - val_dense_27_loss: 3.2785 - val_dense_29_loss: 3.3176 - val_dense_21_accuracy: 0.0000e+00 - val_dense_23_accuracy: 0.1856 - val_dense_25_accuracy: 0.3144 - val_dense_27_accuracy: 0.1134 - val_dense_29_accuracy: 0.2629\n",
            "Epoch 7/30\n",
            "25/25 [==============================] - 6s 260ms/step - loss: 12.0253 - dense_21_loss: 2.2506 - dense_23_loss: 2.3868 - dense_25_loss: 2.3773 - dense_27_loss: 2.5874 - dense_29_loss: 2.4231 - dense_21_accuracy: 0.1701 - dense_23_accuracy: 0.2165 - dense_25_accuracy: 0.2719 - dense_27_accuracy: 0.2113 - dense_29_accuracy: 0.2552 - val_loss: 16.1756 - val_dense_21_loss: 3.5316 - val_dense_23_loss: 3.1454 - val_dense_25_loss: 3.1286 - val_dense_27_loss: 3.1766 - val_dense_29_loss: 3.1934 - val_dense_21_accuracy: 0.0206 - val_dense_23_accuracy: 0.1753 - val_dense_25_accuracy: 0.4330 - val_dense_27_accuracy: 0.1753 - val_dense_29_accuracy: 0.2887\n",
            "Epoch 8/30\n",
            "25/25 [==============================] - 7s 260ms/step - loss: 11.1430 - dense_21_loss: 2.0141 - dense_23_loss: 2.1962 - dense_25_loss: 2.1983 - dense_27_loss: 2.4227 - dense_29_loss: 2.3117 - dense_21_accuracy: 0.2655 - dense_23_accuracy: 0.2371 - dense_25_accuracy: 0.3286 - dense_27_accuracy: 0.2075 - dense_29_accuracy: 0.2680 - val_loss: 15.7166 - val_dense_21_loss: 3.5180 - val_dense_23_loss: 3.0533 - val_dense_25_loss: 3.0066 - val_dense_27_loss: 3.0413 - val_dense_29_loss: 3.0974 - val_dense_21_accuracy: 0.1753 - val_dense_23_accuracy: 0.2474 - val_dense_25_accuracy: 0.4845 - val_dense_27_accuracy: 0.2474 - val_dense_29_accuracy: 0.2680\n",
            "Epoch 9/30\n",
            "25/25 [==============================] - 6s 259ms/step - loss: 10.1890 - dense_21_loss: 1.7688 - dense_23_loss: 1.9881 - dense_25_loss: 1.9806 - dense_27_loss: 2.3009 - dense_29_loss: 2.1506 - dense_21_accuracy: 0.4420 - dense_23_accuracy: 0.2990 - dense_25_accuracy: 0.4046 - dense_27_accuracy: 0.3196 - dense_29_accuracy: 0.3067 - val_loss: 15.0830 - val_dense_21_loss: 3.5225 - val_dense_23_loss: 2.8537 - val_dense_25_loss: 2.8752 - val_dense_27_loss: 2.9005 - val_dense_29_loss: 2.9311 - val_dense_21_accuracy: 0.0979 - val_dense_23_accuracy: 0.3402 - val_dense_25_accuracy: 0.3454 - val_dense_27_accuracy: 0.3969 - val_dense_29_accuracy: 0.3196\n",
            "Epoch 10/30\n",
            "25/25 [==============================] - 6s 260ms/step - loss: 9.0616 - dense_21_loss: 1.4196 - dense_23_loss: 1.7148 - dense_25_loss: 1.8202 - dense_27_loss: 2.0770 - dense_29_loss: 2.0301 - dense_21_accuracy: 0.5309 - dense_23_accuracy: 0.3943 - dense_25_accuracy: 0.4356 - dense_27_accuracy: 0.3582 - dense_29_accuracy: 0.3557 - val_loss: 14.7283 - val_dense_21_loss: 3.3333 - val_dense_23_loss: 2.7811 - val_dense_25_loss: 2.8366 - val_dense_27_loss: 2.8240 - val_dense_29_loss: 2.9534 - val_dense_21_accuracy: 0.3660 - val_dense_23_accuracy: 0.5000 - val_dense_25_accuracy: 0.3557 - val_dense_27_accuracy: 0.3144 - val_dense_29_accuracy: 0.3196\n",
            "Epoch 11/30\n",
            "25/25 [==============================] - 6s 260ms/step - loss: 7.7425 - dense_21_loss: 1.1199 - dense_23_loss: 1.4042 - dense_25_loss: 1.6039 - dense_27_loss: 1.8061 - dense_29_loss: 1.8083 - dense_21_accuracy: 0.6430 - dense_23_accuracy: 0.5554 - dense_25_accuracy: 0.5103 - dense_27_accuracy: 0.4381 - dense_29_accuracy: 0.3853 - val_loss: 13.4555 - val_dense_21_loss: 3.5821 - val_dense_23_loss: 2.3541 - val_dense_25_loss: 2.3946 - val_dense_27_loss: 2.4506 - val_dense_29_loss: 2.6741 - val_dense_21_accuracy: 0.3299 - val_dense_23_accuracy: 0.6082 - val_dense_25_accuracy: 0.5515 - val_dense_27_accuracy: 0.5309 - val_dense_29_accuracy: 0.4691\n",
            "Epoch 12/30\n",
            "25/25 [==============================] - 6s 259ms/step - loss: 6.5594 - dense_21_loss: 0.8835 - dense_23_loss: 1.2247 - dense_25_loss: 1.3191 - dense_27_loss: 1.5308 - dense_29_loss: 1.6013 - dense_21_accuracy: 0.7204 - dense_23_accuracy: 0.5863 - dense_25_accuracy: 0.5760 - dense_27_accuracy: 0.5477 - dense_29_accuracy: 0.4652 - val_loss: 12.4259 - val_dense_21_loss: 3.4780 - val_dense_23_loss: 2.0993 - val_dense_25_loss: 2.1717 - val_dense_27_loss: 2.2557 - val_dense_29_loss: 2.4212 - val_dense_21_accuracy: 0.3557 - val_dense_23_accuracy: 0.6959 - val_dense_25_accuracy: 0.6649 - val_dense_27_accuracy: 0.6495 - val_dense_29_accuracy: 0.5361\n",
            "Epoch 13/30\n",
            "25/25 [==============================] - 7s 264ms/step - loss: 5.6096 - dense_21_loss: 0.6385 - dense_23_loss: 1.0134 - dense_25_loss: 1.1746 - dense_27_loss: 1.3798 - dense_29_loss: 1.4033 - dense_21_accuracy: 0.7899 - dense_23_accuracy: 0.6675 - dense_25_accuracy: 0.6495 - dense_27_accuracy: 0.5773 - dense_29_accuracy: 0.5580 - val_loss: 11.1950 - val_dense_21_loss: 3.9026 - val_dense_23_loss: 1.6395 - val_dense_25_loss: 1.7675 - val_dense_27_loss: 1.9176 - val_dense_29_loss: 1.9678 - val_dense_21_accuracy: 0.3608 - val_dense_23_accuracy: 0.7577 - val_dense_25_accuracy: 0.7165 - val_dense_27_accuracy: 0.6804 - val_dense_29_accuracy: 0.5412\n",
            "Epoch 14/30\n",
            "25/25 [==============================] - 7s 264ms/step - loss: 4.7132 - dense_21_loss: 0.5142 - dense_23_loss: 0.8457 - dense_25_loss: 0.9124 - dense_27_loss: 1.2081 - dense_29_loss: 1.2329 - dense_21_accuracy: 0.8441 - dense_23_accuracy: 0.7152 - dense_25_accuracy: 0.7178 - dense_27_accuracy: 0.6327 - dense_29_accuracy: 0.5941 - val_loss: 10.5679 - val_dense_21_loss: 3.8268 - val_dense_23_loss: 1.5927 - val_dense_25_loss: 1.6367 - val_dense_27_loss: 1.6835 - val_dense_29_loss: 1.8283 - val_dense_21_accuracy: 0.3660 - val_dense_23_accuracy: 0.7113 - val_dense_25_accuracy: 0.5928 - val_dense_27_accuracy: 0.6856 - val_dense_29_accuracy: 0.6959\n",
            "Epoch 15/30\n",
            "25/25 [==============================] - 7s 261ms/step - loss: 4.0887 - dense_21_loss: 0.4604 - dense_23_loss: 0.6979 - dense_25_loss: 0.8394 - dense_27_loss: 1.0037 - dense_29_loss: 1.0873 - dense_21_accuracy: 0.8673 - dense_23_accuracy: 0.7758 - dense_25_accuracy: 0.7255 - dense_27_accuracy: 0.7126 - dense_29_accuracy: 0.6482 - val_loss: 9.3470 - val_dense_21_loss: 4.1548 - val_dense_23_loss: 1.1059 - val_dense_25_loss: 1.2680 - val_dense_27_loss: 1.3105 - val_dense_29_loss: 1.5079 - val_dense_21_accuracy: 0.4124 - val_dense_23_accuracy: 0.7835 - val_dense_25_accuracy: 0.7062 - val_dense_27_accuracy: 0.7216 - val_dense_29_accuracy: 0.7371\n",
            "Epoch 16/30\n",
            "25/25 [==============================] - 7s 261ms/step - loss: 3.4901 - dense_21_loss: 0.3939 - dense_23_loss: 0.6462 - dense_25_loss: 0.7056 - dense_27_loss: 0.8446 - dense_29_loss: 0.8997 - dense_21_accuracy: 0.8724 - dense_23_accuracy: 0.7887 - dense_25_accuracy: 0.7784 - dense_27_accuracy: 0.7268 - dense_29_accuracy: 0.7075 - val_loss: 9.2405 - val_dense_21_loss: 4.0112 - val_dense_23_loss: 1.2381 - val_dense_25_loss: 1.2463 - val_dense_27_loss: 1.4704 - val_dense_29_loss: 1.2746 - val_dense_21_accuracy: 0.4021 - val_dense_23_accuracy: 0.7526 - val_dense_25_accuracy: 0.7268 - val_dense_27_accuracy: 0.6598 - val_dense_29_accuracy: 0.7732\n",
            "Epoch 17/30\n",
            "25/25 [==============================] - 7s 261ms/step - loss: 3.0495 - dense_21_loss: 0.2858 - dense_23_loss: 0.5712 - dense_25_loss: 0.5989 - dense_27_loss: 0.7353 - dense_29_loss: 0.8583 - dense_21_accuracy: 0.9072 - dense_23_accuracy: 0.8067 - dense_25_accuracy: 0.8325 - dense_27_accuracy: 0.7977 - dense_29_accuracy: 0.7113 - val_loss: 9.2496 - val_dense_21_loss: 5.3070 - val_dense_23_loss: 0.8656 - val_dense_25_loss: 1.0112 - val_dense_27_loss: 0.9692 - val_dense_29_loss: 1.0966 - val_dense_21_accuracy: 0.4124 - val_dense_23_accuracy: 0.8144 - val_dense_25_accuracy: 0.7577 - val_dense_27_accuracy: 0.7474 - val_dense_29_accuracy: 0.7990\n",
            "Epoch 18/30\n",
            "25/25 [==============================] - 6s 259ms/step - loss: 2.6924 - dense_21_loss: 0.2451 - dense_23_loss: 0.4830 - dense_25_loss: 0.5694 - dense_27_loss: 0.6631 - dense_29_loss: 0.7318 - dense_21_accuracy: 0.9265 - dense_23_accuracy: 0.8247 - dense_25_accuracy: 0.7938 - dense_27_accuracy: 0.7990 - dense_29_accuracy: 0.7500 - val_loss: 8.8013 - val_dense_21_loss: 5.2995 - val_dense_23_loss: 0.7966 - val_dense_25_loss: 0.8978 - val_dense_27_loss: 0.8674 - val_dense_29_loss: 0.9399 - val_dense_21_accuracy: 0.4227 - val_dense_23_accuracy: 0.8505 - val_dense_25_accuracy: 0.7526 - val_dense_27_accuracy: 0.7577 - val_dense_29_accuracy: 0.7680\n",
            "Epoch 19/30\n",
            "25/25 [==============================] - 7s 262ms/step - loss: 2.2990 - dense_21_loss: 0.2016 - dense_23_loss: 0.4376 - dense_25_loss: 0.4330 - dense_27_loss: 0.5784 - dense_29_loss: 0.6482 - dense_21_accuracy: 0.9407 - dense_23_accuracy: 0.8634 - dense_25_accuracy: 0.8557 - dense_27_accuracy: 0.8054 - dense_29_accuracy: 0.7680 - val_loss: 8.9048 - val_dense_21_loss: 5.7559 - val_dense_23_loss: 0.7228 - val_dense_25_loss: 0.8407 - val_dense_27_loss: 0.8182 - val_dense_29_loss: 0.7671 - val_dense_21_accuracy: 0.4227 - val_dense_23_accuracy: 0.8505 - val_dense_25_accuracy: 0.7526 - val_dense_27_accuracy: 0.7629 - val_dense_29_accuracy: 0.8144\n",
            "Epoch 20/30\n",
            "25/25 [==============================] - 6s 260ms/step - loss: 2.2055 - dense_21_loss: 0.2394 - dense_23_loss: 0.3902 - dense_25_loss: 0.4264 - dense_27_loss: 0.5603 - dense_29_loss: 0.5893 - dense_21_accuracy: 0.9227 - dense_23_accuracy: 0.8737 - dense_25_accuracy: 0.8621 - dense_27_accuracy: 0.8247 - dense_29_accuracy: 0.7964 - val_loss: 9.1418 - val_dense_21_loss: 6.3507 - val_dense_23_loss: 0.6783 - val_dense_25_loss: 0.7761 - val_dense_27_loss: 0.7191 - val_dense_29_loss: 0.6177 - val_dense_21_accuracy: 0.4227 - val_dense_23_accuracy: 0.8814 - val_dense_25_accuracy: 0.7526 - val_dense_27_accuracy: 0.8041 - val_dense_29_accuracy: 0.8402\n",
            "Epoch 21/30\n",
            "25/25 [==============================] - 7s 261ms/step - loss: 1.8501 - dense_21_loss: 0.1980 - dense_23_loss: 0.3640 - dense_25_loss: 0.3482 - dense_27_loss: 0.4539 - dense_29_loss: 0.4860 - dense_21_accuracy: 0.9433 - dense_23_accuracy: 0.8840 - dense_25_accuracy: 0.8866 - dense_27_accuracy: 0.8415 - dense_29_accuracy: 0.8235 - val_loss: 10.2027 - val_dense_21_loss: 7.4325 - val_dense_23_loss: 0.6710 - val_dense_25_loss: 0.7801 - val_dense_27_loss: 0.7155 - val_dense_29_loss: 0.6036 - val_dense_21_accuracy: 0.4381 - val_dense_23_accuracy: 0.8711 - val_dense_25_accuracy: 0.7526 - val_dense_27_accuracy: 0.7784 - val_dense_29_accuracy: 0.8247\n",
            "Epoch 22/30\n",
            "25/25 [==============================] - 7s 260ms/step - loss: 1.7980 - dense_21_loss: 0.1771 - dense_23_loss: 0.3296 - dense_25_loss: 0.3344 - dense_27_loss: 0.4693 - dense_29_loss: 0.4875 - dense_21_accuracy: 0.9420 - dense_23_accuracy: 0.8776 - dense_25_accuracy: 0.9008 - dense_27_accuracy: 0.8492 - dense_29_accuracy: 0.8402 - val_loss: 10.3081 - val_dense_21_loss: 7.5933 - val_dense_23_loss: 0.6831 - val_dense_25_loss: 0.8128 - val_dense_27_loss: 0.6650 - val_dense_29_loss: 0.5540 - val_dense_21_accuracy: 0.4124 - val_dense_23_accuracy: 0.8711 - val_dense_25_accuracy: 0.7784 - val_dense_27_accuracy: 0.7990 - val_dense_29_accuracy: 0.8454\n",
            "Epoch 23/30\n",
            "25/25 [==============================] - 6s 260ms/step - loss: 1.6437 - dense_21_loss: 0.1694 - dense_23_loss: 0.3191 - dense_25_loss: 0.3104 - dense_27_loss: 0.3990 - dense_29_loss: 0.4459 - dense_21_accuracy: 0.9497 - dense_23_accuracy: 0.8776 - dense_25_accuracy: 0.8956 - dense_27_accuracy: 0.8660 - dense_29_accuracy: 0.8415 - val_loss: 10.3380 - val_dense_21_loss: 7.5657 - val_dense_23_loss: 0.8072 - val_dense_25_loss: 0.8637 - val_dense_27_loss: 0.6649 - val_dense_29_loss: 0.4365 - val_dense_21_accuracy: 0.4278 - val_dense_23_accuracy: 0.8660 - val_dense_25_accuracy: 0.7732 - val_dense_27_accuracy: 0.8041 - val_dense_29_accuracy: 0.8763\n",
            "Epoch 24/30\n",
            "25/25 [==============================] - 7s 261ms/step - loss: 1.5310 - dense_21_loss: 0.1895 - dense_23_loss: 0.3003 - dense_25_loss: 0.2785 - dense_27_loss: 0.3795 - dense_29_loss: 0.3833 - dense_21_accuracy: 0.9381 - dense_23_accuracy: 0.8943 - dense_25_accuracy: 0.9021 - dense_27_accuracy: 0.8802 - dense_29_accuracy: 0.8544 - val_loss: 10.9007 - val_dense_21_loss: 8.1174 - val_dense_23_loss: 0.7388 - val_dense_25_loss: 0.8544 - val_dense_27_loss: 0.6666 - val_dense_29_loss: 0.5236 - val_dense_21_accuracy: 0.4381 - val_dense_23_accuracy: 0.8660 - val_dense_25_accuracy: 0.7680 - val_dense_27_accuracy: 0.7990 - val_dense_29_accuracy: 0.8299\n",
            "Epoch 25/30\n",
            "25/25 [==============================] - 7s 262ms/step - loss: 1.3722 - dense_21_loss: 0.1437 - dense_23_loss: 0.2830 - dense_25_loss: 0.2629 - dense_27_loss: 0.3334 - dense_29_loss: 0.3493 - dense_21_accuracy: 0.9562 - dense_23_accuracy: 0.8956 - dense_25_accuracy: 0.9149 - dense_27_accuracy: 0.8905 - dense_29_accuracy: 0.8776 - val_loss: 10.7148 - val_dense_21_loss: 7.8375 - val_dense_23_loss: 0.8174 - val_dense_25_loss: 0.8441 - val_dense_27_loss: 0.7340 - val_dense_29_loss: 0.4818 - val_dense_21_accuracy: 0.4021 - val_dense_23_accuracy: 0.8557 - val_dense_25_accuracy: 0.7835 - val_dense_27_accuracy: 0.7835 - val_dense_29_accuracy: 0.8557\n",
            "Epoch 26/30\n",
            "25/25 [==============================] - 7s 261ms/step - loss: 1.2859 - dense_21_loss: 0.1456 - dense_23_loss: 0.2665 - dense_25_loss: 0.2221 - dense_27_loss: 0.3011 - dense_29_loss: 0.3506 - dense_21_accuracy: 0.9588 - dense_23_accuracy: 0.9008 - dense_25_accuracy: 0.9253 - dense_27_accuracy: 0.8995 - dense_29_accuracy: 0.8737 - val_loss: 11.5025 - val_dense_21_loss: 8.4430 - val_dense_23_loss: 0.9091 - val_dense_25_loss: 0.9073 - val_dense_27_loss: 0.7420 - val_dense_29_loss: 0.5011 - val_dense_21_accuracy: 0.4227 - val_dense_23_accuracy: 0.8711 - val_dense_25_accuracy: 0.7938 - val_dense_27_accuracy: 0.7990 - val_dense_29_accuracy: 0.8660\n",
            "Epoch 27/30\n",
            "25/25 [==============================] - 7s 261ms/step - loss: 1.1351 - dense_21_loss: 0.1402 - dense_23_loss: 0.2239 - dense_25_loss: 0.2079 - dense_27_loss: 0.2872 - dense_29_loss: 0.2759 - dense_21_accuracy: 0.9549 - dense_23_accuracy: 0.9330 - dense_25_accuracy: 0.9317 - dense_27_accuracy: 0.9137 - dense_29_accuracy: 0.9034 - val_loss: 11.6211 - val_dense_21_loss: 8.4660 - val_dense_23_loss: 0.8883 - val_dense_25_loss: 1.0093 - val_dense_27_loss: 0.7873 - val_dense_29_loss: 0.4701 - val_dense_21_accuracy: 0.4278 - val_dense_23_accuracy: 0.8660 - val_dense_25_accuracy: 0.7835 - val_dense_27_accuracy: 0.8041 - val_dense_29_accuracy: 0.8866\n",
            "Epoch 28/30\n",
            "25/25 [==============================] - 7s 260ms/step - loss: 1.0976 - dense_21_loss: 0.1204 - dense_23_loss: 0.2236 - dense_25_loss: 0.2062 - dense_27_loss: 0.2388 - dense_29_loss: 0.3085 - dense_21_accuracy: 0.9562 - dense_23_accuracy: 0.9175 - dense_25_accuracy: 0.9317 - dense_27_accuracy: 0.9162 - dense_29_accuracy: 0.8892 - val_loss: 11.4179 - val_dense_21_loss: 8.3456 - val_dense_23_loss: 0.8589 - val_dense_25_loss: 0.9914 - val_dense_27_loss: 0.7469 - val_dense_29_loss: 0.4751 - val_dense_21_accuracy: 0.4330 - val_dense_23_accuracy: 0.8660 - val_dense_25_accuracy: 0.7784 - val_dense_27_accuracy: 0.7938 - val_dense_29_accuracy: 0.8608\n",
            "Epoch 29/30\n",
            "25/25 [==============================] - 6s 259ms/step - loss: 1.1391 - dense_21_loss: 0.1311 - dense_23_loss: 0.2331 - dense_25_loss: 0.2261 - dense_27_loss: 0.2517 - dense_29_loss: 0.2970 - dense_21_accuracy: 0.9562 - dense_23_accuracy: 0.9149 - dense_25_accuracy: 0.9214 - dense_27_accuracy: 0.9188 - dense_29_accuracy: 0.8969 - val_loss: 11.8149 - val_dense_21_loss: 8.5567 - val_dense_23_loss: 0.8796 - val_dense_25_loss: 0.9256 - val_dense_27_loss: 0.8711 - val_dense_29_loss: 0.5819 - val_dense_21_accuracy: 0.4381 - val_dense_23_accuracy: 0.8557 - val_dense_25_accuracy: 0.7784 - val_dense_27_accuracy: 0.8041 - val_dense_29_accuracy: 0.8454\n",
            "Epoch 30/30\n",
            "25/25 [==============================] - 7s 260ms/step - loss: 1.0419 - dense_21_loss: 0.1004 - dense_23_loss: 0.2430 - dense_25_loss: 0.1851 - dense_27_loss: 0.2513 - dense_29_loss: 0.2621 - dense_21_accuracy: 0.9601 - dense_23_accuracy: 0.9072 - dense_25_accuracy: 0.9291 - dense_27_accuracy: 0.9265 - dense_29_accuracy: 0.9072 - val_loss: 11.2572 - val_dense_21_loss: 8.2691 - val_dense_23_loss: 0.7503 - val_dense_25_loss: 0.8824 - val_dense_27_loss: 0.8213 - val_dense_29_loss: 0.5341 - val_dense_21_accuracy: 0.4278 - val_dense_23_accuracy: 0.8711 - val_dense_25_accuracy: 0.7887 - val_dense_27_accuracy: 0.8299 - val_dense_29_accuracy: 0.8505\n",
            "time: 3min 25s\n"
          ],
          "name": "stdout"
        }
      ]
    },
    {
      "cell_type": "markdown",
      "metadata": {
        "id": "RIw_gNrXUua1",
        "colab_type": "text"
      },
      "source": [
        "## 9. Avaliação do Modelo"
      ]
    },
    {
      "cell_type": "code",
      "metadata": {
        "_uuid": "ed22f3a33792928c9f74601b264d269361755e0b",
        "id": "k2IcDuHiF2L-",
        "colab_type": "code",
        "colab": {
          "base_uri": "https://localhost:8080/",
          "height": 88
        },
        "outputId": "fd9002d5-7d14-4fe4-f5c7-cbcff84ee8b3"
      },
      "source": [
        "score = model.evaluate(X_test,[y_test[0], y_test[1], y_test[2], y_test[3], y_test[4]], verbose=1)\n",
        "print('Testa pontuação e acurácia:', score)"
      ],
      "execution_count": null,
      "outputs": [
        {
          "output_type": "stream",
          "text": [
            "4/4 [==============================] - 0s 42ms/step - loss: 18.7118 - dense_21_loss: 14.4543 - dense_23_loss: 1.2260 - dense_25_loss: 1.4873 - dense_27_loss: 0.8881 - dense_29_loss: 0.6562 - dense_21_accuracy: 0.0000e+00 - dense_23_accuracy: 0.7822 - dense_25_accuracy: 0.7030 - dense_27_accuracy: 0.7327 - dense_29_accuracy: 0.8416\n",
            "Test Loss and accuracy: [18.711807250976562, 14.454259872436523, 1.2260003089904785, 1.4873274564743042, 0.8880635499954224, 0.6561548709869385, 0.0, 0.7821782231330872, 0.7029703259468079, 0.7326732873916626, 0.8415841460227966]\n",
            "time: 302 ms\n"
          ],
          "name": "stdout"
        }
      ]
    },
    {
      "cell_type": "markdown",
      "metadata": {
        "id": "1uTPx7cgUR5k",
        "colab_type": "text"
      },
      "source": [
        "## 10. Realizando predição de códigos captcha específicos\n",
        "\n"
      ]
    },
    {
      "cell_type": "code",
      "metadata": {
        "_uuid": "e2cf1d0b8ab4a293d3dc110eb85a0946333bb0b9",
        "id": "XqwPFH4rF2L7",
        "colab_type": "code",
        "colab": {
          "base_uri": "https://localhost:8080/",
          "height": 34
        },
        "outputId": "6b73774f-ddfc-4e36-bb78-8e69cb743346"
      },
      "source": [
        "# Define function to predict captcha\n",
        "def predict(filepath):\n",
        "    img = cv2.imread(filepath, cv2.IMREAD_GRAYSCALE)\n",
        "    if img is not None:\n",
        "        img = img / 255.0\n",
        "    else:\n",
        "        print(\"Not detected\");\n",
        "    res = np.array(model.predict(img[np.newaxis, :, :, np.newaxis]))\n",
        "    ans = np.reshape(res, (5, 36))\n",
        "    l_ind = []\n",
        "    probs = []\n",
        "    for a in ans:\n",
        "        l_ind.append(np.argmax(a))\n",
        "        #probs.append(np.max(a))\n",
        "\n",
        "    capt = ''\n",
        "    for l in l_ind:\n",
        "        capt += symbols[l]\n",
        "    return capt #, sum(probs) / 5"
      ],
      "execution_count": null,
      "outputs": [
        {
          "output_type": "stream",
          "text": [
            "time: 7.33 ms\n"
          ],
          "name": "stdout"
        }
      ]
    },
    {
      "cell_type": "markdown",
      "metadata": {
        "id": "asAZuHVGWRal",
        "colab_type": "text"
      },
      "source": [
        "### 10.1. Predizendo código do captcha '8n5p3.png'"
      ]
    },
    {
      "cell_type": "code",
      "metadata": {
        "id": "S-hZZVrwWrZu",
        "colab_type": "code",
        "colab": {
          "base_uri": "https://localhost:8080/",
          "height": 169
        },
        "outputId": "3ba5fab9-5b4e-4199-84d6-a77a6f91612c"
      },
      "source": [
        "# Imprime imagem\n",
        "img=cv2.imread(path + 'imagem_objetivo.png', cv2.IMREAD_GRAYSCALE)\n",
        "plt.imshow(img, cmap=plt.get_cmap('gray'))"
      ],
      "execution_count": null,
      "outputs": [
        {
          "output_type": "execute_result",
          "data": {
            "text/plain": [
              "<matplotlib.image.AxesImage at 0x7f2174fe49e8>"
            ]
          },
          "metadata": {
            "tags": []
          },
          "execution_count": 65
        },
        {
          "output_type": "display_data",
          "data": {
            "image/png": "[encoded data removed]",
            "text/plain": [
              "<Figure size 432x288 with 1 Axes>"
            ]
          },
          "metadata": {
            "tags": [],
            "needs_background": "light"
          }
        },
        {
          "output_type": "stream",
          "text": [
            "time: 167 ms\n"
          ],
          "name": "stdout"
        }
      ]
    },
    {
      "cell_type": "code",
      "metadata": {
        "_uuid": "1f7aa77001b1185404c45a928d2555c484c402b3",
        "id": "pN4_D_O2F2ME",
        "colab_type": "code",
        "colab": {
          "base_uri": "https://localhost:8080/",
          "height": 51
        },
        "outputId": "dd314a8e-8066-4f92-d2b5-c1ae4f0aa87a"
      },
      "source": [
        "# Realização predição\n",
        "print(\"Captcha =\", predict(path + 'imagem_objetivo.png'))"
      ],
      "execution_count": null,
      "outputs": [
        {
          "output_type": "stream",
          "text": [
            "Captcha = 8n5p3\n",
            "time: 61.4 ms\n"
          ],
          "name": "stdout"
        }
      ]
    },
    {
      "cell_type": "markdown",
      "metadata": {
        "id": "ngh4sLgoXBqS",
        "colab_type": "text"
      },
      "source": [
        "# Conclusões\n",
        "\n",
        "* Com 30 ciclos de treinamento foi possível observar que a taxa de perdas caiu consideravelmente\n",
        "* Com a função de predição foi possível identificar o código do captcha solicitado pelo professor (item 10.1.).\n",
        "* A acurácia do modelo atingiu 0.8415841460227966 na etapa de avaliação."
      ]
    },
    {
      "cell_type": "markdown",
      "metadata": {
        "id": "Hy3jFF97XxcC",
        "colab_type": "text"
      },
      "source": [
        "# Converter para HTML\n",
        "\n",
        "* Fazer copia do notebook e colar na pasta raiz do Google colab\n",
        "* Depois, executar comando abaixo:"
      ]
    },
    {
      "cell_type": "code",
      "metadata": {
        "id": "-w27wuyaX1Rb",
        "colab_type": "code",
        "colab": {
          "base_uri": "https://localhost:8080/",
          "height": 68
        },
        "outputId": "d1675574-dbd7-411d-c568-3358169b07d8"
      },
      "source": [
        "!jupyter nbconvert --to html sample_data/captcha-recognition.ipynb"
      ],
      "execution_count": null,
      "outputs": [
        {
          "output_type": "stream",
          "text": [
            "[NbConvertApp] Converting notebook sample_data/captcha-recognition.ipynb to html\n",
            "[NbConvertApp] Writing 427355 bytes to sample_data/captcha-recognition.html\n",
            "time: 1.14 s\n"
          ],
          "name": "stdout"
        }
      ]
    }
  ]
}