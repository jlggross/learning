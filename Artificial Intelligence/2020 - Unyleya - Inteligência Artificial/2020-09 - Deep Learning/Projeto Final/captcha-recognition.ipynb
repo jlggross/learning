{
 "cells": [
  {
   "cell_type": "code",
   "execution_count": 1,
   "metadata": {
    "_cell_guid": "b1076dfc-b9ad-4769-8c92-a6c4dae69d19",
    "_uuid": "8f2839f25d086af736a60e9eeb907d3b93b6e0e5"
   },
   "outputs": [
    {
     "name": "stdout",
     "output_type": "stream",
     "text": [
      "['captcha-version-2-images', 'captcha']\n"
     ]
    }
   ],
   "source": [
    "# This Python 3 environment comes with many helpful analytics libraries installed\n",
    "# It is defined by the kaggle/python docker image: https://github.com/kaggle/docker-python\n",
    "# For example, here's several helpful packages to load in \n",
    "\n",
    "import numpy as np # linear algebra\n",
    "import pandas as pd # data processing, CSV file I/O (e.g. pd.read_csv)\n",
    "# Input data files are available in the \"../input/\" directory.\n",
    "# For example, running this (by clicking run or pressing Shift+Enter) will list the files in the input directory\n",
    "%matplotlib inline \n",
    "import matplotlib.pyplot as plt\n",
    "import os\n",
    "print(os.listdir(\"../input\"))\n",
    "\n",
    "# Any results you write to the current directory are saved as output."
   ]
  },
  {
   "cell_type": "code",
   "execution_count": 2,
   "metadata": {
    "_uuid": "1fdd3e1588206ff8c65ec7cf8ac41c5360a5c00a"
   },
   "outputs": [
    {
     "name": "stderr",
     "output_type": "stream",
     "text": [
      "Using TensorFlow backend.\n"
     ]
    }
   ],
   "source": [
    "from keras import layers\n",
    "from keras.models import Model\n",
    "from keras.models import load_model\n",
    "from keras import callbacks\n",
    "import os\n",
    "import cv2\n",
    "import string\n",
    "import numpy as np\n",
    "\n",
    "#Init main values\n",
    "symbols = string.ascii_lowercase + \"0123456789\" # All symbols captcha can contain\n",
    "num_symbols = len(symbols)\n",
    "img_shape = (50, 200, 1)"
   ]
  },
  {
   "cell_type": "code",
   "execution_count": 3,
   "metadata": {
    "_uuid": "a84cb6138839a96688013722a585658859150dd8"
   },
   "outputs": [
    {
     "name": "stdout",
     "output_type": "stream",
     "text": [
      "36\n"
     ]
    }
   ],
   "source": [
    "print(num_symbols)"
   ]
  },
  {
   "cell_type": "code",
   "execution_count": 4,
   "metadata": {
    "_uuid": "46c8b77c16307b91a561dd2b3c82d894063671b8"
   },
   "outputs": [],
   "source": [
    "def create_model():\n",
    "    img = layers.Input(shape=img_shape) # Get image as an input and process it through some Convs\n",
    "    conv1 = layers.Conv2D(16, (3, 3), padding='same', activation='relu')(img)\n",
    "    mp1 = layers.MaxPooling2D(padding='same')(conv1)  # 100x25\n",
    "    conv2 = layers.Conv2D(32, (3, 3), padding='same', activation='relu')(mp1)\n",
    "    mp2 = layers.MaxPooling2D(padding='same')(conv2)  # 50x13\n",
    "    conv3 = layers.Conv2D(32, (3, 3), padding='same', activation='relu')(mp2)\n",
    "    bn = layers.BatchNormalization()(conv3)\n",
    "    mp3 = layers.MaxPooling2D(padding='same')(bn)  # 25x7\n",
    "    \n",
    "    # Get flattened vector and make 5 branches from it. Each branch will predict one letter\n",
    "    flat = layers.Flatten()(mp3)\n",
    "    outs = []\n",
    "    for _ in range(5):\n",
    "        dens1 = layers.Dense(64, activation='relu')(flat)\n",
    "        drop = layers.Dropout(0.5)(dens1)\n",
    "        res = layers.Dense(num_symbols, activation='sigmoid')(drop)\n",
    "\n",
    "        outs.append(res)\n",
    "    \n",
    "    # Compile model and return it\n",
    "    model = Model(img, outs)\n",
    "    model.compile(loss='categorical_crossentropy', optimizer='adam',metrics=[\"accuracy\"])\n",
    "    return model"
   ]
  },
  {
   "cell_type": "code",
   "execution_count": 5,
   "metadata": {
    "_uuid": "4dccb0ee2eb679f4b7e7d1a92b52d643ac02ff3e"
   },
   "outputs": [],
   "source": [
    "def preprocess_data():\n",
    "    n_samples = len(os.listdir('../input/captcha-version-2-images/samples/samples'))\n",
    "    X = np.zeros((n_samples, 50, 200, 1)) #1070*50*200\n",
    "    y = np.zeros((5, n_samples, num_symbols)) #5*1070*36\n",
    "\n",
    "    for i, pic in enumerate(os.listdir('../input/captcha-version-2-images/samples/samples')):\n",
    "        # Read image as grayscale\n",
    "        img = cv2.imread(os.path.join('../input/captcha-version-2-images/samples/samples', pic), cv2.IMREAD_GRAYSCALE)\n",
    "        pic_target = pic[:-4]\n",
    "        if len(pic_target) < 6:\n",
    "            # Scale and reshape image\n",
    "            img = img / 255.0\n",
    "            img = np.reshape(img, (50, 200, 1))\n",
    "            # Define targets and code them using OneHotEncoding\n",
    "            targs = np.zeros((5, num_symbols))\n",
    "            for j, l in enumerate(pic_target):\n",
    "                ind = symbols.find(l)\n",
    "                targs[j, ind] = 1\n",
    "            X[i] = img\n",
    "            y[:, i] = targs\n",
    "    \n",
    "    # Return final data\n",
    "    return X, y\n",
    "\n",
    "X, y = preprocess_data()\n",
    "X_train, y_train = X[:970], y[:, :970]\n",
    "X_test, y_test = X[970:], y[:, 970:]"
   ]
  },
  {
   "cell_type": "code",
   "execution_count": 6,
   "metadata": {
    "_uuid": "834999810cccd5d867f87b26b4b6e89d87a3092f"
   },
   "outputs": [
    {
     "name": "stdout",
     "output_type": "stream",
     "text": [
      "__________________________________________________________________________________________________\n",
      "Layer (type)                    Output Shape         Param #     Connected to                     \n",
      "==================================================================================================\n",
      "input_1 (InputLayer)            (None, 50, 200, 1)   0                                            \n",
      "__________________________________________________________________________________________________\n",
      "conv2d_1 (Conv2D)               (None, 50, 200, 16)  160         input_1[0][0]                    \n",
      "__________________________________________________________________________________________________\n",
      "max_pooling2d_1 (MaxPooling2D)  (None, 25, 100, 16)  0           conv2d_1[0][0]                   \n",
      "__________________________________________________________________________________________________\n",
      "conv2d_2 (Conv2D)               (None, 25, 100, 32)  4640        max_pooling2d_1[0][0]            \n",
      "__________________________________________________________________________________________________\n",
      "max_pooling2d_2 (MaxPooling2D)  (None, 13, 50, 32)   0           conv2d_2[0][0]                   \n",
      "__________________________________________________________________________________________________\n",
      "conv2d_3 (Conv2D)               (None, 13, 50, 32)   9248        max_pooling2d_2[0][0]            \n",
      "__________________________________________________________________________________________________\n",
      "batch_normalization_1 (BatchNor (None, 13, 50, 32)   128         conv2d_3[0][0]                   \n",
      "__________________________________________________________________________________________________\n",
      "max_pooling2d_3 (MaxPooling2D)  (None, 7, 25, 32)    0           batch_normalization_1[0][0]      \n",
      "__________________________________________________________________________________________________\n",
      "flatten_1 (Flatten)             (None, 5600)         0           max_pooling2d_3[0][0]            \n",
      "__________________________________________________________________________________________________\n",
      "dense_1 (Dense)                 (None, 64)           358464      flatten_1[0][0]                  \n",
      "__________________________________________________________________________________________________\n",
      "dense_3 (Dense)                 (None, 64)           358464      flatten_1[0][0]                  \n",
      "__________________________________________________________________________________________________\n",
      "dense_5 (Dense)                 (None, 64)           358464      flatten_1[0][0]                  \n",
      "__________________________________________________________________________________________________\n",
      "dense_7 (Dense)                 (None, 64)           358464      flatten_1[0][0]                  \n",
      "__________________________________________________________________________________________________\n",
      "dense_9 (Dense)                 (None, 64)           358464      flatten_1[0][0]                  \n",
      "__________________________________________________________________________________________________\n",
      "dropout_1 (Dropout)             (None, 64)           0           dense_1[0][0]                    \n",
      "__________________________________________________________________________________________________\n",
      "dropout_2 (Dropout)             (None, 64)           0           dense_3[0][0]                    \n",
      "__________________________________________________________________________________________________\n",
      "dropout_3 (Dropout)             (None, 64)           0           dense_5[0][0]                    \n",
      "__________________________________________________________________________________________________\n",
      "dropout_4 (Dropout)             (None, 64)           0           dense_7[0][0]                    \n",
      "__________________________________________________________________________________________________\n",
      "dropout_5 (Dropout)             (None, 64)           0           dense_9[0][0]                    \n",
      "__________________________________________________________________________________________________\n",
      "dense_2 (Dense)                 (None, 36)           2340        dropout_1[0][0]                  \n",
      "__________________________________________________________________________________________________\n",
      "dense_4 (Dense)                 (None, 36)           2340        dropout_2[0][0]                  \n",
      "__________________________________________________________________________________________________\n",
      "dense_6 (Dense)                 (None, 36)           2340        dropout_3[0][0]                  \n",
      "__________________________________________________________________________________________________\n",
      "dense_8 (Dense)                 (None, 36)           2340        dropout_4[0][0]                  \n",
      "__________________________________________________________________________________________________\n",
      "dense_10 (Dense)                (None, 36)           2340        dropout_5[0][0]                  \n",
      "==================================================================================================\n",
      "Total params: 1,818,196\n",
      "Trainable params: 1,818,132\n",
      "Non-trainable params: 64\n",
      "__________________________________________________________________________________________________\n"
     ]
    }
   ],
   "source": [
    "model=create_model();\n",
    "model.summary();"
   ]
  },
  {
   "cell_type": "code",
   "execution_count": 7,
   "metadata": {
    "_uuid": "e82754ff49c3cec708b87947c417566a252d3c12"
   },
   "outputs": [
    {
     "name": "stdout",
     "output_type": "stream",
     "text": [
      "Train on 776 samples, validate on 194 samples\n",
      "Epoch 1/30\n",
      "776/776 [==============================] - 3s 4ms/step - loss: 17.5882 - dense_2_loss: 3.5054 - dense_4_loss: 3.5760 - dense_6_loss: 3.4971 - dense_8_loss: 3.5290 - dense_10_loss: 3.4808 - dense_2_acc: 0.0451 - dense_4_acc: 0.0374 - dense_6_acc: 0.0477 - dense_8_acc: 0.0335 - dense_10_acc: 0.0683 - val_loss: 15.9223 - val_dense_2_loss: 3.0975 - val_dense_4_loss: 3.4358 - val_dense_6_loss: 3.0758 - val_dense_8_loss: 3.1628 - val_dense_10_loss: 3.1504 - val_dense_2_acc: 0.0258 - val_dense_4_acc: 0.0876 - val_dense_6_acc: 0.0206 - val_dense_8_acc: 0.0979 - val_dense_10_acc: 0.0979\n",
      "Epoch 2/30\n",
      "776/776 [==============================] - 1s 920us/step - loss: 16.4821 - dense_2_loss: 3.2067 - dense_4_loss: 3.4081 - dense_6_loss: 3.2824 - dense_8_loss: 3.2852 - dense_10_loss: 3.2996 - dense_2_acc: 0.0902 - dense_4_acc: 0.0631 - dense_6_acc: 0.0619 - dense_8_acc: 0.0696 - dense_10_acc: 0.0825 - val_loss: 15.3581 - val_dense_2_loss: 2.9640 - val_dense_4_loss: 3.2837 - val_dense_6_loss: 3.0002 - val_dense_8_loss: 3.0613 - val_dense_10_loss: 3.0488 - val_dense_2_acc: 0.0928 - val_dense_4_acc: 0.0876 - val_dense_6_acc: 0.0206 - val_dense_8_acc: 0.0876 - val_dense_10_acc: 0.0979\n",
      "Epoch 3/30\n",
      "776/776 [==============================] - 1s 904us/step - loss: 15.7428 - dense_2_loss: 3.0804 - dense_4_loss: 3.2982 - dense_6_loss: 3.1038 - dense_8_loss: 3.1365 - dense_10_loss: 3.1239 - dense_2_acc: 0.0851 - dense_4_acc: 0.0825 - dense_6_acc: 0.0606 - dense_8_acc: 0.0838 - dense_10_acc: 0.0722 - val_loss: 16.3933 - val_dense_2_loss: 3.1077 - val_dense_4_loss: 3.4660 - val_dense_6_loss: 3.0631 - val_dense_8_loss: 3.4802 - val_dense_10_loss: 3.2763 - val_dense_2_acc: 0.1186 - val_dense_4_acc: 0.0722 - val_dense_6_acc: 0.0567 - val_dense_8_acc: 0.0206 - val_dense_10_acc: 0.1340\n",
      "Epoch 4/30\n",
      "776/776 [==============================] - 1s 911us/step - loss: 15.0646 - dense_2_loss: 2.8868 - dense_4_loss: 3.1630 - dense_6_loss: 2.9908 - dense_8_loss: 3.0295 - dense_10_loss: 2.9945 - dense_2_acc: 0.1160 - dense_4_acc: 0.0773 - dense_6_acc: 0.0851 - dense_8_acc: 0.0760 - dense_10_acc: 0.0941 - val_loss: 15.3295 - val_dense_2_loss: 2.9605 - val_dense_4_loss: 3.1269 - val_dense_6_loss: 3.0187 - val_dense_8_loss: 3.1115 - val_dense_10_loss: 3.1119 - val_dense_2_acc: 0.2526 - val_dense_4_acc: 0.1598 - val_dense_6_acc: 0.1598 - val_dense_8_acc: 0.1289 - val_dense_10_acc: 0.0670\n",
      "Epoch 5/30\n",
      "776/776 [==============================] - 1s 884us/step - loss: 14.5084 - dense_2_loss: 2.7911 - dense_4_loss: 3.0059 - dense_6_loss: 2.8942 - dense_8_loss: 2.9237 - dense_10_loss: 2.8936 - dense_2_acc: 0.1727 - dense_4_acc: 0.0992 - dense_6_acc: 0.0992 - dense_8_acc: 0.1211 - dense_10_acc: 0.1134 - val_loss: 19.3161 - val_dense_2_loss: 3.5680 - val_dense_4_loss: 4.4515 - val_dense_6_loss: 4.1037 - val_dense_8_loss: 3.6910 - val_dense_10_loss: 3.5020 - val_dense_2_acc: 0.1031 - val_dense_4_acc: 0.0876 - val_dense_6_acc: 0.0412 - val_dense_8_acc: 0.0309 - val_dense_10_acc: 0.0515\n",
      "Epoch 6/30\n",
      "776/776 [==============================] - 1s 901us/step - loss: 14.0099 - dense_2_loss: 2.6569 - dense_4_loss: 2.8799 - dense_6_loss: 2.7834 - dense_8_loss: 2.8478 - dense_10_loss: 2.8419 - dense_2_acc: 0.1933 - dense_4_acc: 0.1070 - dense_6_acc: 0.1314 - dense_8_acc: 0.1456 - dense_10_acc: 0.1302 - val_loss: 17.1073 - val_dense_2_loss: 3.1882 - val_dense_4_loss: 3.6908 - val_dense_6_loss: 3.3822 - val_dense_8_loss: 3.6998 - val_dense_10_loss: 3.1462 - val_dense_2_acc: 0.1392 - val_dense_4_acc: 0.0722 - val_dense_6_acc: 0.0773 - val_dense_8_acc: 0.1134 - val_dense_10_acc: 0.0619\n",
      "Epoch 7/30\n",
      "776/776 [==============================] - 1s 920us/step - loss: 13.3431 - dense_2_loss: 2.4254 - dense_4_loss: 2.7340 - dense_6_loss: 2.6986 - dense_8_loss: 2.7537 - dense_10_loss: 2.7314 - dense_2_acc: 0.2294 - dense_4_acc: 0.1314 - dense_6_acc: 0.1559 - dense_8_acc: 0.1598 - dense_10_acc: 0.1289 - val_loss: 12.7104 - val_dense_2_loss: 2.1713 - val_dense_4_loss: 2.6395 - val_dense_6_loss: 2.5314 - val_dense_8_loss: 2.6710 - val_dense_10_loss: 2.6972 - val_dense_2_acc: 0.3454 - val_dense_4_acc: 0.1649 - val_dense_6_acc: 0.1649 - val_dense_8_acc: 0.1701 - val_dense_10_acc: 0.0979\n",
      "Epoch 8/30\n",
      "776/776 [==============================] - 1s 938us/step - loss: 12.8088 - dense_2_loss: 2.2519 - dense_4_loss: 2.6816 - dense_6_loss: 2.5714 - dense_8_loss: 2.6249 - dense_10_loss: 2.6790 - dense_2_acc: 0.2332 - dense_4_acc: 0.1405 - dense_6_acc: 0.1946 - dense_8_acc: 0.1637 - dense_10_acc: 0.1366 - val_loss: 15.6932 - val_dense_2_loss: 2.3502 - val_dense_4_loss: 3.3179 - val_dense_6_loss: 3.6014 - val_dense_8_loss: 3.6160 - val_dense_10_loss: 2.8076 - val_dense_2_acc: 0.1392 - val_dense_4_acc: 0.1134 - val_dense_6_acc: 0.0979 - val_dense_8_acc: 0.1031 - val_dense_10_acc: 0.0876\n",
      "Epoch 9/30\n",
      "776/776 [==============================] - 1s 916us/step - loss: 12.0724 - dense_2_loss: 1.9337 - dense_4_loss: 2.6110 - dense_6_loss: 2.4280 - dense_8_loss: 2.5311 - dense_10_loss: 2.5686 - dense_2_acc: 0.3209 - dense_4_acc: 0.1598 - dense_6_acc: 0.2345 - dense_8_acc: 0.1740 - dense_10_acc: 0.1791 - val_loss: 11.4044 - val_dense_2_loss: 1.2679 - val_dense_4_loss: 2.4900 - val_dense_6_loss: 2.5339 - val_dense_8_loss: 2.4422 - val_dense_10_loss: 2.6704 - val_dense_2_acc: 0.5000 - val_dense_4_acc: 0.1959 - val_dense_6_acc: 0.2113 - val_dense_8_acc: 0.1289 - val_dense_10_acc: 0.1856\n",
      "Epoch 10/30\n",
      "776/776 [==============================] - 1s 905us/step - loss: 11.2782 - dense_2_loss: 1.6706 - dense_4_loss: 2.5254 - dense_6_loss: 2.1949 - dense_8_loss: 2.4049 - dense_10_loss: 2.4825 - dense_2_acc: 0.4253 - dense_4_acc: 0.1727 - dense_6_acc: 0.2771 - dense_8_acc: 0.1714 - dense_10_acc: 0.1804 - val_loss: 10.4934 - val_dense_2_loss: 1.2939 - val_dense_4_loss: 2.3244 - val_dense_6_loss: 2.0954 - val_dense_8_loss: 2.3634 - val_dense_10_loss: 2.4164 - val_dense_2_acc: 0.6804 - val_dense_4_acc: 0.2526 - val_dense_6_acc: 0.3969 - val_dense_8_acc: 0.1495 - val_dense_10_acc: 0.1856\n",
      "Epoch 11/30\n",
      "776/776 [==============================] - 1s 913us/step - loss: 10.4619 - dense_2_loss: 1.3548 - dense_4_loss: 2.4013 - dense_6_loss: 2.0402 - dense_8_loss: 2.2808 - dense_10_loss: 2.3848 - dense_2_acc: 0.5722 - dense_4_acc: 0.2036 - dense_6_acc: 0.3338 - dense_8_acc: 0.1804 - dense_10_acc: 0.2075 - val_loss: 8.9597 - val_dense_2_loss: 0.6082 - val_dense_4_loss: 2.1253 - val_dense_6_loss: 1.8559 - val_dense_8_loss: 2.0654 - val_dense_10_loss: 2.3049 - val_dense_2_acc: 0.7423 - val_dense_4_acc: 0.3454 - val_dense_6_acc: 0.3454 - val_dense_8_acc: 0.1134 - val_dense_10_acc: 0.1392\n",
      "Epoch 12/30\n",
      "776/776 [==============================] - 1s 919us/step - loss: 9.6249 - dense_2_loss: 1.1312 - dense_4_loss: 2.2424 - dense_6_loss: 1.8750 - dense_8_loss: 2.1495 - dense_10_loss: 2.2269 - dense_2_acc: 0.6688 - dense_4_acc: 0.2771 - dense_6_acc: 0.3879 - dense_8_acc: 0.2294 - dense_10_acc: 0.2216 - val_loss: 8.9193 - val_dense_2_loss: 0.6709 - val_dense_4_loss: 1.8472 - val_dense_6_loss: 1.9540 - val_dense_8_loss: 2.3071 - val_dense_10_loss: 2.1400 - val_dense_2_acc: 0.7216 - val_dense_4_acc: 0.3814 - val_dense_6_acc: 0.3505 - val_dense_8_acc: 0.2526 - val_dense_10_acc: 0.2577\n",
      "Epoch 13/30\n",
      "776/776 [==============================] - 1s 894us/step - loss: 8.5699 - dense_2_loss: 0.8638 - dense_4_loss: 2.0010 - dense_6_loss: 1.6016 - dense_8_loss: 1.9944 - dense_10_loss: 2.1090 - dense_2_acc: 0.7049 - dense_4_acc: 0.3582 - dense_6_acc: 0.4961 - dense_8_acc: 0.3144 - dense_10_acc: 0.2758 - val_loss: 7.2549 - val_dense_2_loss: 0.4826 - val_dense_4_loss: 1.3949 - val_dense_6_loss: 1.4569 - val_dense_8_loss: 1.9815 - val_dense_10_loss: 1.9390 - val_dense_2_acc: 0.9072 - val_dense_4_acc: 0.7113 - val_dense_6_acc: 0.5619 - val_dense_8_acc: 0.3918 - val_dense_10_acc: 0.2990\n",
      "Epoch 14/30\n",
      "776/776 [==============================] - 1s 896us/step - loss: 7.6952 - dense_2_loss: 0.7377 - dense_4_loss: 1.7721 - dense_6_loss: 1.3972 - dense_8_loss: 1.8489 - dense_10_loss: 1.9393 - dense_2_acc: 0.7474 - dense_4_acc: 0.4034 - dense_6_acc: 0.5503 - dense_8_acc: 0.3840 - dense_10_acc: 0.3183 - val_loss: 6.6377 - val_dense_2_loss: 0.2365 - val_dense_4_loss: 1.3520 - val_dense_6_loss: 1.2058 - val_dense_8_loss: 1.9431 - val_dense_10_loss: 1.9003 - val_dense_2_acc: 0.9072 - val_dense_4_acc: 0.6237 - val_dense_6_acc: 0.6546 - val_dense_8_acc: 0.4278 - val_dense_10_acc: 0.3969\n",
      "Epoch 15/30\n",
      "776/776 [==============================] - 1s 908us/step - loss: 6.8525 - dense_2_loss: 0.6238 - dense_4_loss: 1.5301 - dense_6_loss: 1.2293 - dense_8_loss: 1.6850 - dense_10_loss: 1.7843 - dense_2_acc: 0.7874 - dense_4_acc: 0.4897 - dense_6_acc: 0.6237 - dense_8_acc: 0.4562 - dense_10_acc: 0.3557 - val_loss: 5.7038 - val_dense_2_loss: 0.1807 - val_dense_4_loss: 1.1368 - val_dense_6_loss: 1.3314 - val_dense_8_loss: 1.3952 - val_dense_10_loss: 1.6596 - val_dense_2_acc: 0.9330 - val_dense_4_acc: 0.6753 - val_dense_6_acc: 0.6134 - val_dense_8_acc: 0.6289 - val_dense_10_acc: 0.3814\n",
      "Epoch 16/30\n",
      "776/776 [==============================] - 1s 891us/step - loss: 5.9977 - dense_2_loss: 0.5286 - dense_4_loss: 1.3119 - dense_6_loss: 1.0982 - dense_8_loss: 1.4623 - dense_10_loss: 1.5967 - dense_2_acc: 0.8209 - dense_4_acc: 0.5838 - dense_6_acc: 0.6624 - dense_8_acc: 0.5335 - dense_10_acc: 0.4278 - val_loss: 4.9471 - val_dense_2_loss: 0.1911 - val_dense_4_loss: 0.7288 - val_dense_6_loss: 1.0892 - val_dense_8_loss: 1.6159 - val_dense_10_loss: 1.3222 - val_dense_2_acc: 0.9278 - val_dense_4_acc: 0.8196 - val_dense_6_acc: 0.7371 - val_dense_8_acc: 0.5258 - val_dense_10_acc: 0.5515\n",
      "Epoch 17/30\n",
      "776/776 [==============================] - 1s 896us/step - loss: 5.3373 - dense_2_loss: 0.4315 - dense_4_loss: 1.2502 - dense_6_loss: 0.9083 - dense_8_loss: 1.2763 - dense_10_loss: 1.4710 - dense_2_acc: 0.8686 - dense_4_acc: 0.5825 - dense_6_acc: 0.6946 - dense_8_acc: 0.5966 - dense_10_acc: 0.4652 - val_loss: 4.3706 - val_dense_2_loss: 0.1072 - val_dense_4_loss: 0.7323 - val_dense_6_loss: 0.8254 - val_dense_8_loss: 1.2985 - val_dense_10_loss: 1.4073 - val_dense_2_acc: 0.9742 - val_dense_4_acc: 0.8093 - val_dense_6_acc: 0.8093 - val_dense_8_acc: 0.6237 - val_dense_10_acc: 0.5928\n",
      "Epoch 18/30\n",
      "776/776 [==============================] - 1s 885us/step - loss: 4.8184 - dense_2_loss: 0.4176 - dense_4_loss: 1.0390 - dense_6_loss: 0.8947 - dense_8_loss: 1.1400 - dense_10_loss: 1.3272 - dense_2_acc: 0.8724 - dense_4_acc: 0.6611 - dense_6_acc: 0.6997 - dense_8_acc: 0.6070 - dense_10_acc: 0.5464 - val_loss: 3.7871 - val_dense_2_loss: 0.1417 - val_dense_4_loss: 0.4860 - val_dense_6_loss: 0.8120 - val_dense_8_loss: 1.1669 - val_dense_10_loss: 1.1804 - val_dense_2_acc: 0.9330 - val_dense_4_acc: 0.8814 - val_dense_6_acc: 0.7938 - val_dense_8_acc: 0.6186 - val_dense_10_acc: 0.6340\n",
      "Epoch 19/30\n",
      "776/776 [==============================] - 1s 883us/step - loss: 4.4012 - dense_2_loss: 0.3778 - dense_4_loss: 0.9886 - dense_6_loss: 0.7236 - dense_8_loss: 1.0599 - dense_10_loss: 1.2513 - dense_2_acc: 0.8750 - dense_4_acc: 0.6688 - dense_6_acc: 0.7706 - dense_8_acc: 0.6637 - dense_10_acc: 0.6031 - val_loss: 3.3839 - val_dense_2_loss: 0.0818 - val_dense_4_loss: 0.4452 - val_dense_6_loss: 0.7915 - val_dense_8_loss: 1.0840 - val_dense_10_loss: 0.9814 - val_dense_2_acc: 0.9691 - val_dense_4_acc: 0.8918 - val_dense_6_acc: 0.8093 - val_dense_8_acc: 0.7268 - val_dense_10_acc: 0.7320\n",
      "Epoch 20/30\n",
      "776/776 [==============================] - 1s 899us/step - loss: 3.7111 - dense_2_loss: 0.2999 - dense_4_loss: 0.8028 - dense_6_loss: 0.6461 - dense_8_loss: 0.9007 - dense_10_loss: 1.0615 - dense_2_acc: 0.8918 - dense_4_acc: 0.7384 - dense_6_acc: 0.7680 - dense_8_acc: 0.6933 - dense_10_acc: 0.6456 - val_loss: 3.1012 - val_dense_2_loss: 0.1091 - val_dense_4_loss: 0.4085 - val_dense_6_loss: 0.6370 - val_dense_8_loss: 1.0302 - val_dense_10_loss: 0.9164 - val_dense_2_acc: 0.9588 - val_dense_4_acc: 0.9021 - val_dense_6_acc: 0.8454 - val_dense_8_acc: 0.7320 - val_dense_10_acc: 0.7320\n",
      "Epoch 21/30\n",
      "776/776 [==============================] - 1s 891us/step - loss: 3.2686 - dense_2_loss: 0.3187 - dense_4_loss: 0.6930 - dense_6_loss: 0.5812 - dense_8_loss: 0.8009 - dense_10_loss: 0.8749 - dense_2_acc: 0.8802 - dense_4_acc: 0.7668 - dense_6_acc: 0.8015 - dense_8_acc: 0.7178 - dense_10_acc: 0.6946 - val_loss: 2.9955 - val_dense_2_loss: 0.1082 - val_dense_4_loss: 0.4154 - val_dense_6_loss: 0.6482 - val_dense_8_loss: 1.0244 - val_dense_10_loss: 0.7993 - val_dense_2_acc: 0.9381 - val_dense_4_acc: 0.8866 - val_dense_6_acc: 0.8557 - val_dense_8_acc: 0.7526 - val_dense_10_acc: 0.7577\n",
      "Epoch 22/30\n",
      "776/776 [==============================] - 1s 919us/step - loss: 2.9425 - dense_2_loss: 0.2751 - dense_4_loss: 0.5692 - dense_6_loss: 0.5430 - dense_8_loss: 0.6857 - dense_10_loss: 0.8695 - dense_2_acc: 0.9034 - dense_4_acc: 0.8080 - dense_6_acc: 0.8131 - dense_8_acc: 0.7526 - dense_10_acc: 0.6946 - val_loss: 2.9629 - val_dense_2_loss: 0.0770 - val_dense_4_loss: 0.4321 - val_dense_6_loss: 0.5938 - val_dense_8_loss: 0.9623 - val_dense_10_loss: 0.8976 - val_dense_2_acc: 0.9742 - val_dense_4_acc: 0.9021 - val_dense_6_acc: 0.8299 - val_dense_8_acc: 0.7268 - val_dense_10_acc: 0.7371\n",
      "Epoch 23/30\n",
      "776/776 [==============================] - 1s 891us/step - loss: 2.9476 - dense_2_loss: 0.2800 - dense_4_loss: 0.6220 - dense_6_loss: 0.5161 - dense_8_loss: 0.7213 - dense_10_loss: 0.8083 - dense_2_acc: 0.9021 - dense_4_acc: 0.7822 - dense_6_acc: 0.8312 - dense_8_acc: 0.7423 - dense_10_acc: 0.7242 - val_loss: 2.6352 - val_dense_2_loss: 0.0728 - val_dense_4_loss: 0.3595 - val_dense_6_loss: 0.6014 - val_dense_8_loss: 0.8800 - val_dense_10_loss: 0.7215 - val_dense_2_acc: 0.9742 - val_dense_4_acc: 0.9227 - val_dense_6_acc: 0.8299 - val_dense_8_acc: 0.7577 - val_dense_10_acc: 0.7680\n",
      "Epoch 24/30\n",
      "776/776 [==============================] - 1s 888us/step - loss: 2.5979 - dense_2_loss: 0.2550 - dense_4_loss: 0.5208 - dense_6_loss: 0.4569 - dense_8_loss: 0.5980 - dense_10_loss: 0.7672 - dense_2_acc: 0.9188 - dense_4_acc: 0.8106 - dense_6_acc: 0.8479 - dense_8_acc: 0.7925 - dense_10_acc: 0.7320 - val_loss: 2.6172 - val_dense_2_loss: 0.0573 - val_dense_4_loss: 0.3395 - val_dense_6_loss: 0.6024 - val_dense_8_loss: 0.7937 - val_dense_10_loss: 0.8244 - val_dense_2_acc: 0.9897 - val_dense_4_acc: 0.9072 - val_dense_6_acc: 0.8557 - val_dense_8_acc: 0.7887 - val_dense_10_acc: 0.7938\n",
      "Epoch 25/30\n",
      "776/776 [==============================] - 1s 881us/step - loss: 2.4487 - dense_2_loss: 0.2529 - dense_4_loss: 0.4945 - dense_6_loss: 0.4449 - dense_8_loss: 0.5765 - dense_10_loss: 0.6800 - dense_2_acc: 0.9021 - dense_4_acc: 0.8325 - dense_6_acc: 0.8428 - dense_8_acc: 0.7925 - dense_10_acc: 0.7539 - val_loss: 2.6573 - val_dense_2_loss: 0.0531 - val_dense_4_loss: 0.4216 - val_dense_6_loss: 0.5697 - val_dense_8_loss: 0.8598 - val_dense_10_loss: 0.7532 - val_dense_2_acc: 0.9845 - val_dense_4_acc: 0.8918 - val_dense_6_acc: 0.8505 - val_dense_8_acc: 0.7423 - val_dense_10_acc: 0.7629\n",
      "Epoch 26/30\n",
      "776/776 [==============================] - 1s 900us/step - loss: 2.1657 - dense_2_loss: 0.1796 - dense_4_loss: 0.4376 - dense_6_loss: 0.3911 - dense_8_loss: 0.5155 - dense_10_loss: 0.6419 - dense_2_acc: 0.9446 - dense_4_acc: 0.8544 - dense_6_acc: 0.8505 - dense_8_acc: 0.8235 - dense_10_acc: 0.7680 - val_loss: 2.2472 - val_dense_2_loss: 0.0525 - val_dense_4_loss: 0.2385 - val_dense_6_loss: 0.6021 - val_dense_8_loss: 0.7469 - val_dense_10_loss: 0.6071 - val_dense_2_acc: 0.9794 - val_dense_4_acc: 0.9433 - val_dense_6_acc: 0.8247 - val_dense_8_acc: 0.8144 - val_dense_10_acc: 0.8299\n",
      "Epoch 27/30\n",
      "776/776 [==============================] - 1s 882us/step - loss: 2.0951 - dense_2_loss: 0.1986 - dense_4_loss: 0.4608 - dense_6_loss: 0.4071 - dense_8_loss: 0.4839 - dense_10_loss: 0.5446 - dense_2_acc: 0.9253 - dense_4_acc: 0.8363 - dense_6_acc: 0.8698 - dense_8_acc: 0.8260 - dense_10_acc: 0.7938 - val_loss: 2.2428 - val_dense_2_loss: 0.0477 - val_dense_4_loss: 0.2828 - val_dense_6_loss: 0.5171 - val_dense_8_loss: 0.7462 - val_dense_10_loss: 0.6489 - val_dense_2_acc: 0.9639 - val_dense_4_acc: 0.9381 - val_dense_6_acc: 0.8402 - val_dense_8_acc: 0.7938 - val_dense_10_acc: 0.8402\n",
      "Epoch 28/30\n",
      "776/776 [==============================] - 1s 893us/step - loss: 1.8442 - dense_2_loss: 0.1647 - dense_4_loss: 0.3607 - dense_6_loss: 0.3098 - dense_8_loss: 0.4625 - dense_10_loss: 0.5464 - dense_2_acc: 0.9523 - dense_4_acc: 0.8698 - dense_6_acc: 0.8840 - dense_8_acc: 0.8338 - dense_10_acc: 0.8041 - val_loss: 2.6798 - val_dense_2_loss: 0.0925 - val_dense_4_loss: 0.3767 - val_dense_6_loss: 0.5621 - val_dense_8_loss: 0.7581 - val_dense_10_loss: 0.8904 - val_dense_2_acc: 0.9691 - val_dense_4_acc: 0.9227 - val_dense_6_acc: 0.8763 - val_dense_8_acc: 0.8041 - val_dense_10_acc: 0.7887\n",
      "Epoch 29/30\n",
      "776/776 [==============================] - 1s 894us/step - loss: 1.8915 - dense_2_loss: 0.1929 - dense_4_loss: 0.3813 - dense_6_loss: 0.3420 - dense_8_loss: 0.4537 - dense_10_loss: 0.5215 - dense_2_acc: 0.9343 - dense_4_acc: 0.8634 - dense_6_acc: 0.8827 - dense_8_acc: 0.8157 - dense_10_acc: 0.8144 - val_loss: 2.3955 - val_dense_2_loss: 0.0233 - val_dense_4_loss: 0.3067 - val_dense_6_loss: 0.5495 - val_dense_8_loss: 0.7669 - val_dense_10_loss: 0.7491 - val_dense_2_acc: 0.9948 - val_dense_4_acc: 0.9227 - val_dense_6_acc: 0.8505 - val_dense_8_acc: 0.8093 - val_dense_10_acc: 0.7835\n",
      "Epoch 30/30\n",
      "776/776 [==============================] - 1s 886us/step - loss: 1.6858 - dense_2_loss: 0.1829 - dense_4_loss: 0.3111 - dense_6_loss: 0.3513 - dense_8_loss: 0.3837 - dense_10_loss: 0.4568 - dense_2_acc: 0.9343 - dense_4_acc: 0.8698 - dense_6_acc: 0.8763 - dense_8_acc: 0.8711 - dense_10_acc: 0.8402 - val_loss: 2.2130 - val_dense_2_loss: 0.0242 - val_dense_4_loss: 0.3093 - val_dense_6_loss: 0.5681 - val_dense_8_loss: 0.7054 - val_dense_10_loss: 0.6060 - val_dense_2_acc: 0.9948 - val_dense_4_acc: 0.9124 - val_dense_6_acc: 0.8608 - val_dense_8_acc: 0.8351 - val_dense_10_acc: 0.8299\n"
     ]
    }
   ],
   "source": [
    "#model = create_model()\n",
    "hist = model.fit(X_train, [y_train[0], y_train[1], y_train[2], y_train[3], y_train[4]], batch_size=32, epochs=30,verbose=1, validation_split=0.2)"
   ]
  },
  {
   "cell_type": "code",
   "execution_count": 8,
   "metadata": {
    "_uuid": "e2cf1d0b8ab4a293d3dc110eb85a0946333bb0b9"
   },
   "outputs": [],
   "source": [
    "# Define function to predict captcha\n",
    "def predict(filepath):\n",
    "    img = cv2.imread(filepath, cv2.IMREAD_GRAYSCALE)\n",
    "    if img is not None:\n",
    "        img = img / 255.0\n",
    "    else:\n",
    "        print(\"Not detected\");\n",
    "    res = np.array(model.predict(img[np.newaxis, :, :, np.newaxis]))\n",
    "    ans = np.reshape(res, (5, 36))\n",
    "    l_ind = []\n",
    "    probs = []\n",
    "    for a in ans:\n",
    "        l_ind.append(np.argmax(a))\n",
    "        #probs.append(np.max(a))\n",
    "\n",
    "    capt = ''\n",
    "    for l in l_ind:\n",
    "        capt += symbols[l]\n",
    "    return capt#, sum(probs) / 5\n",
    "\n"
   ]
  },
  {
   "cell_type": "code",
   "execution_count": 9,
   "metadata": {
    "_uuid": "ed22f3a33792928c9f74601b264d269361755e0b"
   },
   "outputs": [
    {
     "name": "stdout",
     "output_type": "stream",
     "text": [
      "100/100 [==============================] - 0s 470us/step\n",
      "Test Loss and accuracy: [1.9052875539660454, 0.014805344375781715, 0.2809098337590694, 0.4440859865769744, 0.7649873976921663, 0.40049900695681573, 1.0, 0.92, 0.85, 0.84, 0.86]\n"
     ]
    }
   ],
   "source": [
    "score= model.evaluate(X_test,[y_test[0], y_test[1], y_test[2], y_test[3], y_test[4]],verbose=1)\n",
    "print('Test Loss and accuracy:', score)"
   ]
  },
  {
   "cell_type": "code",
   "execution_count": 10,
   "metadata": {
    "_uuid": "44002a5776a0b54067cc8ff9574c2fbdfc356068"
   },
   "outputs": [
    {
     "name": "stdout",
     "output_type": "stream",
     "text": [
      "100/100 [==============================] - 0s 296us/step\n",
      "8n5p3\n",
      "f2m8n\n",
      "dce8y\n",
      "3eny7\n",
      "npxb7\n"
     ]
    }
   ],
   "source": [
    "# Check model on some samples\n",
    "model.evaluate(X_test, [y_test[0], y_test[1], y_test[2], y_test[3], y_test[4]])\n",
    "print(predict('../input/captcha-version-2-images/samples/samples/8n5p3.png'))\n",
    "print(predict('../input/captcha-version-2-images/samples/samples/f2m8n.png'))\n",
    "print(predict('../input/captcha-version-2-images/samples/samples/dce8y.png'))\n",
    "print(predict('../input/captcha-version-2-images/samples/samples/3eny7.png'))\n",
    "print(predict('../input/captcha-version-2-images/samples/samples/npxb7.png'))"
   ]
  },
  {
   "cell_type": "code",
   "execution_count": 11,
   "metadata": {
    "_uuid": "1f7aa77001b1185404c45a928d2555c484c402b3"
   },
   "outputs": [
    {
     "data": {
      "text/plain": [
       "<matplotlib.image.AxesImage at 0x7f498e14fa90>"
      ]
     },
     "execution_count": 11,
     "metadata": {},
     "output_type": "execute_result"
    },
    {
     "data": {
      "image/png": "[encoded data removed]",
      "text/plain": [
       "<Figure size 432x288 with 1 Axes>"
      ]
     },
     "metadata": {},
     "output_type": "display_data"
    }
   ],
   "source": [
    "#Lets test an unknown captcha\n",
    "#preview\n",
    "%matplotlib inline \n",
    "import matplotlib.pyplot as plt\n",
    "img=cv2.imread('../input/captcha/capthaimage/capthaimages/a.png',cv2.IMREAD_GRAYSCALE)\n",
    "plt.imshow(img, cmap=plt.get_cmap('gray'))"
   ]
  },
  {
   "cell_type": "code",
   "execution_count": 12,
   "metadata": {
    "_uuid": "c9ac975ea5aae3b03c23204d7e32a534c2db19d0"
   },
   "outputs": [
    {
     "name": "stdout",
     "output_type": "stream",
     "text": [
      "Predicted Captcha = 2cegf\n"
     ]
    }
   ],
   "source": [
    "#Lets Predict By Model\n",
    "print(\"Predicted Captcha =\",predict('../input/captcha/capthaimage/capthaimages/a.png'))"
   ]
  },
  {
   "cell_type": "code",
   "execution_count": 13,
   "metadata": {
    "_uuid": "06940ca0d54ec7944e926b67232334830884a308"
   },
   "outputs": [],
   "source": [
    "#testing\n",
    "#c=0\n",
    "#for i, pic in enumerate(os.listdir('../input/captcha-version-2-images/samples/samples')):\n",
    "        # Read image as grayscale\n",
    "        \n",
    "        #if i>970:    \n",
    "\n",
    "            #img = cv2.imread(os.path.join('../input/captcha-version-2-images/samples/samples', pic), cv2.IMREAD_GRAYSCALE)\n",
    "            #print(\"Predicted Captcha =\",predict(os.path.join('../input/captcha-version-2-images/samples/samples',pic)))\n",
    "            #plt.imshow(img, cmap=plt.get_cmap('gray'))\n",
    "            #pr=predict(os.path.join('../input/captcha-version-2-images/samples/samples',pic))\n",
    "            #pic_target = pic[:-4]\n",
    "            #if pr==pic_target:\n",
    "                #c=c+1\n",
    "                #print(c)\n",
    "            #print(pic_target)\n",
    "#print((c/100)*100)"
   ]
  },
  {
   "cell_type": "code",
   "execution_count": 14,
   "metadata": {
    "_uuid": "1c7d6e4f3407125d1bb3425efeaf31522a579abb"
   },
   "outputs": [],
   "source": []
  }
 ],
 "metadata": {
  "kernelspec": {
   "display_name": "Python 3",
   "language": "python",
   "name": "python3"
  },
  "language_info": {
   "codemirror_mode": {
    "name": "ipython",
    "version": 3
   },
   "file_extension": ".py",
   "mimetype": "text/x-python",
   "name": "python",
   "nbconvert_exporter": "python",
   "pygments_lexer": "ipython3",
   "version": "3.6.6"
  }
 },
 "nbformat": 4,
 "nbformat_minor": 1
}
