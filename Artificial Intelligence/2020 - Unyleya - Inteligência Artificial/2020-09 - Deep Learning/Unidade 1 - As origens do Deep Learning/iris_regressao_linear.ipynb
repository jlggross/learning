{
  "nbformat": 4,
  "nbformat_minor": 0,
  "metadata": {
    "colab": {
      "name": "iris-regressao-linear.ipynb",
      "provenance": []
    },
    "kernelspec": {
      "name": "python3",
      "display_name": "Python 3"
    }
  },
  "cells": [
    {
      "cell_type": "markdown",
      "metadata": {
        "id": "tS7TSCnQ2Ny2",
        "colab_type": "text"
      },
      "source": [
        "# Regressão Linear com Dataset Iris"
      ]
    },
    {
      "cell_type": "code",
      "metadata": {
        "id": "qxIujQX52KC4",
        "colab_type": "code",
        "colab": {}
      },
      "source": [
        "# Dataset iris\n",
        "from sklearn import datasets\n",
        "iris = datasets.load_iris()\n",
        "iris_data = iris.data\n",
        "iris_rotulo = iris.target"
      ],
      "execution_count": 2,
      "outputs": []
    },
    {
      "cell_type": "code",
      "metadata": {
        "id": "PtTkYtpI2Sje",
        "colab_type": "code",
        "colab": {}
      },
      "source": [
        "# Dados de treinamento e teste\n",
        "iris_data_train = iris_data[:-10]\n",
        "iris_rotulo_train = iris_rotulo[:-10]\n",
        "\n",
        "iris_data_test = iris_data[-10:]\n",
        "iris_rotulo_test = iris_rotulo[-10:]"
      ],
      "execution_count": 3,
      "outputs": []
    },
    {
      "cell_type": "code",
      "metadata": {
        "id": "rdVRv7VR2UNQ",
        "colab_type": "code",
        "colab": {
          "base_uri": "https://localhost:8080/",
          "height": 68
        },
        "outputId": "da71b193-0e07-4ea1-8a9e-b6c39619a5df"
      },
      "source": [
        "# Regressão linear\n",
        "from sklearn import linear_model\n",
        "import numpy as np\n",
        "\n",
        "# Cria Modelo\n",
        "regr = linear_model.LinearRegression()\n",
        "\n",
        "# Treinamento\n",
        "regr.fit(iris_data_train, iris_rotulo_train)\n",
        "\n",
        "# Predição\n",
        "pred = regr.predict(iris_data_test)\n",
        "print(pred)\n",
        "print(iris_rotulo_test)"
      ],
      "execution_count": 4,
      "outputs": [
        {
          "output_type": "stream",
          "text": [
            "[2.01739114 1.81445637 1.72869105 2.02226106 2.09241653 1.86495358\n",
            " 1.65212848 1.72094854 1.96091849 1.65340519]\n",
            "[2 2 2 2 2 2 2 2 2 2]\n"
          ],
          "name": "stdout"
        }
      ]
    },
    {
      "cell_type": "code",
      "metadata": {
        "id": "63WSZPiY2VUd",
        "colab_type": "code",
        "colab": {
          "base_uri": "https://localhost:8080/",
          "height": 51
        },
        "outputId": "966edbad-15fc-4205-c8c6-8ad28d4dbabd"
      },
      "source": [
        "# Avaliação\n",
        "from sklearn.metrics import mean_squared_error, mean_absolute_error\n",
        "\n",
        "# Performance\n",
        "print('Mean absolute error: ', mean_absolute_error(iris_rotulo_test, pred))\n",
        "print('Mean squared error: ', mean_squared_error(iris_rotulo_test, pred))"
      ],
      "execution_count": 5,
      "outputs": [
        {
          "output_type": "stream",
          "text": [
            "Mean absolute error:  0.17365670418204723\n",
            "Mean squared error:  0.04561509837555003\n"
          ],
          "name": "stdout"
        }
      ]
    },
    {
      "cell_type": "code",
      "metadata": {
        "id": "NoHzlihr2Uw2",
        "colab_type": "code",
        "colab": {
          "base_uri": "https://localhost:8080/",
          "height": 404
        },
        "outputId": "766b39ff-61f2-4d90-c309-d3cee457732f"
      },
      "source": [
        "# Visualização\n",
        "import matplotlib.pyplot as plt\n",
        "from sklearn.decomposition import PCA\n",
        "\n",
        "fig = plt.figure(1, figsize=(8, 6))\n",
        "X_reduced = PCA(n_components=3).fit_transform(iris_data_test)\n",
        "\n",
        "plt.scatter(X_reduced[:, 0], iris_rotulo_test, color='black', label='Test')\n",
        "plt.scatter(X_reduced[:, 0], pred, color='blue', label='Prediction')\n",
        "\n",
        "plt.ylim(-1, 3)\n",
        "plt.yticks([0, 1, 2], ['setosa', 'versicolor', 'virginica'])          \n",
        "plt.xlabel('Sepal Length')            \n",
        "plt.ylabel('Species')\n",
        "plt.title('Regressão Linear: Amostra de Teste vs. Predição')\n",
        "plt.legend()\n",
        "\n",
        "plt.show()"
      ],
      "execution_count": 7,
      "outputs": [
        {
          "output_type": "display_data",
          "data": {
            "image/png": "[encoded data removed]",
            "text/plain": [
              "<Figure size 576x432 with 1 Axes>"
            ]
          },
          "metadata": {
            "tags": [],
            "needs_background": "light"
          }
        }
      ]
    }
  ]
}