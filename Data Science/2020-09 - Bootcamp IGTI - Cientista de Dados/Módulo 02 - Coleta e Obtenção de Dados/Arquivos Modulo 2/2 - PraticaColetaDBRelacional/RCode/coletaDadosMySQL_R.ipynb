{
 "cells": [
  {
   "cell_type": "markdown",
   "metadata": {},
   "source": [
    "# <font color=red>Coleta de Dados no MySQL utilizando o R</font>"
   ]
  },
  {
   "cell_type": "markdown",
   "metadata": {},
   "source": [
    "Existem três **pacotes** que podem ser **utilizados para conectar o R aos SGBDs MySQL e MariaDB**, são os pacotes <b> *DBI*, *RMariaDB* e o *RMySQL*</b>.\n",
    "\n",
    "Os pacotes RMariaDB e RMySQL utilizam o mesmo driver de banco de dados, a biblioteca cliente MariaDB Connector/C para comunicação cliente/servidor. O RMariaDB substituirá o RMySQL, portanto, em um futuro próximo, você não receberá mais correções de bugs ou segurança do RMySQL. Desta forma, vamos trabalhar com o pacote mais atual que é o RMariaDB.\n",
    "\n",
    "O pacote RMariaDB exige que sua versão de R seja ≥ 2.8.0. Para verificar qual a versão da linguagem R é a sua, execute o comando:\n",
    "*sessionInfo()*"
   ]
  },
  {
   "cell_type": "markdown",
   "metadata": {},
   "source": [
    "<b>Para mais detalhes sobre a biblioteca RMariaDB consulte:</b>\n",
    "* https://cran.r-project.org/web/packages/RMariaDB/index.html\n",
    "* https://cran.r-project.org/web/packages/RMariaDB/RMariaDB.pdf\n",
    "\n",
    "<b>Para mais detalhes sobre a biblioteca RMySQL consulte:</b>\n",
    "* https://cran.r-project.org/web/packages/RMySQL/index.html\n",
    "* https://cran.r-project.org/web/packages/RMySQL/RMySQL.pdf\n",
    "\n",
    "<b>Para mais detalhes sobre a biblioteca DBI consulte:</b>\n",
    "* https://cran.r-project.org/web/packages/DBI/index.html\n",
    "* https://cran.r-project.org/web/packages/DBI/DBI.pdf"
   ]
  },
  {
   "cell_type": "markdown",
   "metadata": {},
   "source": [
    "### <font color=blue>Instalar o pacote RMariaDB</font>"
   ]
  },
  {
   "cell_type": "code",
   "execution_count": null,
   "metadata": {},
   "outputs": [],
   "source": [
    "# Instalar o pacote RMariaD se for a primeira vez que for utlizar.\n",
    "\n",
    "install.packages(\"RMariaDB\")"
   ]
  },
  {
   "cell_type": "markdown",
   "metadata": {},
   "source": [
    "Caso opte por utilizar o pacote DBI ou RMySQL, estes também devem ser instalados."
   ]
  },
  {
   "cell_type": "markdown",
   "metadata": {},
   "source": [
    "### <font color=blue>Importar o pacote RMariaDB</fonte>"
   ]
  },
  {
   "cell_type": "code",
   "execution_count": 2,
   "metadata": {},
   "outputs": [
    {
     "name": "stderr",
     "output_type": "stream",
     "text": [
      "Loading required package: RMariaDB\n",
      "Warning message:\n",
      "\"package 'RMariaDB' was built under R version 3.6.3\""
     ]
    }
   ],
   "source": [
    "#importação do pacote deve ser SEMPRE realizada\n",
    "\n",
    "#Importa pacote RMariaDB se ele ainda não foi carregado\n",
    "if(!\"RMariaDB\" %in% (.packages())){require(RMariaDB)}"
   ]
  },
  {
   "cell_type": "markdown",
   "metadata": {},
   "source": [
    "<b>Outras formas de importação do pacote RMariaDB:</b>\n",
    "* require(RMariaDB)\n",
    "* library(RMariaDB)"
   ]
  },
  {
   "attachments": {},
   "cell_type": "markdown",
   "metadata": {},
   "source": [
    "<b><font color=red>Observação 1:</b></font> A mensagem ilustrada abaixo não indica um erro, é um alerta indicando a versão do R no qual o pacote RMariaDB foi construindo.\n",
    "<img src=\"R1.png\" style=\"width: 40%\"/>\n",
    "\n",
    "<b><font color=red>Observação 2:</b></font> A mensagem abaixo indica um erro, alertando que não existe o pacote RMariaDB instalado. Para corrigir, instale o pacote.\n",
    "<img src=\"R2.png\" style=\"width: 70%\"/>\n"
   ]
  },
  {
   "cell_type": "code",
   "execution_count": null,
   "metadata": {},
   "outputs": [],
   "source": [
    "#Conecta ao SGBD MySQL --> Banco de dados bootcamp\n",
    "con <- dbConnect(MariaDB(), user = \"root\", password = \"igti\",\n",
    "                 dbname = \"bootcamp\", host = \"localhost\",serverTimezone='UTC')"
   ]
  },
  {
   "cell_type": "markdown",
   "metadata": {},
   "source": [
    "<b><font color=red>Observação:</b></font> Caso ocorra o erro abaixo:<br>\n",
    "\n",
    "<b>Error:</b> Failed to connect: <i>Plugin caching_sha2_password could not be loaded:</i> The specified module could not be found.\n",
    "\n",
    "Acesse seu SGBD MySQL Server utilizando o MySQL Workbench e execute o comando abaixo no seu esquema de BD\n",
    "\n",
    "    ALTER USER 'root'@'localhost' IDENTIFIED WITH mysql_native_password BY 'igti';\n",
    "\n",
    "Agora execute o comando de conexão novamente."
   ]
  },
  {
   "cell_type": "code",
   "execution_count": null,
   "metadata": {},
   "outputs": [],
   "source": [
    "#Para listar quais tabela existem no esquema .bootcamp. execute:\n",
    "\n",
    "#Lê a lista de tabelas no BD\n",
    "tables <- dbListTables(con) \n",
    "tables"
   ]
  },
  {
   "cell_type": "code",
   "execution_count": null,
   "metadata": {},
   "outputs": [],
   "source": [
    "#Para consultar quais os dados de uma tabela execute:\n",
    "# dbReadTable(nome-da-conexao,\"nome-da-tabela\")\n",
    "\n",
    "#Consulta os dados da tabela *estado*\n",
    "tabledata <- dbReadTable(con,\"estado\")\n",
    "tabledata"
   ]
  },
  {
   "cell_type": "markdown",
   "metadata": {},
   "source": [
    "<b><font color=red>Observação:</b></font> Veja que o resultado do comando acima demonstra que a tabela 'estado' não possue dados."
   ]
  },
  {
   "cell_type": "code",
   "execution_count": null,
   "metadata": {},
   "outputs": [],
   "source": [
    "#Consulta os dados da tabela *tipounidade*\n",
    "tabledata <- dbReadTable(con,\"tipounidade\")\n",
    "tabledata"
   ]
  },
  {
   "cell_type": "markdown",
   "metadata": {},
   "source": [
    "<b><font color=red>Observação:</b></font> Veja que o resultado do comando acima demonstra que a tabela 'tipounidade' possue alguns dados."
   ]
  },
  {
   "cell_type": "code",
   "execution_count": null,
   "metadata": {},
   "outputs": [],
   "source": [
    "#Para executar um comando SQL execute:\n",
    "#dbSendQuery(nome-da-conexao,\"comando\")\n",
    "\n",
    "# Vamos inserir uma nova linha na tabela tipounidade\n",
    "# Cria o comando e salva na variável query\n",
    "query <-  \"INSERT INTO tipounidade(idTipoUnidade,dscTipoUnidade) VALUES(7,'Loft');\"\n",
    "\n",
    "results <- dbSendQuery(con,query)\n",
    "print(results)\n",
    "\n",
    "# Limpa resultados\n",
    "dbClearResult(results)"
   ]
  },
  {
   "cell_type": "markdown",
   "metadata": {},
   "source": [
    "<b><font color=red>Observação 1:</b></font> Caso ocorra o erro: *Error: Duplicate entry '6' for key 'tipounidade.PRIMARY' [1062]*\n",
    "\n",
    "Isso significa que você violou a chave primária, ou seja, tentou inserir uma chave que já existe. Confira o valor da chave que esta inserindo, altere, e execute novamente.\n",
    "\n",
    "<b><font color=red>Observação 2:</b></font> Caso ocorra o erro: *Error: Column count doesn't match value count at row 1 [1136]*\n",
    "\n",
    "Isso significa que você esta inserindo dados não compatíveis com a definição da tabela.\n"
   ]
  },
  {
   "cell_type": "code",
   "execution_count": null,
   "metadata": {},
   "outputs": [],
   "source": [
    "#Consulta os dados da tabela *tipounidade*\n",
    "tabledata <- dbReadTable(con,\"tipounidade\")\n",
    "tabledata"
   ]
  },
  {
   "cell_type": "code",
   "execution_count": null,
   "metadata": {},
   "outputs": [],
   "source": [
    "id <- 8\n",
    "desc <- 'Chácara'\n",
    "\n",
    "query <-  paste(\"INSERT INTO tipounidade(idTipoUnidade,dscTipoUnidade) VALUES(\",id,\",'\",desc,\"');\",sep='')\n",
    "\n",
    "results <- dbSendQuery(con,query)\n",
    "print(results)\n",
    "\n",
    "# Limpa resultados\n",
    "dbClearResult(results)"
   ]
  },
  {
   "cell_type": "code",
   "execution_count": null,
   "metadata": {},
   "outputs": [],
   "source": [
    "#Consulta os dados da tabela *tipounidade*\n",
    "tabledata <- dbReadTable(con,\"tipounidade\")\n",
    "tabledata"
   ]
  },
  {
   "cell_type": "markdown",
   "metadata": {},
   "source": [
    "Agora vamos realizar a carga na tabela \"estados\" a partir dos dados coletados no arquivo estados.xlsx.\n",
    "Para abrir ler o arquivo será necessário o pacote *\"XLSX\"*."
   ]
  },
  {
   "cell_type": "markdown",
   "metadata": {},
   "source": [
    "### <font color=blue>Instalar o pacote xlsx</fonte>"
   ]
  },
  {
   "cell_type": "code",
   "execution_count": null,
   "metadata": {},
   "outputs": [],
   "source": [
    "# Instalar o pacote xlsx se for a primeira vez que for utlizar.\n",
    "install.packages('xlsx')"
   ]
  },
  {
   "cell_type": "markdown",
   "metadata": {},
   "source": [
    "### <font color=blue>Importar o pacote xlsx</fonte>"
   ]
  },
  {
   "cell_type": "code",
   "execution_count": null,
   "metadata": {},
   "outputs": [],
   "source": [
    "#Importa pacote xlsx se ele ainda não foi carregado\n",
    "if(!\"xlsx\" %in% (.packages())){require(xlsx)}"
   ]
  },
  {
   "cell_type": "markdown",
   "metadata": {},
   "source": [
    "Outras formas de importação do pacote xlsx:\n",
    "\n",
    "* require(xlsx)\n",
    "* library(xlsx)"
   ]
  },
  {
   "cell_type": "code",
   "execution_count": null,
   "metadata": {},
   "outputs": [],
   "source": [
    "#Antes de excutar esta célula, garanta que o caminho do arquivo estados.xlsx esteja correto.\n",
    "\n",
    "filename <- \"C:/Bootcamp/Datasets/XLS/estados.xlsx\"\n",
    "print(filename)\n",
    "\n",
    "insertdata <- read.xlsx(filename, sheetIndex=1, header=TRUE,encoding=\"UTF-8\")\n",
    "print(\"Lista de estados existentes no arquivo:\")\n",
    "insertdata"
   ]
  },
  {
   "cell_type": "markdown",
   "metadata": {},
   "source": [
    "<b><font color=red>Observação:</b></font> As colunas da tabela estado são: *CodEstadoIBGE,NomeEstado,SiglaEstado,Regiao*\n"
   ]
  },
  {
   "cell_type": "code",
   "execution_count": null,
   "metadata": {},
   "outputs": [],
   "source": [
    "# Escrever ou gravar os dados na tabela estado\n",
    "\n",
    "dbWriteTable(con,'estado',insertdata,append = TRUE)"
   ]
  },
  {
   "cell_type": "code",
   "execution_count": null,
   "metadata": {},
   "outputs": [],
   "source": [
    "#Consulta os dados da tabela *estado*\n",
    "results <- dbReadTable(con,\"estado\")\n",
    "results"
   ]
  },
  {
   "cell_type": "markdown",
   "metadata": {},
   "source": [
    "<b><font color=red>Observação:</b></font> O retorno do comando *dbReadTable* são os dados existentes na tabela estado."
   ]
  },
  {
   "cell_type": "code",
   "execution_count": null,
   "metadata": {},
   "outputs": [],
   "source": [
    "#Consulta os dados da tabela *estado*\n",
    "query <- \"SELECT * FROM estado;\"\n",
    "\n",
    "results <- dbSendQuery(con,query)\n",
    "results"
   ]
  },
  {
   "cell_type": "markdown",
   "metadata": {},
   "source": [
    "<b><font color=red>Observação:</b></font> O retorno do comando *dbSendQuery* indica que se o comando SQL passado para a variável *query* foi executado com sucesso ou não."
   ]
  },
  {
   "cell_type": "code",
   "execution_count": null,
   "metadata": {},
   "outputs": [],
   "source": [
    "# Limpa os dados da variável results\n",
    "dbClearResult(results)\n",
    "\n",
    "results <- dbGetQuery(con,query)\n",
    "results"
   ]
  },
  {
   "cell_type": "markdown",
   "metadata": {},
   "source": [
    "<b><font color=red>Observação:</b></font> O retorno do comando *dbGetQuery* é o resultados da query executada, neste caso, são os dados existentes na tabela estado."
   ]
  },
  {
   "cell_type": "code",
   "execution_count": null,
   "metadata": {},
   "outputs": [],
   "source": [
    "#Realizar o commit dos dados use o comando abaixo. \n",
    "\n",
    "#dbCommit(con)\n"
   ]
  },
  {
   "cell_type": "markdown",
   "metadata": {},
   "source": [
    "<b><font color=red>Observação:</b></font> O padrão da biblioteca para comando isolados, ou seja, fora de uma transação é ser auto commit."
   ]
  },
  {
   "cell_type": "code",
   "execution_count": null,
   "metadata": {},
   "outputs": [],
   "source": [
    "# Verifique se o caminho do arquivo existe.\n",
    "\n",
    "#Salvar o resultado da query no arquivo CSV\n",
    "write.csv(results,\"C:/Bootcamp/Datasets/CSV/estadosDB.csv\",row.names=FALSE,quote=FALSE)\n"
   ]
  },
  {
   "cell_type": "code",
   "execution_count": null,
   "metadata": {},
   "outputs": [],
   "source": [
    "# Desconectar do banco de dados\n",
    "dbDisconnect(con)"
   ]
  },
  {
   "cell_type": "markdown",
   "metadata": {},
   "source": [
    "##### Fim!"
   ]
  }
 ],
 "metadata": {
  "kernelspec": {
   "display_name": "R",
   "language": "R",
   "name": "ir"
  },
  "language_info": {
   "codemirror_mode": "r",
   "file_extension": ".r",
   "mimetype": "text/x-r-source",
   "name": "R",
   "pygments_lexer": "r",
   "version": "3.6.1"
  }
 },
 "nbformat": 4,
 "nbformat_minor": 4
}
