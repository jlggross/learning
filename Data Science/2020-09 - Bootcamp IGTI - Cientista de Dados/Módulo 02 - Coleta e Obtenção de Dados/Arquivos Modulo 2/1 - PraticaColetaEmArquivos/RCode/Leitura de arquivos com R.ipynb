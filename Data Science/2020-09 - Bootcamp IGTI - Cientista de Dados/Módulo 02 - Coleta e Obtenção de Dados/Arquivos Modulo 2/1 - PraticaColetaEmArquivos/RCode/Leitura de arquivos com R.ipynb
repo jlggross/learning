{
 "cells": [
  {
   "cell_type": "markdown",
   "metadata": {},
   "source": [
    "# Leitura de arquivos com R"
   ]
  },
  {
   "cell_type": "markdown",
   "metadata": {},
   "source": [
    "#### Leitura de arquivo"
   ]
  },
  {
   "cell_type": "code",
   "execution_count": 13,
   "metadata": {},
   "outputs": [
    {
     "name": "stderr",
     "output_type": "stream",
     "text": [
      "Warning message:\n",
      "\"package 'readr' was built under R version 3.6.3\""
     ]
    }
   ],
   "source": [
    "#instala pacote\n",
    "#install.packages('readr')\n",
    "\n",
    "#importa pacote\n",
    "library('readr')\n"
   ]
  },
  {
   "cell_type": "code",
   "execution_count": 14,
   "metadata": {},
   "outputs": [],
   "source": [
    "datasetpath <- 'C:/Bootcamp/Datasets/CSV'"
   ]
  },
  {
   "cell_type": "code",
   "execution_count": 17,
   "metadata": {},
   "outputs": [
    {
     "name": "stdout",
     "output_type": "stream",
     "text": [
      "  ID CAP TAM     PL    AC    PC     AP  ARLP  PELP    VLL\n",
      "1  1   0   1  63685 30475 41400  79300  5004 40098 0.0461\n",
      "2  2   1   1  89430 53000 43125 128100 25020 17604 0.0758\n",
      "3  3   1   2  81300 35775 74175 125050 43368 33252 0.0950\n",
      "4  4   1   1  79945 30475 31050 118950  8340 26406 0.0189\n",
      "5  5   0   3 105690 60950 58650  68625  7506 58680 0.0245\n"
     ]
    }
   ],
   "source": [
    "# Importar (ler) os dados do arquivo CSV de valores separados por virgulas\n",
    "file1 <- paste(datasetpath,\"/contabilidade.csv\",sep=\"\")\n",
    "\n",
    "data0 <- read.csv(file1)\n",
    "print(data0)"
   ]
  },
  {
   "cell_type": "code",
   "execution_count": 18,
   "metadata": {},
   "outputs": [
    {
     "name": "stdout",
     "output_type": "stream",
     "text": [
      "               ID.CAP.TAM.PL.AC.PC.AP.ARLP.PELP.VLL\n",
      "1   1,0,1,63685,30475,41400,79300,5004,40098,0.0461\n",
      "2 2,1,1,89430,53000,43125,128100,25020,17604,0.0758\n",
      "3 3,1,2,81300,35775,74175,125050,43368,33252,0.0950\n",
      "4  4,1,1,79945,30475,31050,118950,8340,26406,0.0189\n",
      "5  5,0,3,105690,60950,58650,68625,7506,58680,0.0245\n"
     ]
    }
   ],
   "source": [
    "data1 <- read.csv2(file1)\n",
    "print(data1)"
   ]
  },
  {
   "cell_type": "code",
   "execution_count": 19,
   "metadata": {},
   "outputs": [
    {
     "data": {
      "text/html": [
       "<table>\n",
       "<thead><tr><th scope=col>Id</th><th scope=col>Comprimento_Sepala_Cm</th><th scope=col>Largura_Sepala_Cm</th><th scope=col>Comprimento_Petala_Cm</th><th scope=col>Largura_Petala_Cm</th><th scope=col>Especie</th></tr></thead>\n",
       "<tbody>\n",
       "\t<tr><td>1          </td><td>5.1        </td><td>3.5        </td><td>1.4        </td><td>0.2        </td><td>Iris-setosa</td></tr>\n",
       "\t<tr><td>2          </td><td>4.9        </td><td>3.0        </td><td>1.4        </td><td>0.2        </td><td>Iris-setosa</td></tr>\n",
       "\t<tr><td>3          </td><td>4.7        </td><td>3.2        </td><td>1.3        </td><td>0.2        </td><td>Iris-setosa</td></tr>\n",
       "\t<tr><td>4          </td><td>4.6        </td><td>3.1        </td><td>1.5        </td><td>0.2        </td><td>Iris-setosa</td></tr>\n",
       "\t<tr><td>5          </td><td>5.0        </td><td>3.6        </td><td>1.4        </td><td>0.2        </td><td>Iris-setosa</td></tr>\n",
       "\t<tr><td>6          </td><td>5.4        </td><td>3.9        </td><td>1.7        </td><td>0.4        </td><td>Iris-setosa</td></tr>\n",
       "</tbody>\n",
       "</table>\n"
      ],
      "text/latex": [
       "\\begin{tabular}{r|llllll}\n",
       " Id & Comprimento\\_Sepala\\_Cm & Largura\\_Sepala\\_Cm & Comprimento\\_Petala\\_Cm & Largura\\_Petala\\_Cm & Especie\\\\\n",
       "\\hline\n",
       "\t 1           & 5.1         & 3.5         & 1.4         & 0.2         & Iris-setosa\\\\\n",
       "\t 2           & 4.9         & 3.0         & 1.4         & 0.2         & Iris-setosa\\\\\n",
       "\t 3           & 4.7         & 3.2         & 1.3         & 0.2         & Iris-setosa\\\\\n",
       "\t 4           & 4.6         & 3.1         & 1.5         & 0.2         & Iris-setosa\\\\\n",
       "\t 5           & 5.0         & 3.6         & 1.4         & 0.2         & Iris-setosa\\\\\n",
       "\t 6           & 5.4         & 3.9         & 1.7         & 0.4         & Iris-setosa\\\\\n",
       "\\end{tabular}\n"
      ],
      "text/markdown": [
       "\n",
       "| Id | Comprimento_Sepala_Cm | Largura_Sepala_Cm | Comprimento_Petala_Cm | Largura_Petala_Cm | Especie |\n",
       "|---|---|---|---|---|---|\n",
       "| 1           | 5.1         | 3.5         | 1.4         | 0.2         | Iris-setosa |\n",
       "| 2           | 4.9         | 3.0         | 1.4         | 0.2         | Iris-setosa |\n",
       "| 3           | 4.7         | 3.2         | 1.3         | 0.2         | Iris-setosa |\n",
       "| 4           | 4.6         | 3.1         | 1.5         | 0.2         | Iris-setosa |\n",
       "| 5           | 5.0         | 3.6         | 1.4         | 0.2         | Iris-setosa |\n",
       "| 6           | 5.4         | 3.9         | 1.7         | 0.4         | Iris-setosa |\n",
       "\n"
      ],
      "text/plain": [
       "  Id Comprimento_Sepala_Cm Largura_Sepala_Cm Comprimento_Petala_Cm\n",
       "1 1  5.1                   3.5               1.4                  \n",
       "2 2  4.9                   3.0               1.4                  \n",
       "3 3  4.7                   3.2               1.3                  \n",
       "4 4  4.6                   3.1               1.5                  \n",
       "5 5  5.0                   3.6               1.4                  \n",
       "6 6  5.4                   3.9               1.7                  \n",
       "  Largura_Petala_Cm Especie    \n",
       "1 0.2               Iris-setosa\n",
       "2 0.2               Iris-setosa\n",
       "3 0.2               Iris-setosa\n",
       "4 0.2               Iris-setosa\n",
       "5 0.2               Iris-setosa\n",
       "6 0.4               Iris-setosa"
      ]
     },
     "metadata": {},
     "output_type": "display_data"
    }
   ],
   "source": [
    "data2 <- read.table(paste(datasetpath,\"/Iris.csv\",sep=\"\"),header=T,sep=\",\")\n",
    "head(data2)"
   ]
  },
  {
   "cell_type": "code",
   "execution_count": 20,
   "metadata": {},
   "outputs": [
    {
     "data": {
      "text/plain": [
       "       Id         Comprimento_Sepala_Cm Largura_Sepala_Cm Comprimento_Petala_Cm\n",
       " Min.   :  1.00   Min.   :4.300         Min.   :2.000     Min.   :1.000        \n",
       " 1st Qu.: 38.25   1st Qu.:5.100         1st Qu.:2.800     1st Qu.:1.600        \n",
       " Median : 75.50   Median :5.800         Median :3.000     Median :4.350        \n",
       " Mean   : 75.50   Mean   :5.843         Mean   :3.054     Mean   :3.759        \n",
       " 3rd Qu.:112.75   3rd Qu.:6.400         3rd Qu.:3.300     3rd Qu.:5.100        \n",
       " Max.   :150.00   Max.   :7.900         Max.   :4.400     Max.   :6.900        \n",
       " Largura_Petala_Cm            Especie  \n",
       " Min.   :0.100     Iris-setosa    :50  \n",
       " 1st Qu.:0.300     Iris-versicolor:50  \n",
       " Median :1.300     Iris-virginica :50  \n",
       " Mean   :1.199                         \n",
       " 3rd Qu.:1.800                         \n",
       " Max.   :2.500                         "
      ]
     },
     "metadata": {},
     "output_type": "display_data"
    }
   ],
   "source": [
    "summary(data2)"
   ]
  },
  {
   "cell_type": "code",
   "execution_count": 27,
   "metadata": {},
   "outputs": [
    {
     "name": "stderr",
     "output_type": "stream",
     "text": [
      "Warning message in read.table(file = file, header = header, sep = sep, quote = quote, :\n",
      "\"incomplete final line found by readTableHeader on 'C:\\Bootcamp\\Datasets\\TXT\\noticias.txt'\""
     ]
    },
    {
     "data": {
      "text/html": [
       "<table>\n",
       "<thead><tr><th scope=col>X.U.FEFF.A.população.do.Marajó..PA..recebeu.mais.de.190.mil.itens.de.higiene.pessoal.e.12.5.mil.cestas.de.alimentos..As.doações.fazem.parte.da.segunda.fase.da.Operação.Pão.da.Vida.e.foram.entregues.em.solenidade.simbólica.na.última.sexta.feira..31...no.município.de.Breves..PA...Na.ação..que.integra.o.programa.Abrace.o.Marajó..foram.distribuídas.5.5.mil.cestas.básicas.para.Breves..3.mil.para.Melgaço.e.4.mil.para.Portel..Entre.as.doações..estão.itens.de.proteção.e.higiene.</th></tr></thead>\n",
       "<tbody>\n",
       "\t<tr><td>São 5 mil máscaras, 3,5 mil escovas de dentes e cerca de 1,8 mil caixas de sabonetes. Cada caixa contém 108 unidades, totalizando mais de 190 mil sabonetes.Nos coube essa missão e junto com a sociedade civil organizada, terceiro setor, pastorais católicas, igrejas evangélicas nos mobilizamos para dar auxílio a esta região. \n",
       "Aqui entregamos doações que vem de todo o Brasil e eles não querem só doar, mas conhecer o Marajó e futuramente trazer indústrias e trabalho, destacou a coordenadora do programa Abrace o Marajó, Marisa Romão.Toninho Barbosa, prefeito da cidade de Breves (PA), agradeceu ao Governo Federal por estar presente na região. O que mais precisamos aqui no Marajó é ajuda diante da pandemia e eu me sinto muito feliz em ter o apoio do Governo Federal e ver a união de todos, conclui. Nesta fase do projeto, cerca de 180 mil pessoas foram alcançadas. As doações são fruto do apoio de empresários e outros membros da sociedade civil e do terceiro setor, a maioria do estado de São Paulo, com destaque para a Virada Feminina. O movimento visa a contribuir com os desafios enfrentados pelas pessoas em áreas como saúde, inclusão social e enfrentamento à violência. </td></tr>\n",
       "\t<tr><td>O Programa Abrace o Marajó envolve os governos Federal, estadual e municipal e a iniciativa privada. O objetivo é melhorar o Índice de Desenvolvimento Humano (IDH) dos municípios da região com ampliação do alcance e do acesso da população local aos direitos humanos.                                                                                                                                                                                                                                                                                                                                                                                                                                                                                                                                                                                                                                                                                                                                                                                                                                                                                                                                                  </td></tr>\n",
       "\t<tr><td>O programa conta com parceiros do governo, como o programa Pátria Voluntária, do Ministério da Cidadania, e o Ministério da Defesa, que presta suporte logístico por meio da Marinha do Brasil. Para conhecer o programa Pátria Voluntária acesse: https://patriavoluntaria.org/pt-BR.                                                                                                                                                                                                                                                                                                                                                                                                                                                                                                                                                                                                                                                                                                                                                                                                                                                                                                                                      </td></tr>\n",
       "\t<tr><td>A terceira fase da operação está prevista para acontecer até o final de agosto, contemplando mais quatro municípios. Até o final de outubro, todos os 16 municípios do arquipélago serão beneficiados. No total, serão entregues 1,2 milhão de itens de higiene pessoal para a população do Marajó. A Fundação Oswaldo Cruz (Fiocruz - @Fiocruz), do Ministério da Saúde, e o laboratório AstraZeneca (@AstraZeneca) assinaram, na última sexta-feira (31), um documento que dará base para o acordo entre os laboratórios sobre a transferência de tecnologia e a produção de 100 milhões de doses da vacina contra a Covid-19, caso seja comprovada a sua eficácia e segurança. #Fiocruz #AstraZeneca                                                                                                                                                                                                                                                                                                                                                                                                                                                                                                                     </td></tr>\n",
       "</tbody>\n",
       "</table>\n"
      ],
      "text/latex": [
       "\\begin{tabular}{r|l}\n",
       " X.U.FEFF.A.população.do.Marajó..PA..recebeu.mais.de.190.mil.itens.de.higiene.pessoal.e.12.5.mil.cestas.de.alimentos..As.doações.fazem.parte.da.segunda.fase.da.Operação.Pão.da.Vida.e.foram.entregues.em.solenidade.simbólica.na.última.sexta.feira..31...no.município.de.Breves..PA...Na.ação..que.integra.o.programa.Abrace.o.Marajó..foram.distribuídas.5.5.mil.cestas.básicas.para.Breves..3.mil.para.Melgaço.e.4.mil.para.Portel..Entre.as.doações..estão.itens.de.proteção.e.higiene.\\\\\n",
       "\\hline\n",
       "\t São 5 mil máscaras, 3,5 mil escovas de dentes e cerca de 1,8 mil caixas de sabonetes. Cada caixa contém 108 unidades, totalizando mais de 190 mil sabonetes.Nos coube essa missão e junto com a sociedade civil organizada, terceiro setor, pastorais católicas, igrejas evangélicas nos mobilizamos para dar auxílio a esta região. \n",
       "Aqui entregamos doações que vem de todo o Brasil e eles não querem só doar, mas conhecer o Marajó e futuramente trazer indústrias e trabalho, destacou a coordenadora do programa Abrace o Marajó, Marisa Romão.Toninho Barbosa, prefeito da cidade de Breves (PA), agradeceu ao Governo Federal por estar presente na região. O que mais precisamos aqui no Marajó é ajuda diante da pandemia e eu me sinto muito feliz em ter o apoio do Governo Federal e ver a união de todos, conclui. Nesta fase do projeto, cerca de 180 mil pessoas foram alcançadas. As doações são fruto do apoio de empresários e outros membros da sociedade civil e do terceiro setor, a maioria do estado de São Paulo, com destaque para a Virada Feminina. O movimento visa a contribuir com os desafios enfrentados pelas pessoas em áreas como saúde, inclusão social e enfrentamento à violência. \\\\\n",
       "\t O Programa Abrace o Marajó envolve os governos Federal, estadual e municipal e a iniciativa privada. O objetivo é melhorar o Índice de Desenvolvimento Humano (IDH) dos municípios da região com ampliação do alcance e do acesso da população local aos direitos humanos.                                                                                                                                                                                                                                                                                                                                                                                                                                                                                                                                                                                                                                                                                                                                                                                                                                                                                                                                                  \\\\\n",
       "\t O programa conta com parceiros do governo, como o programa Pátria Voluntária, do Ministério da Cidadania, e o Ministério da Defesa, que presta suporte logístico por meio da Marinha do Brasil. Para conhecer o programa Pátria Voluntária acesse: https://patriavoluntaria.org/pt-BR.                                                                                                                                                                                                                                                                                                                                                                                                                                                                                                                                                                                                                                                                                                                                                                                                                                                                                                                                      \\\\\n",
       "\t A terceira fase da operação está prevista para acontecer até o final de agosto, contemplando mais quatro municípios. Até o final de outubro, todos os 16 municípios do arquipélago serão beneficiados. No total, serão entregues 1,2 milhão de itens de higiene pessoal para a população do Marajó. A Fundação Oswaldo Cruz (Fiocruz - @Fiocruz), do Ministério da Saúde, e o laboratório AstraZeneca (@AstraZeneca) assinaram, na última sexta-feira (31), um documento que dará base para o acordo entre os laboratórios sobre a transferência de tecnologia e a produção de 100 milhões de doses da vacina contra a Covid-19, caso seja comprovada a sua eficácia e segurança. \\#Fiocruz \\#AstraZeneca                                                                                                                                                                                                                                                                                                                                                                                                                                                                                                                     \\\\\n",
       "\\end{tabular}\n"
      ],
      "text/markdown": [
       "\n",
       "| X.U.FEFF.A.população.do.Marajó..PA..recebeu.mais.de.190.mil.itens.de.higiene.pessoal.e.12.5.mil.cestas.de.alimentos..As.doações.fazem.parte.da.segunda.fase.da.Operação.Pão.da.Vida.e.foram.entregues.em.solenidade.simbólica.na.última.sexta.feira..31...no.município.de.Breves..PA...Na.ação..que.integra.o.programa.Abrace.o.Marajó..foram.distribuídas.5.5.mil.cestas.básicas.para.Breves..3.mil.para.Melgaço.e.4.mil.para.Portel..Entre.as.doações..estão.itens.de.proteção.e.higiene. |\n",
       "|---|\n",
       "| São 5 mil máscaras, 3,5 mil escovas de dentes e cerca de 1,8 mil caixas de sabonetes. Cada caixa contém 108 unidades, totalizando mais de 190 mil sabonetes.Nos coube essa missão e junto com a sociedade civil organizada, terceiro setor, pastorais católicas, igrejas evangélicas nos mobilizamos para dar auxílio a esta região. \n",
       "Aqui entregamos doações que vem de todo o Brasil e eles não querem só doar, mas conhecer o Marajó e futuramente trazer indústrias e trabalho, destacou a coordenadora do programa Abrace o Marajó, Marisa Romão.Toninho Barbosa, prefeito da cidade de Breves (PA), agradeceu ao Governo Federal por estar presente na região. O que mais precisamos aqui no Marajó é ajuda diante da pandemia e eu me sinto muito feliz em ter o apoio do Governo Federal e ver a união de todos, conclui. Nesta fase do projeto, cerca de 180 mil pessoas foram alcançadas. As doações são fruto do apoio de empresários e outros membros da sociedade civil e do terceiro setor, a maioria do estado de São Paulo, com destaque para a Virada Feminina. O movimento visa a contribuir com os desafios enfrentados pelas pessoas em áreas como saúde, inclusão social e enfrentamento à violência.  |\n",
       "| O Programa Abrace o Marajó envolve os governos Federal, estadual e municipal e a iniciativa privada. O objetivo é melhorar o Índice de Desenvolvimento Humano (IDH) dos municípios da região com ampliação do alcance e do acesso da população local aos direitos humanos.                                                                                                                                                                                                                                                                                                                                                                                                                                                                                                                                                                                                                                                                                                                                                                                                                                                                                                                                                   |\n",
       "| O programa conta com parceiros do governo, como o programa Pátria Voluntária, do Ministério da Cidadania, e o Ministério da Defesa, que presta suporte logístico por meio da Marinha do Brasil. Para conhecer o programa Pátria Voluntária acesse: https://patriavoluntaria.org/pt-BR.                                                                                                                                                                                                                                                                                                                                                                                                                                                                                                                                                                                                                                                                                                                                                                                                                                                                                                                                       |\n",
       "| A terceira fase da operação está prevista para acontecer até o final de agosto, contemplando mais quatro municípios. Até o final de outubro, todos os 16 municípios do arquipélago serão beneficiados. No total, serão entregues 1,2 milhão de itens de higiene pessoal para a população do Marajó. A Fundação Oswaldo Cruz (Fiocruz - @Fiocruz), do Ministério da Saúde, e o laboratório AstraZeneca (@AstraZeneca) assinaram, na última sexta-feira (31), um documento que dará base para o acordo entre os laboratórios sobre a transferência de tecnologia e a produção de 100 milhões de doses da vacina contra a Covid-19, caso seja comprovada a sua eficácia e segurança. #Fiocruz #AstraZeneca                                                                                                                                                                                                                                                                                                                                                                                                                                                                                                                      |\n",
       "\n"
      ],
      "text/plain": [
       "  X.U.FEFF.A.população.do.Marajó..PA..recebeu.mais.de.190.mil.itens.de.higiene.pessoal.e.12.5.mil.cestas.de.alimentos..As.doações.fazem.parte.da.segunda.fase.da.Operação.Pão.da.Vida.e.foram.entregues.em.solenidade.simbólica.na.última.sexta.feira..31...no.município.de.Breves..PA...Na.ação..que.integra.o.programa.Abrace.o.Marajó..foram.distribuídas.5.5.mil.cestas.básicas.para.Breves..3.mil.para.Melgaço.e.4.mil.para.Portel..Entre.as.doações..estão.itens.de.proteção.e.higiene.                                                                                                                                                                                                                                                                                                                                                                                                                                                                                                                                                                                                                                                                                                                                 \n",
       "1 São 5 mil máscaras, 3,5 mil escovas de dentes e cerca de 1,8 mil caixas de sabonetes. Cada caixa contém 108 unidades, totalizando mais de 190 mil sabonetes.Nos coube essa missão e junto com a sociedade civil organizada, terceiro setor, pastorais católicas, igrejas evangélicas nos mobilizamos para dar auxílio a esta região. \\nAqui entregamos doações que vem de todo o Brasil e eles não querem só doar, mas conhecer o Marajó e futuramente trazer indústrias e trabalho, destacou a coordenadora do programa Abrace o Marajó, Marisa Romão.Toninho Barbosa, prefeito da cidade de Breves (PA), agradeceu ao Governo Federal por estar presente na região. O que mais precisamos aqui no Marajó é ajuda diante da pandemia e eu me sinto muito feliz em ter o apoio do Governo Federal e ver a união de todos, conclui. Nesta fase do projeto, cerca de 180 mil pessoas foram alcançadas. As doações são fruto do apoio de empresários e outros membros da sociedade civil e do terceiro setor, a maioria do estado de São Paulo, com destaque para a Virada Feminina. O movimento visa a contribuir com os desafios enfrentados pelas pessoas em áreas como saúde, inclusão social e enfrentamento à violência. \n",
       "2 O Programa Abrace o Marajó envolve os governos Federal, estadual e municipal e a iniciativa privada. O objetivo é melhorar o Índice de Desenvolvimento Humano (IDH) dos municípios da região com ampliação do alcance e do acesso da população local aos direitos humanos.                                                                                                                                                                                                                                                                                                                                                                                                                                                                                                                                                                                                                                                                                                                                                                                                                                                                                                                                                  \n",
       "3 O programa conta com parceiros do governo, como o programa Pátria Voluntária, do Ministério da Cidadania, e o Ministério da Defesa, que presta suporte logístico por meio da Marinha do Brasil. Para conhecer o programa Pátria Voluntária acesse: https://patriavoluntaria.org/pt-BR.                                                                                                                                                                                                                                                                                                                                                                                                                                                                                                                                                                                                                                                                                                                                                                                                                                                                                                                                      \n",
       "4 A terceira fase da operação está prevista para acontecer até o final de agosto, contemplando mais quatro municípios. Até o final de outubro, todos os 16 municípios do arquipélago serão beneficiados. No total, serão entregues 1,2 milhão de itens de higiene pessoal para a população do Marajó. A Fundação Oswaldo Cruz (Fiocruz - @Fiocruz), do Ministério da Saúde, e o laboratório AstraZeneca (@AstraZeneca) assinaram, na última sexta-feira (31), um documento que dará base para o acordo entre os laboratórios sobre a transferência de tecnologia e a produção de 100 milhões de doses da vacina contra a Covid-19, caso seja comprovada a sua eficácia e segurança. #Fiocruz #AstraZeneca                                                                                                                                                                                                                                                                                                                                                                                                                                                                                                                     "
      ]
     },
     "metadata": {},
     "output_type": "display_data"
    }
   ],
   "source": [
    "datasetpath <- 'C:\\\\Bootcamp\\\\Datasets\\\\TXT'\n",
    "file3 <- paste(datasetpath,\"\\\\noticias.txt\",sep=\"\")\n",
    "data3 <- read.delim(file3,encoding='utf-8')\n",
    "data3"
   ]
  },
  {
   "cell_type": "code",
   "execution_count": 28,
   "metadata": {},
   "outputs": [
    {
     "name": "stderr",
     "output_type": "stream",
     "text": [
      "Warning message in read.table(file = file, header = header, sep = sep, quote = quote, :\n",
      "\"incomplete final line found by readTableHeader on 'C:\\Bootcamp\\govBR\\noticias.txt'\""
     ]
    },
    {
     "data": {
      "text/html": [
       "<table>\n",
       "<thead><tr><th scope=col>A.populaÃ.Ã.o.do.MarajÃ³..PA..recebeu.mais.de.190.mil.itens.de.higiene.pessoal.e.12.5.mil.cestas.de.alimentos..As.doaÃ.Ãµes.fazem.parte.da.segunda.fase.da.OperaÃ.Ã.o.PÃ.o.da.Vida.e.foram.entregues.em.solenidade.simbÃ³lica.na.Ãºltima.sexta.feira..31...no.municÃ.pio.de.Breves..PA...Na.aÃ.Ã.o..que.integra.o.programa.Abrace.o.MarajÃ³..foram.distribuÃ.das.5.5.mil.cestas.bÃ.sicas.para.Breves..3.mil.para.MelgaÃ.o.e.4.mil.para.Portel..Entre.as.doaÃ.Ãµes..estÃ.o.itens.de.proteÃ.Ã.o.e.higiene.</th></tr></thead>\n",
       "<tbody>\n",
       "\t<tr><td>SÃ£o 5 mil mÃ¡scaras, 3,5 mil escovas de dentes e cerca de 1,8 mil caixas de sabonetes. Cada caixa contÃ©m 108 unidades, totalizando mais de 190 mil sabonetes.Nos coube essa missÃ£o e junto com a sociedade civil organizada, terceiro setor, pastorais catÃ³licas, igrejas evangÃ©licas nos mobilizamos para dar auxÃ­lio a esta regiÃ£o. \n",
       "Aqui entregamos doaÃ§Ãµes que vem de todo o Brasil e eles nÃ£o querem sÃ³ doar, mas conhecer o MarajÃ³ e futuramente trazer indÃºstrias e trabalho, destacou a coordenadora do programa Abrace o MarajÃ³, Marisa RomÃ£o.Toninho Barbosa, prefeito da cidade de Breves (PA), agradeceu ao Governo Federal por estar presente na regiÃ£o. O que mais precisamos aqui no MarajÃ³ Ã© ajuda diante da pandemia e eu me sinto muito feliz em ter o apoio do Governo Federal e ver a uniÃ£o de todos, conclui. Nesta fase do projeto, cerca de 180 mil pessoas foram alcanÃ§adas. As doaÃ§Ãµes sÃ£o fruto do apoio de empresÃ¡rios e outros membros da sociedade civil e do terceiro setor, a maioria do estado de SÃ£o Paulo, com destaque para a Virada Feminina. O movimento visa a contribuir com os desafios enfrentados pelas pessoas em Ã¡reas como saÃºde, inclusÃ£o social e enfrentamento Ã  violÃªncia. </td></tr>\n",
       "\t<tr><td>O Programa Abrace o MarajÃ³ envolve os governos Federal, estadual e municipal e a iniciativa privada. O objetivo Ã© melhorar o Ãndice de Desenvolvimento Humano (IDH) dos municÃ­pios da regiÃ£o com ampliaÃ§Ã£o do alcance e do acesso da populaÃ§Ã£o local aos direitos humanos.                                                                                                                                                                                                                                                                                                                                                                                                                                                                                                                                                                                                                                                                                                                                                                                                                                                                                                                                                                        </td></tr>\n",
       "\t<tr><td>O programaÂ conta com parceiros do governo, como o programa PÃ¡tria VoluntÃ¡ria, do MinistÃ©rio da Cidadania, e o MinistÃ©rio da Defesa, que presta suporte logÃ­stico por meio da Marinha do Brasil. Para conhecer o programa PÃ¡tria VoluntÃ¡ria acesse: https://patriavoluntaria.org/pt-BR.                                                                                                                                                                                                                                                                                                                                                                                                                                                                                                                                                                                                                                                                                                                                                                                                                                                                                                                                                             </td></tr>\n",
       "\t<tr><td>A terceira fase da operaÃ§Ã£o estÃ¡ prevista para acontecer atÃ© o final de agosto, contemplando mais quatro municÃ­pios. AtÃ© o final de outubro, todos os 16 municÃ­pios do arquipÃ©lago serÃ£o beneficiados. No total, serÃ£o entregues 1,2 milhÃ£o de itens de higiene pessoal para a populaÃ§Ã£o do MarajÃ³.Â A FundaÃ§Ã£o Oswaldo Cruz (Fiocruz - @Fiocruz), do MinistÃ©rio da SaÃºde, e o laboratÃ³rio AstraZeneca (@AstraZeneca) assinaram, na Ãºltima sexta-feira (31), um documento que darÃ¡ base para o acordo entre os laboratÃ³rios sobre a transferÃªncia de tecnologia e a produÃ§Ã£o de 100 milhÃµes de doses da vacina contra a Covid-19, caso seja comprovada a sua eficÃ¡cia e seguranÃ§a. #Fiocruz #AstraZeneca                                                                                                                                                                                                                                                                                                                                                                                                                                                                                                                       </td></tr>\n",
       "</tbody>\n",
       "</table>\n"
      ],
      "text/latex": [
       "\\begin{tabular}{r|l}\n",
       " A.populaÃ.Ã.o.do.MarajÃ³..PA..recebeu.mais.de.190.mil.itens.de.higiene.pessoal.e.12.5.mil.cestas.de.alimentos..As.doaÃ.Ãµes.fazem.parte.da.segunda.fase.da.OperaÃ.Ã.o.PÃ.o.da.Vida.e.foram.entregues.em.solenidade.simbÃ³lica.na.Ãºltima.sexta.feira..31...no.municÃ.pio.de.Breves..PA...Na.aÃ.Ã.o..que.integra.o.programa.Abrace.o.MarajÃ³..foram.distribuÃ.das.5.5.mil.cestas.bÃ.sicas.para.Breves..3.mil.para.MelgaÃ.o.e.4.mil.para.Portel..Entre.as.doaÃ.Ãµes..estÃ.o.itens.de.proteÃ.Ã.o.e.higiene.\\\\\n",
       "\\hline\n",
       "\t SÃ£o 5 mil mÃ¡scaras, 3,5 mil escovas de dentes e cerca de 1,8 mil caixas de sabonetes. Cada caixa contÃ©m 108 unidades, totalizando mais de 190 mil sabonetes.Nos coube essa missÃ£o e junto com a sociedade civil organizada, terceiro setor, pastorais catÃ³licas, igrejas evangÃ©licas nos mobilizamos para dar auxÃ­lio a esta regiÃ£o. \n",
       "Aqui entregamos doaÃ§Ãµes que vem de todo o Brasil e eles nÃ£o querem sÃ³ doar, mas conhecer o MarajÃ³ e futuramente trazer indÃºstrias e trabalho, destacou a coordenadora do programa Abrace o MarajÃ³, Marisa RomÃ£o.Toninho Barbosa, prefeito da cidade de Breves (PA), agradeceu ao Governo Federal por estar presente na regiÃ£o. O que mais precisamos aqui no MarajÃ³ Ã© ajuda diante da pandemia e eu me sinto muito feliz em ter o apoio do Governo Federal e ver a uniÃ£o de todos, conclui. Nesta fase do projeto, cerca de 180 mil pessoas foram alcanÃ§adas. As doaÃ§Ãµes sÃ£o fruto do apoio de empresÃ¡rios e outros membros da sociedade civil e do terceiro setor, a maioria do estado de SÃ£o Paulo, com destaque para a Virada Feminina. O movimento visa a contribuir com os desafios enfrentados pelas pessoas em Ã¡reas como saÃºde, inclusÃ£o social e enfrentamento Ã  violÃªncia. \\\\\n",
       "\t O Programa Abrace o MarajÃ³ envolve os governos Federal, estadual e municipal e a iniciativa privada. O objetivo Ã© melhorar o Ãndice de Desenvolvimento Humano (IDH) dos municÃ­pios da regiÃ£o com ampliaÃ§Ã£o do alcance e do acesso da populaÃ§Ã£o local aos direitos humanos.                                                                                                                                                                                                                                                                                                                                                                                                                                                                                                                                                                                                                                                                                                                                                                                                                                                                                                                                                                        \\\\\n",
       "\t O programaÂ conta com parceiros do governo, como o programa PÃ¡tria VoluntÃ¡ria, do MinistÃ©rio da Cidadania, e o MinistÃ©rio da Defesa, que presta suporte logÃ­stico por meio da Marinha do Brasil. Para conhecer o programa PÃ¡tria VoluntÃ¡ria acesse: https://patriavoluntaria.org/pt-BR.                                                                                                                                                                                                                                                                                                                                                                                                                                                                                                                                                                                                                                                                                                                                                                                                                                                                                                                                                             \\\\\n",
       "\t A terceira fase da operaÃ§Ã£o estÃ¡ prevista para acontecer atÃ© o final de agosto, contemplando mais quatro municÃ­pios. AtÃ© o final de outubro, todos os 16 municÃ­pios do arquipÃ©lago serÃ£o beneficiados. No total, serÃ£o entregues 1,2 milhÃ£o de itens de higiene pessoal para a populaÃ§Ã£o do MarajÃ³.Â A FundaÃ§Ã£o Oswaldo Cruz (Fiocruz - @Fiocruz), do MinistÃ©rio da SaÃºde, e o laboratÃ³rio AstraZeneca (@AstraZeneca) assinaram, na Ãºltima sexta-feira (31), um documento que darÃ¡ base para o acordo entre os laboratÃ³rios sobre a transferÃªncia de tecnologia e a produÃ§Ã£o de 100 milhÃµes de doses da vacina contra a Covid-19, caso seja comprovada a sua eficÃ¡cia e seguranÃ§a. \\#Fiocruz \\#AstraZeneca                                                                                                                                                                                                                                                                                                                                                                                                                                                                                                                       \\\\\n",
       "\\end{tabular}\n"
      ],
      "text/markdown": [
       "\n",
       "| A.populaÃ.Ã.o.do.MarajÃ³..PA..recebeu.mais.de.190.mil.itens.de.higiene.pessoal.e.12.5.mil.cestas.de.alimentos..As.doaÃ.Ãµes.fazem.parte.da.segunda.fase.da.OperaÃ.Ã.o.PÃ.o.da.Vida.e.foram.entregues.em.solenidade.simbÃ³lica.na.Ãºltima.sexta.feira..31...no.municÃ.pio.de.Breves..PA...Na.aÃ.Ã.o..que.integra.o.programa.Abrace.o.MarajÃ³..foram.distribuÃ.das.5.5.mil.cestas.bÃ.sicas.para.Breves..3.mil.para.MelgaÃ.o.e.4.mil.para.Portel..Entre.as.doaÃ.Ãµes..estÃ.o.itens.de.proteÃ.Ã.o.e.higiene. |\n",
       "|---|\n",
       "| SÃ£o 5 mil mÃ¡scaras, 3,5 mil escovas de dentes e cerca de 1,8 mil caixas de sabonetes. Cada caixa contÃ©m 108 unidades, totalizando mais de 190 mil sabonetes.Nos coube essa missÃ£o e junto com a sociedade civil organizada, terceiro setor, pastorais catÃ³licas, igrejas evangÃ©licas nos mobilizamos para dar auxÃ­lio a esta regiÃ£o. \n",
       "Aqui entregamos doaÃ§Ãµes que vem de todo o Brasil e eles nÃ£o querem sÃ³ doar, mas conhecer o MarajÃ³ e futuramente trazer indÃºstrias e trabalho, destacou a coordenadora do programa Abrace o MarajÃ³, Marisa RomÃ£o.Toninho Barbosa, prefeito da cidade de Breves (PA), agradeceu ao Governo Federal por estar presente na regiÃ£o. O que mais precisamos aqui no MarajÃ³ Ã© ajuda diante da pandemia e eu me sinto muito feliz em ter o apoio do Governo Federal e ver a uniÃ£o de todos, conclui. Nesta fase do projeto, cerca de 180 mil pessoas foram alcanÃ§adas. As doaÃ§Ãµes sÃ£o fruto do apoio de empresÃ¡rios e outros membros da sociedade civil e do terceiro setor, a maioria do estado de SÃ£o Paulo, com destaque para a Virada Feminina. O movimento visa a contribuir com os desafios enfrentados pelas pessoas em Ã¡reas como saÃºde, inclusÃ£o social e enfrentamento Ã  violÃªncia.  |\n",
       "| O Programa Abrace o MarajÃ³ envolve os governos Federal, estadual e municipal e a iniciativa privada. O objetivo Ã© melhorar o Ãndice de Desenvolvimento Humano (IDH) dos municÃ­pios da regiÃ£o com ampliaÃ§Ã£o do alcance e do acesso da populaÃ§Ã£o local aos direitos humanos.                                                                                                                                                                                                                                                                                                                                                                                                                                                                                                                                                                                                                                                                                                                                                                                                                                                                                                                                                                         |\n",
       "| O programaÂ conta com parceiros do governo, como o programa PÃ¡tria VoluntÃ¡ria, do MinistÃ©rio da Cidadania, e o MinistÃ©rio da Defesa, que presta suporte logÃ­stico por meio da Marinha do Brasil. Para conhecer o programa PÃ¡tria VoluntÃ¡ria acesse: https://patriavoluntaria.org/pt-BR.                                                                                                                                                                                                                                                                                                                                                                                                                                                                                                                                                                                                                                                                                                                                                                                                                                                                                                                                                              |\n",
       "| A terceira fase da operaÃ§Ã£o estÃ¡ prevista para acontecer atÃ© o final de agosto, contemplando mais quatro municÃ­pios. AtÃ© o final de outubro, todos os 16 municÃ­pios do arquipÃ©lago serÃ£o beneficiados. No total, serÃ£o entregues 1,2 milhÃ£o de itens de higiene pessoal para a populaÃ§Ã£o do MarajÃ³.Â A FundaÃ§Ã£o Oswaldo Cruz (Fiocruz - @Fiocruz), do MinistÃ©rio da SaÃºde, e o laboratÃ³rio AstraZeneca (@AstraZeneca) assinaram, na Ãºltima sexta-feira (31), um documento que darÃ¡ base para o acordo entre os laboratÃ³rios sobre a transferÃªncia de tecnologia e a produÃ§Ã£o de 100 milhÃµes de doses da vacina contra a Covid-19, caso seja comprovada a sua eficÃ¡cia e seguranÃ§a. #Fiocruz #AstraZeneca                                                                                                                                                                                                                                                                                                                                                                                                                                                                                                                        |\n",
       "\n"
      ],
      "text/plain": [
       "  A.populaÃ.Ã.o.do.MarajÃ³..PA..recebeu.mais.de.190.mil.itens.de.higiene.pessoal.e.12.5.mil.cestas.de.alimentos..As.doaÃ.Ãµes.fazem.parte.da.segunda.fase.da.OperaÃ.Ã.o.PÃ.o.da.Vida.e.foram.entregues.em.solenidade.simbÃ³lica.na.Ãºltima.sexta.feira..31...no.municÃ.pio.de.Breves..PA...Na.aÃ.Ã.o..que.integra.o.programa.Abrace.o.MarajÃ³..foram.distribuÃ.das.5.5.mil.cestas.bÃ.sicas.para.Breves..3.mil.para.MelgaÃ.o.e.4.mil.para.Portel..Entre.as.doaÃ.Ãµes..estÃ.o.itens.de.proteÃ.Ã.o.e.higiene.                                                                                                                                                                                                                                                                                                                                                                                                                                                                                                                                                                                                                                                                                                                                                   \n",
       "1 SÃ£o 5 mil mÃ¡scaras, 3,5 mil escovas de dentes e cerca de 1,8 mil caixas de sabonetes. Cada caixa contÃ©m 108 unidades, totalizando mais de 190 mil sabonetes.Nos coube essa missÃ£o e junto com a sociedade civil organizada, terceiro setor, pastorais catÃ³licas, igrejas evangÃ©licas nos mobilizamos para dar auxÃ­lio a esta regiÃ£o. \\nAqui entregamos doaÃ§Ãµes que vem de todo o Brasil e eles nÃ£o querem sÃ³ doar, mas conhecer o MarajÃ³ e futuramente trazer indÃºstrias e trabalho, destacou a coordenadora do programa Abrace o MarajÃ³, Marisa RomÃ£o.Toninho Barbosa, prefeito da cidade de Breves (PA), agradeceu ao Governo Federal por estar presente na regiÃ£o. O que mais precisamos aqui no MarajÃ³ Ã© ajuda diante da pandemia e eu me sinto muito feliz em ter o apoio do Governo Federal e ver a uniÃ£o de todos, conclui. Nesta fase do projeto, cerca de 180 mil pessoas foram alcanÃ§adas. As doaÃ§Ãµes sÃ£o fruto do apoio de empresÃ¡rios e outros membros da sociedade civil e do terceiro setor, a maioria do estado de SÃ£o Paulo, com destaque para a Virada Feminina. O movimento visa a contribuir com os desafios enfrentados pelas pessoas em Ã¡reas como saÃºde, inclusÃ£o social e enfrentamento Ã  violÃªncia. \n",
       "2 O Programa Abrace o MarajÃ³ envolve os governos Federal, estadual e municipal e a iniciativa privada. O objetivo Ã© melhorar o Ã\\215ndice de Desenvolvimento Humano (IDH) dos municÃ­pios da regiÃ£o com ampliaÃ§Ã£o do alcance e do acesso da populaÃ§Ã£o local aos direitos humanos.                                                                                                                                                                                                                                                                                                                                                                                                                                                                                                                                                                                                                                                                                                                                                                                                                                                                                                                                                                        \n",
       "3 O programaÂ conta com parceiros do governo, como o programa PÃ¡tria VoluntÃ¡ria, do MinistÃ©rio da Cidadania, e o MinistÃ©rio da Defesa, que presta suporte logÃ­stico por meio da Marinha do Brasil. Para conhecer o programa PÃ¡tria VoluntÃ¡ria acesse: https://patriavoluntaria.org/pt-BR.                                                                                                                                                                                                                                                                                                                                                                                                                                                                                                                                                                                                                                                                                                                                                                                                                                                                                                                                                             \n",
       "4 A terceira fase da operaÃ§Ã£o estÃ¡ prevista para acontecer atÃ© o final de agosto, contemplando mais quatro municÃ­pios. AtÃ© o final de outubro, todos os 16 municÃ­pios do arquipÃ©lago serÃ£o beneficiados. No total, serÃ£o entregues 1,2 milhÃ£o de itens de higiene pessoal para a populaÃ§Ã£o do MarajÃ³.Â A FundaÃ§Ã£o Oswaldo Cruz (Fiocruz - @Fiocruz), do MinistÃ©rio da SaÃºde, e o laboratÃ³rio AstraZeneca (@AstraZeneca) assinaram, na Ãºltima sexta-feira (31), um documento que darÃ¡ base para o acordo entre os laboratÃ³rios sobre a transferÃªncia de tecnologia e a produÃ§Ã£o de 100 milhÃµes de doses da vacina contra a Covid-19, caso seja comprovada a sua eficÃ¡cia e seguranÃ§a. #Fiocruz #AstraZeneca                                                                                                                                                                                                                                                                                                                                                                                                                                                                                                                       "
      ]
     },
     "metadata": {},
     "output_type": "display_data"
    }
   ],
   "source": [
    "data4 <- read.delim(file.choose(),encoding='utf-8')\n",
    "data4"
   ]
  },
  {
   "cell_type": "code",
   "execution_count": 30,
   "metadata": {},
   "outputs": [
    {
     "name": "stderr",
     "output_type": "stream",
     "text": [
      "Installing package into 'C:/Users/FERNANDA/Documents/R/win-library/3.6'\n",
      "(as 'lib' is unspecified)\n"
     ]
    },
    {
     "name": "stdout",
     "output_type": "stream",
     "text": [
      "package 'readxl' successfully unpacked and MD5 sums checked\n",
      "\n",
      "The downloaded binary packages are in\n",
      "\tC:\\Users\\FERNANDA\\AppData\\Local\\Temp\\RtmpYHmr8A\\downloaded_packages\n"
     ]
    }
   ],
   "source": [
    "install.packages(\"readxl\")"
   ]
  },
  {
   "cell_type": "code",
   "execution_count": 33,
   "metadata": {},
   "outputs": [],
   "source": [
    "library(readxl)"
   ]
  },
  {
   "cell_type": "code",
   "execution_count": 35,
   "metadata": {},
   "outputs": [
    {
     "data": {
      "text/html": [
       "<table>\n",
       "<thead><tr><th scope=col>CodEstadoIBGE</th><th scope=col>nomeestado</th><th scope=col>siglaestado</th><th scope=col>regiao</th></tr></thead>\n",
       "<tbody>\n",
       "\t<tr><td>11                 </td><td>Rondónia           </td><td>RO                 </td><td>Norte              </td></tr>\n",
       "\t<tr><td>12                 </td><td>Acre               </td><td>AC                 </td><td>Norte              </td></tr>\n",
       "\t<tr><td>13                 </td><td>Amazonas           </td><td>AM                 </td><td>Norte              </td></tr>\n",
       "\t<tr><td>14                 </td><td>Roraima            </td><td>R                  </td><td>Norte              </td></tr>\n",
       "\t<tr><td>15                 </td><td>Pará               </td><td>PA                 </td><td>Norte              </td></tr>\n",
       "\t<tr><td>16                 </td><td>Amapá              </td><td>AP                 </td><td>Norte              </td></tr>\n",
       "\t<tr><td>17                 </td><td>Tocantins          </td><td>TO                 </td><td>Norte              </td></tr>\n",
       "\t<tr><td>21                 </td><td>Maranhão           </td><td>MA                 </td><td>Nordeste           </td></tr>\n",
       "\t<tr><td>22                 </td><td>Piauí              </td><td>PI                 </td><td>Nordeste           </td></tr>\n",
       "\t<tr><td>23                 </td><td>Ceará              </td><td>CE                 </td><td>Nordeste           </td></tr>\n",
       "\t<tr><td>24                 </td><td>Rio Grande do Norte</td><td>RN                 </td><td>Nordeste           </td></tr>\n",
       "\t<tr><td>25                 </td><td>Paraíba            </td><td>PB                 </td><td>Nordeste           </td></tr>\n",
       "\t<tr><td>26                 </td><td>Pernambuco         </td><td>PE                 </td><td>Nordeste           </td></tr>\n",
       "\t<tr><td>27                 </td><td>Alagoas            </td><td>AL                 </td><td>Nordeste           </td></tr>\n",
       "\t<tr><td>28                 </td><td>Sergipe            </td><td>SE                 </td><td>Nordeste           </td></tr>\n",
       "\t<tr><td>29                 </td><td>Bahia              </td><td>BA                 </td><td>Nordeste           </td></tr>\n",
       "\t<tr><td>31                 </td><td>Minas Gerais       </td><td>MG                 </td><td>Sudeste            </td></tr>\n",
       "\t<tr><td>32                 </td><td>Espírito Santo     </td><td>ES                 </td><td>Sudeste            </td></tr>\n",
       "\t<tr><td>33                 </td><td>Rio de Janeiro     </td><td>RJ                 </td><td>Sudeste            </td></tr>\n",
       "\t<tr><td>35                 </td><td>São Paulo          </td><td>SP                 </td><td>Sudeste            </td></tr>\n",
       "\t<tr><td>41                 </td><td>Paraná             </td><td>PR                 </td><td>Sul                </td></tr>\n",
       "\t<tr><td>42                 </td><td>Santa Catarina     </td><td>SC                 </td><td>Sul                </td></tr>\n",
       "\t<tr><td>43                 </td><td>Rio Grande do Sul  </td><td>RS                 </td><td>Sul                </td></tr>\n",
       "\t<tr><td>50                 </td><td>Mato Grosso do Sul </td><td>MS                 </td><td>Centro-Oeste       </td></tr>\n",
       "\t<tr><td>51                 </td><td>Mato Grosso        </td><td>MT                 </td><td>Centro-Oeste       </td></tr>\n",
       "\t<tr><td>52                 </td><td>Goiás              </td><td>GO                 </td><td>Centro-Oeste       </td></tr>\n",
       "\t<tr><td>53                 </td><td>Distrito Federal   </td><td>DF                 </td><td>Centro-Oeste       </td></tr>\n",
       "</tbody>\n",
       "</table>\n"
      ],
      "text/latex": [
       "\\begin{tabular}{r|llll}\n",
       " CodEstadoIBGE & nomeestado & siglaestado & regiao\\\\\n",
       "\\hline\n",
       "\t 11                  & Rondónia            & RO                  & Norte              \\\\\n",
       "\t 12                  & Acre                & AC                  & Norte              \\\\\n",
       "\t 13                  & Amazonas            & AM                  & Norte              \\\\\n",
       "\t 14                  & Roraima             & R                   & Norte              \\\\\n",
       "\t 15                  & Pará                & PA                  & Norte              \\\\\n",
       "\t 16                  & Amapá               & AP                  & Norte              \\\\\n",
       "\t 17                  & Tocantins           & TO                  & Norte              \\\\\n",
       "\t 21                  & Maranhão            & MA                  & Nordeste           \\\\\n",
       "\t 22                  & Piauí               & PI                  & Nordeste           \\\\\n",
       "\t 23                  & Ceará               & CE                  & Nordeste           \\\\\n",
       "\t 24                  & Rio Grande do Norte & RN                  & Nordeste           \\\\\n",
       "\t 25                  & Paraíba             & PB                  & Nordeste           \\\\\n",
       "\t 26                  & Pernambuco          & PE                  & Nordeste           \\\\\n",
       "\t 27                  & Alagoas             & AL                  & Nordeste           \\\\\n",
       "\t 28                  & Sergipe             & SE                  & Nordeste           \\\\\n",
       "\t 29                  & Bahia               & BA                  & Nordeste           \\\\\n",
       "\t 31                  & Minas Gerais        & MG                  & Sudeste            \\\\\n",
       "\t 32                  & Espírito Santo      & ES                  & Sudeste            \\\\\n",
       "\t 33                  & Rio de Janeiro      & RJ                  & Sudeste            \\\\\n",
       "\t 35                  & São Paulo           & SP                  & Sudeste            \\\\\n",
       "\t 41                  & Paraná              & PR                  & Sul                \\\\\n",
       "\t 42                  & Santa Catarina      & SC                  & Sul                \\\\\n",
       "\t 43                  & Rio Grande do Sul   & RS                  & Sul                \\\\\n",
       "\t 50                  & Mato Grosso do Sul  & MS                  & Centro-Oeste       \\\\\n",
       "\t 51                  & Mato Grosso         & MT                  & Centro-Oeste       \\\\\n",
       "\t 52                  & Goiás               & GO                  & Centro-Oeste       \\\\\n",
       "\t 53                  & Distrito Federal    & DF                  & Centro-Oeste       \\\\\n",
       "\\end{tabular}\n"
      ],
      "text/markdown": [
       "\n",
       "| CodEstadoIBGE | nomeestado | siglaestado | regiao |\n",
       "|---|---|---|---|\n",
       "| 11                  | Rondónia            | RO                  | Norte               |\n",
       "| 12                  | Acre                | AC                  | Norte               |\n",
       "| 13                  | Amazonas            | AM                  | Norte               |\n",
       "| 14                  | Roraima             | R                   | Norte               |\n",
       "| 15                  | Pará                | PA                  | Norte               |\n",
       "| 16                  | Amapá               | AP                  | Norte               |\n",
       "| 17                  | Tocantins           | TO                  | Norte               |\n",
       "| 21                  | Maranhão            | MA                  | Nordeste            |\n",
       "| 22                  | Piauí               | PI                  | Nordeste            |\n",
       "| 23                  | Ceará               | CE                  | Nordeste            |\n",
       "| 24                  | Rio Grande do Norte | RN                  | Nordeste            |\n",
       "| 25                  | Paraíba             | PB                  | Nordeste            |\n",
       "| 26                  | Pernambuco          | PE                  | Nordeste            |\n",
       "| 27                  | Alagoas             | AL                  | Nordeste            |\n",
       "| 28                  | Sergipe             | SE                  | Nordeste            |\n",
       "| 29                  | Bahia               | BA                  | Nordeste            |\n",
       "| 31                  | Minas Gerais        | MG                  | Sudeste             |\n",
       "| 32                  | Espírito Santo      | ES                  | Sudeste             |\n",
       "| 33                  | Rio de Janeiro      | RJ                  | Sudeste             |\n",
       "| 35                  | São Paulo           | SP                  | Sudeste             |\n",
       "| 41                  | Paraná              | PR                  | Sul                 |\n",
       "| 42                  | Santa Catarina      | SC                  | Sul                 |\n",
       "| 43                  | Rio Grande do Sul   | RS                  | Sul                 |\n",
       "| 50                  | Mato Grosso do Sul  | MS                  | Centro-Oeste        |\n",
       "| 51                  | Mato Grosso         | MT                  | Centro-Oeste        |\n",
       "| 52                  | Goiás               | GO                  | Centro-Oeste        |\n",
       "| 53                  | Distrito Federal    | DF                  | Centro-Oeste        |\n",
       "\n"
      ],
      "text/plain": [
       "   CodEstadoIBGE nomeestado          siglaestado regiao      \n",
       "1  11            Rondónia            RO          Norte       \n",
       "2  12            Acre                AC          Norte       \n",
       "3  13            Amazonas            AM          Norte       \n",
       "4  14            Roraima             R           Norte       \n",
       "5  15            Pará                PA          Norte       \n",
       "6  16            Amapá               AP          Norte       \n",
       "7  17            Tocantins           TO          Norte       \n",
       "8  21            Maranhão            MA          Nordeste    \n",
       "9  22            Piauí               PI          Nordeste    \n",
       "10 23            Ceará               CE          Nordeste    \n",
       "11 24            Rio Grande do Norte RN          Nordeste    \n",
       "12 25            Paraíba             PB          Nordeste    \n",
       "13 26            Pernambuco          PE          Nordeste    \n",
       "14 27            Alagoas             AL          Nordeste    \n",
       "15 28            Sergipe             SE          Nordeste    \n",
       "16 29            Bahia               BA          Nordeste    \n",
       "17 31            Minas Gerais        MG          Sudeste     \n",
       "18 32            Espírito Santo      ES          Sudeste     \n",
       "19 33            Rio de Janeiro      RJ          Sudeste     \n",
       "20 35            São Paulo           SP          Sudeste     \n",
       "21 41            Paraná              PR          Sul         \n",
       "22 42            Santa Catarina      SC          Sul         \n",
       "23 43            Rio Grande do Sul   RS          Sul         \n",
       "24 50            Mato Grosso do Sul  MS          Centro-Oeste\n",
       "25 51            Mato Grosso         MT          Centro-Oeste\n",
       "26 52            Goiás               GO          Centro-Oeste\n",
       "27 53            Distrito Federal    DF          Centro-Oeste"
      ]
     },
     "metadata": {},
     "output_type": "display_data"
    }
   ],
   "source": [
    "data5 <- read_excel(file.choose())\n",
    "data5"
   ]
  },
  {
   "cell_type": "code",
   "execution_count": 37,
   "metadata": {},
   "outputs": [],
   "source": [
    "# Importar (ler) os dados do arquivo CSV de valores separados por virgulas\n",
    "iris <- read.csv('C:/Bootcamp/Datasets/CSV/Iris.csv')"
   ]
  },
  {
   "cell_type": "code",
   "execution_count": 38,
   "metadata": {},
   "outputs": [
    {
     "data": {
      "text/html": [
       "<table>\n",
       "<thead><tr><th scope=col>Id</th><th scope=col>Comprimento_Sepala_Cm</th><th scope=col>Largura_Sepala_Cm</th><th scope=col>Comprimento_Petala_Cm</th><th scope=col>Largura_Petala_Cm</th><th scope=col>Especie</th></tr></thead>\n",
       "<tbody>\n",
       "\t<tr><td>1          </td><td>5.1        </td><td>3.5        </td><td>1.4        </td><td>0.2        </td><td>Iris-setosa</td></tr>\n",
       "\t<tr><td>2          </td><td>4.9        </td><td>3.0        </td><td>1.4        </td><td>0.2        </td><td>Iris-setosa</td></tr>\n",
       "\t<tr><td>3          </td><td>4.7        </td><td>3.2        </td><td>1.3        </td><td>0.2        </td><td>Iris-setosa</td></tr>\n",
       "\t<tr><td>4          </td><td>4.6        </td><td>3.1        </td><td>1.5        </td><td>0.2        </td><td>Iris-setosa</td></tr>\n",
       "\t<tr><td>5          </td><td>5.0        </td><td>3.6        </td><td>1.4        </td><td>0.2        </td><td>Iris-setosa</td></tr>\n",
       "\t<tr><td>6          </td><td>5.4        </td><td>3.9        </td><td>1.7        </td><td>0.4        </td><td>Iris-setosa</td></tr>\n",
       "</tbody>\n",
       "</table>\n"
      ],
      "text/latex": [
       "\\begin{tabular}{r|llllll}\n",
       " Id & Comprimento\\_Sepala\\_Cm & Largura\\_Sepala\\_Cm & Comprimento\\_Petala\\_Cm & Largura\\_Petala\\_Cm & Especie\\\\\n",
       "\\hline\n",
       "\t 1           & 5.1         & 3.5         & 1.4         & 0.2         & Iris-setosa\\\\\n",
       "\t 2           & 4.9         & 3.0         & 1.4         & 0.2         & Iris-setosa\\\\\n",
       "\t 3           & 4.7         & 3.2         & 1.3         & 0.2         & Iris-setosa\\\\\n",
       "\t 4           & 4.6         & 3.1         & 1.5         & 0.2         & Iris-setosa\\\\\n",
       "\t 5           & 5.0         & 3.6         & 1.4         & 0.2         & Iris-setosa\\\\\n",
       "\t 6           & 5.4         & 3.9         & 1.7         & 0.4         & Iris-setosa\\\\\n",
       "\\end{tabular}\n"
      ],
      "text/markdown": [
       "\n",
       "| Id | Comprimento_Sepala_Cm | Largura_Sepala_Cm | Comprimento_Petala_Cm | Largura_Petala_Cm | Especie |\n",
       "|---|---|---|---|---|---|\n",
       "| 1           | 5.1         | 3.5         | 1.4         | 0.2         | Iris-setosa |\n",
       "| 2           | 4.9         | 3.0         | 1.4         | 0.2         | Iris-setosa |\n",
       "| 3           | 4.7         | 3.2         | 1.3         | 0.2         | Iris-setosa |\n",
       "| 4           | 4.6         | 3.1         | 1.5         | 0.2         | Iris-setosa |\n",
       "| 5           | 5.0         | 3.6         | 1.4         | 0.2         | Iris-setosa |\n",
       "| 6           | 5.4         | 3.9         | 1.7         | 0.4         | Iris-setosa |\n",
       "\n"
      ],
      "text/plain": [
       "  Id Comprimento_Sepala_Cm Largura_Sepala_Cm Comprimento_Petala_Cm\n",
       "1 1  5.1                   3.5               1.4                  \n",
       "2 2  4.9                   3.0               1.4                  \n",
       "3 3  4.7                   3.2               1.3                  \n",
       "4 4  4.6                   3.1               1.5                  \n",
       "5 5  5.0                   3.6               1.4                  \n",
       "6 6  5.4                   3.9               1.7                  \n",
       "  Largura_Petala_Cm Especie    \n",
       "1 0.2               Iris-setosa\n",
       "2 0.2               Iris-setosa\n",
       "3 0.2               Iris-setosa\n",
       "4 0.2               Iris-setosa\n",
       "5 0.2               Iris-setosa\n",
       "6 0.4               Iris-setosa"
      ]
     },
     "metadata": {},
     "output_type": "display_data"
    }
   ],
   "source": [
    "# Imprimir as 6 primeiras linhas do vetor iris \n",
    "head (iris);"
   ]
  },
  {
   "cell_type": "code",
   "execution_count": 39,
   "metadata": {},
   "outputs": [
    {
     "data": {
      "text/html": [
       "<table>\n",
       "<thead><tr><th scope=col>Id</th><th scope=col>Comprimento_Sepala_Cm</th><th scope=col>Largura_Sepala_Cm</th><th scope=col>Comprimento_Petala_Cm</th><th scope=col>Largura_Petala_Cm</th><th scope=col>Especie</th></tr></thead>\n",
       "<tbody>\n",
       "\t<tr><td>1          </td><td>5.1        </td><td>3.5        </td><td>1.4        </td><td>0.2        </td><td>Iris-setosa</td></tr>\n",
       "\t<tr><td>2          </td><td>4.9        </td><td>3.0        </td><td>1.4        </td><td>0.2        </td><td>Iris-setosa</td></tr>\n",
       "\t<tr><td>3          </td><td>4.7        </td><td>3.2        </td><td>1.3        </td><td>0.2        </td><td>Iris-setosa</td></tr>\n",
       "</tbody>\n",
       "</table>\n"
      ],
      "text/latex": [
       "\\begin{tabular}{r|llllll}\n",
       " Id & Comprimento\\_Sepala\\_Cm & Largura\\_Sepala\\_Cm & Comprimento\\_Petala\\_Cm & Largura\\_Petala\\_Cm & Especie\\\\\n",
       "\\hline\n",
       "\t 1           & 5.1         & 3.5         & 1.4         & 0.2         & Iris-setosa\\\\\n",
       "\t 2           & 4.9         & 3.0         & 1.4         & 0.2         & Iris-setosa\\\\\n",
       "\t 3           & 4.7         & 3.2         & 1.3         & 0.2         & Iris-setosa\\\\\n",
       "\\end{tabular}\n"
      ],
      "text/markdown": [
       "\n",
       "| Id | Comprimento_Sepala_Cm | Largura_Sepala_Cm | Comprimento_Petala_Cm | Largura_Petala_Cm | Especie |\n",
       "|---|---|---|---|---|---|\n",
       "| 1           | 5.1         | 3.5         | 1.4         | 0.2         | Iris-setosa |\n",
       "| 2           | 4.9         | 3.0         | 1.4         | 0.2         | Iris-setosa |\n",
       "| 3           | 4.7         | 3.2         | 1.3         | 0.2         | Iris-setosa |\n",
       "\n"
      ],
      "text/plain": [
       "  Id Comprimento_Sepala_Cm Largura_Sepala_Cm Comprimento_Petala_Cm\n",
       "1 1  5.1                   3.5               1.4                  \n",
       "2 2  4.9                   3.0               1.4                  \n",
       "3 3  4.7                   3.2               1.3                  \n",
       "  Largura_Petala_Cm Especie    \n",
       "1 0.2               Iris-setosa\n",
       "2 0.2               Iris-setosa\n",
       "3 0.2               Iris-setosa"
      ]
     },
     "metadata": {},
     "output_type": "display_data"
    }
   ],
   "source": [
    "# Imprimir as 3 primeiras linhas do vetor iris \n",
    "head (iris, 3);"
   ]
  },
  {
   "cell_type": "code",
   "execution_count": 40,
   "metadata": {},
   "outputs": [
    {
     "name": "stdout",
     "output_type": "stream",
     "text": [
      "     Id Comprimento_Sepala_Cm Largura_Sepala_Cm Comprimento_Petala_Cm\n",
      "1     1                   5.1               3.5                   1.4\n",
      "2     2                   4.9               3.0                   1.4\n",
      "3     3                   4.7               3.2                   1.3\n",
      "4     4                   4.6               3.1                   1.5\n",
      "5     5                   5.0               3.6                   1.4\n",
      "6     6                   5.4               3.9                   1.7\n",
      "7     7                   4.6               3.4                   1.4\n",
      "8     8                   5.0               3.4                   1.5\n",
      "9     9                   4.4               2.9                   1.4\n",
      "10   10                   4.9               3.1                   1.5\n",
      "11   11                   5.4               3.7                   1.5\n",
      "12   12                   4.8               3.4                   1.6\n",
      "13   13                   4.8               3.0                   1.4\n",
      "14   14                   4.3               3.0                   1.1\n",
      "15   15                   5.8               4.0                   1.2\n",
      "16   16                   5.7               4.4                   1.5\n",
      "17   17                   5.4               3.9                   1.3\n",
      "18   18                   5.1               3.5                   1.4\n",
      "19   19                   5.7               3.8                   1.7\n",
      "20   20                   5.1               3.8                   1.5\n",
      "21   21                   5.4               3.4                   1.7\n",
      "22   22                   5.1               3.7                   1.5\n",
      "23   23                   4.6               3.6                   1.0\n",
      "24   24                   5.1               3.3                   1.7\n",
      "25   25                   4.8               3.4                   1.9\n",
      "26   26                   5.0               3.0                   1.6\n",
      "27   27                   5.0               3.4                   1.6\n",
      "28   28                   5.2               3.5                   1.5\n",
      "29   29                   5.2               3.4                   1.4\n",
      "30   30                   4.7               3.2                   1.6\n",
      "31   31                   4.8               3.1                   1.6\n",
      "32   32                   5.4               3.4                   1.5\n",
      "33   33                   5.2               4.1                   1.5\n",
      "34   34                   5.5               4.2                   1.4\n",
      "35   35                   4.9               3.1                   1.5\n",
      "36   36                   5.0               3.2                   1.2\n",
      "37   37                   5.5               3.5                   1.3\n",
      "38   38                   4.9               3.1                   1.5\n",
      "39   39                   4.4               3.0                   1.3\n",
      "40   40                   5.1               3.4                   1.5\n",
      "41   41                   5.0               3.5                   1.3\n",
      "42   42                   4.5               2.3                   1.3\n",
      "43   43                   4.4               3.2                   1.3\n",
      "44   44                   5.0               3.5                   1.6\n",
      "45   45                   5.1               3.8                   1.9\n",
      "46   46                   4.8               3.0                   1.4\n",
      "47   47                   5.1               3.8                   1.6\n",
      "48   48                   4.6               3.2                   1.4\n",
      "49   49                   5.3               3.7                   1.5\n",
      "50   50                   5.0               3.3                   1.4\n",
      "51   51                   7.0               3.2                   4.7\n",
      "52   52                   6.4               3.2                   4.5\n",
      "53   53                   6.9               3.1                   4.9\n",
      "54   54                   5.5               2.3                   4.0\n",
      "55   55                   6.5               2.8                   4.6\n",
      "56   56                   5.7               2.8                   4.5\n",
      "57   57                   6.3               3.3                   4.7\n",
      "58   58                   4.9               2.4                   3.3\n",
      "59   59                   6.6               2.9                   4.6\n",
      "60   60                   5.2               2.7                   3.9\n",
      "61   61                   5.0               2.0                   3.5\n",
      "62   62                   5.9               3.0                   4.2\n",
      "63   63                   6.0               2.2                   4.0\n",
      "64   64                   6.1               2.9                   4.7\n",
      "65   65                   5.6               2.9                   3.6\n",
      "66   66                   6.7               3.1                   4.4\n",
      "67   67                   5.6               3.0                   4.5\n",
      "68   68                   5.8               2.7                   4.1\n",
      "69   69                   6.2               2.2                   4.5\n",
      "70   70                   5.6               2.5                   3.9\n",
      "71   71                   5.9               3.2                   4.8\n",
      "72   72                   6.1               2.8                   4.0\n",
      "73   73                   6.3               2.5                   4.9\n",
      "74   74                   6.1               2.8                   4.7\n",
      "75   75                   6.4               2.9                   4.3\n",
      "76   76                   6.6               3.0                   4.4\n",
      "77   77                   6.8               2.8                   4.8\n",
      "78   78                   6.7               3.0                   5.0\n",
      "79   79                   6.0               2.9                   4.5\n",
      "80   80                   5.7               2.6                   3.5\n",
      "81   81                   5.5               2.4                   3.8\n",
      "82   82                   5.5               2.4                   3.7\n",
      "83   83                   5.8               2.7                   3.9\n",
      "84   84                   6.0               2.7                   5.1\n",
      "85   85                   5.4               3.0                   4.5\n",
      "86   86                   6.0               3.4                   4.5\n",
      "87   87                   6.7               3.1                   4.7\n",
      "88   88                   6.3               2.3                   4.4\n",
      "89   89                   5.6               3.0                   4.1\n",
      "90   90                   5.5               2.5                   4.0\n",
      "91   91                   5.5               2.6                   4.4\n",
      "92   92                   6.1               3.0                   4.6\n",
      "93   93                   5.8               2.6                   4.0\n",
      "94   94                   5.0               2.3                   3.3\n",
      "95   95                   5.6               2.7                   4.2\n",
      "96   96                   5.7               3.0                   4.2\n",
      "97   97                   5.7               2.9                   4.2\n",
      "98   98                   6.2               2.9                   4.3\n",
      "99   99                   5.1               2.5                   3.0\n",
      "100 100                   5.7               2.8                   4.1\n",
      "101 101                   6.3               3.3                   6.0\n",
      "102 102                   5.8               2.7                   5.1\n",
      "103 103                   7.1               3.0                   5.9\n",
      "104 104                   6.3               2.9                   5.6\n",
      "105 105                   6.5               3.0                   5.8\n",
      "106 106                   7.6               3.0                   6.6\n",
      "107 107                   4.9               2.5                   4.5\n",
      "108 108                   7.3               2.9                   6.3\n",
      "109 109                   6.7               2.5                   5.8\n",
      "110 110                   7.2               3.6                   6.1\n",
      "111 111                   6.5               3.2                   5.1\n",
      "112 112                   6.4               2.7                   5.3\n",
      "113 113                   6.8               3.0                   5.5\n",
      "114 114                   5.7               2.5                   5.0\n",
      "115 115                   5.8               2.8                   5.1\n",
      "116 116                   6.4               3.2                   5.3\n",
      "117 117                   6.5               3.0                   5.5\n",
      "118 118                   7.7               3.8                   6.7\n",
      "119 119                   7.7               2.6                   6.9\n",
      "120 120                   6.0               2.2                   5.0\n",
      "121 121                   6.9               3.2                   5.7\n",
      "122 122                   5.6               2.8                   4.9\n",
      "123 123                   7.7               2.8                   6.7\n",
      "124 124                   6.3               2.7                   4.9\n",
      "125 125                   6.7               3.3                   5.7\n",
      "126 126                   7.2               3.2                   6.0\n",
      "127 127                   6.2               2.8                   4.8\n",
      "128 128                   6.1               3.0                   4.9\n",
      "129 129                   6.4               2.8                   5.6\n",
      "130 130                   7.2               3.0                   5.8\n",
      "131 131                   7.4               2.8                   6.1\n",
      "132 132                   7.9               3.8                   6.4\n",
      "133 133                   6.4               2.8                   5.6\n",
      "134 134                   6.3               2.8                   5.1\n",
      "135 135                   6.1               2.6                   5.6\n",
      "136 136                   7.7               3.0                   6.1\n",
      "137 137                   6.3               3.4                   5.6\n",
      "138 138                   6.4               3.1                   5.5\n",
      "139 139                   6.0               3.0                   4.8\n",
      "140 140                   6.9               3.1                   5.4\n",
      "141 141                   6.7               3.1                   5.6\n",
      "142 142                   6.9               3.1                   5.1\n",
      "143 143                   5.8               2.7                   5.1\n",
      "144 144                   6.8               3.2                   5.9\n",
      "145 145                   6.7               3.3                   5.7\n",
      "146 146                   6.7               3.0                   5.2\n",
      "147 147                   6.3               2.5                   5.0\n",
      "148 148                   6.5               3.0                   5.2\n",
      "149 149                   6.2               3.4                   5.4\n",
      "150 150                   5.9               3.0                   5.1\n",
      "    Largura_Petala_Cm         Especie\n",
      "1                 0.2     Iris-setosa\n",
      "2                 0.2     Iris-setosa\n",
      "3                 0.2     Iris-setosa\n",
      "4                 0.2     Iris-setosa\n",
      "5                 0.2     Iris-setosa\n",
      "6                 0.4     Iris-setosa\n",
      "7                 0.3     Iris-setosa\n",
      "8                 0.2     Iris-setosa\n",
      "9                 0.2     Iris-setosa\n",
      "10                0.1     Iris-setosa\n",
      "11                0.2     Iris-setosa\n",
      "12                0.2     Iris-setosa\n",
      "13                0.1     Iris-setosa\n",
      "14                0.1     Iris-setosa\n",
      "15                0.2     Iris-setosa\n",
      "16                0.4     Iris-setosa\n",
      "17                0.4     Iris-setosa\n",
      "18                0.3     Iris-setosa\n",
      "19                0.3     Iris-setosa\n",
      "20                0.3     Iris-setosa\n",
      "21                0.2     Iris-setosa\n",
      "22                0.4     Iris-setosa\n",
      "23                0.2     Iris-setosa\n",
      "24                0.5     Iris-setosa\n",
      "25                0.2     Iris-setosa\n",
      "26                0.2     Iris-setosa\n",
      "27                0.4     Iris-setosa\n",
      "28                0.2     Iris-setosa\n",
      "29                0.2     Iris-setosa\n",
      "30                0.2     Iris-setosa\n",
      "31                0.2     Iris-setosa\n",
      "32                0.4     Iris-setosa\n",
      "33                0.1     Iris-setosa\n",
      "34                0.2     Iris-setosa\n",
      "35                0.1     Iris-setosa\n",
      "36                0.2     Iris-setosa\n",
      "37                0.2     Iris-setosa\n",
      "38                0.1     Iris-setosa\n",
      "39                0.2     Iris-setosa\n",
      "40                0.2     Iris-setosa\n",
      "41                0.3     Iris-setosa\n",
      "42                0.3     Iris-setosa\n",
      "43                0.2     Iris-setosa\n",
      "44                0.6     Iris-setosa\n",
      "45                0.4     Iris-setosa\n",
      "46                0.3     Iris-setosa\n",
      "47                0.2     Iris-setosa\n",
      "48                0.2     Iris-setosa\n",
      "49                0.2     Iris-setosa\n",
      "50                0.2     Iris-setosa\n",
      "51                1.4 Iris-versicolor\n",
      "52                1.5 Iris-versicolor\n",
      "53                1.5 Iris-versicolor\n",
      "54                1.3 Iris-versicolor\n",
      "55                1.5 Iris-versicolor\n",
      "56                1.3 Iris-versicolor\n",
      "57                1.6 Iris-versicolor\n",
      "58                1.0 Iris-versicolor\n",
      "59                1.3 Iris-versicolor\n",
      "60                1.4 Iris-versicolor\n",
      "61                1.0 Iris-versicolor\n",
      "62                1.5 Iris-versicolor\n",
      "63                1.0 Iris-versicolor\n",
      "64                1.4 Iris-versicolor\n",
      "65                1.3 Iris-versicolor\n",
      "66                1.4 Iris-versicolor\n",
      "67                1.5 Iris-versicolor\n",
      "68                1.0 Iris-versicolor\n",
      "69                1.5 Iris-versicolor\n",
      "70                1.1 Iris-versicolor\n",
      "71                1.8 Iris-versicolor\n",
      "72                1.3 Iris-versicolor\n",
      "73                1.5 Iris-versicolor\n",
      "74                1.2 Iris-versicolor\n",
      "75                1.3 Iris-versicolor\n",
      "76                1.4 Iris-versicolor\n",
      "77                1.4 Iris-versicolor\n",
      "78                1.7 Iris-versicolor\n",
      "79                1.5 Iris-versicolor\n",
      "80                1.0 Iris-versicolor\n",
      "81                1.1 Iris-versicolor\n",
      "82                1.0 Iris-versicolor\n",
      "83                1.2 Iris-versicolor\n",
      "84                1.6 Iris-versicolor\n",
      "85                1.5 Iris-versicolor\n",
      "86                1.6 Iris-versicolor\n",
      "87                1.5 Iris-versicolor\n",
      "88                1.3 Iris-versicolor\n",
      "89                1.3 Iris-versicolor\n",
      "90                1.3 Iris-versicolor\n",
      "91                1.2 Iris-versicolor\n",
      "92                1.4 Iris-versicolor\n",
      "93                1.2 Iris-versicolor\n",
      "94                1.0 Iris-versicolor\n",
      "95                1.3 Iris-versicolor\n",
      "96                1.2 Iris-versicolor\n",
      "97                1.3 Iris-versicolor\n",
      "98                1.3 Iris-versicolor\n",
      "99                1.1 Iris-versicolor\n",
      "100               1.3 Iris-versicolor\n",
      "101               2.5  Iris-virginica\n",
      "102               1.9  Iris-virginica\n",
      "103               2.1  Iris-virginica\n",
      "104               1.8  Iris-virginica\n",
      "105               2.2  Iris-virginica\n",
      "106               2.1  Iris-virginica\n",
      "107               1.7  Iris-virginica\n",
      "108               1.8  Iris-virginica\n",
      "109               1.8  Iris-virginica\n",
      "110               2.5  Iris-virginica\n",
      "111               2.0  Iris-virginica\n",
      "112               1.9  Iris-virginica\n",
      "113               2.1  Iris-virginica\n",
      "114               2.0  Iris-virginica\n",
      "115               2.4  Iris-virginica\n",
      "116               2.3  Iris-virginica\n",
      "117               1.8  Iris-virginica\n",
      "118               2.2  Iris-virginica\n",
      "119               2.3  Iris-virginica\n",
      "120               1.5  Iris-virginica\n",
      "121               2.3  Iris-virginica\n",
      "122               2.0  Iris-virginica\n",
      "123               2.0  Iris-virginica\n",
      "124               1.8  Iris-virginica\n",
      "125               2.1  Iris-virginica\n",
      "126               1.8  Iris-virginica\n",
      "127               1.8  Iris-virginica\n",
      "128               1.8  Iris-virginica\n",
      "129               2.1  Iris-virginica\n",
      "130               1.6  Iris-virginica\n",
      "131               1.9  Iris-virginica\n",
      "132               2.0  Iris-virginica\n",
      "133               2.2  Iris-virginica\n",
      "134               1.5  Iris-virginica\n",
      "135               1.4  Iris-virginica\n",
      "136               2.3  Iris-virginica\n",
      "137               2.4  Iris-virginica\n",
      "138               1.8  Iris-virginica\n",
      "139               1.8  Iris-virginica\n",
      "140               2.1  Iris-virginica\n",
      "141               2.4  Iris-virginica\n",
      "142               2.3  Iris-virginica\n",
      "143               1.9  Iris-virginica\n",
      "144               2.3  Iris-virginica\n",
      "145               2.5  Iris-virginica\n",
      "146               2.3  Iris-virginica\n",
      "147               1.9  Iris-virginica\n",
      "148               2.0  Iris-virginica\n",
      "149               2.3  Iris-virginica\n",
      "150               1.8  Iris-virginica\n"
     ]
    }
   ],
   "source": [
    "# Imprimir todas as linhas do vetor iris\n",
    "print(iris);"
   ]
  },
  {
   "cell_type": "code",
   "execution_count": 41,
   "metadata": {},
   "outputs": [
    {
     "data": {
      "text/plain": [
       "       Id         Comprimento_Sepala_Cm Largura_Sepala_Cm Comprimento_Petala_Cm\n",
       " Min.   :  1.00   Min.   :4.300         Min.   :2.000     Min.   :1.000        \n",
       " 1st Qu.: 38.25   1st Qu.:5.100         1st Qu.:2.800     1st Qu.:1.600        \n",
       " Median : 75.50   Median :5.800         Median :3.000     Median :4.350        \n",
       " Mean   : 75.50   Mean   :5.843         Mean   :3.054     Mean   :3.759        \n",
       " 3rd Qu.:112.75   3rd Qu.:6.400         3rd Qu.:3.300     3rd Qu.:5.100        \n",
       " Max.   :150.00   Max.   :7.900         Max.   :4.400     Max.   :6.900        \n",
       " Largura_Petala_Cm            Especie  \n",
       " Min.   :0.100     Iris-setosa    :50  \n",
       " 1st Qu.:0.300     Iris-versicolor:50  \n",
       " Median :1.300     Iris-virginica :50  \n",
       " Mean   :1.199                         \n",
       " 3rd Qu.:1.800                         \n",
       " Max.   :2.500                         "
      ]
     },
     "metadata": {},
     "output_type": "display_data"
    }
   ],
   "source": [
    "#Resumo das estatísticas descritivas: a observação mínima, 1a quartil (25%), \n",
    "# mediana (50%), media aritmética, 3a quartil (75%) e a máxima são \n",
    "#exibidos para cada amostra.\n",
    "summary(iris);"
   ]
  },
  {
   "cell_type": "code",
   "execution_count": 42,
   "metadata": {},
   "outputs": [
    {
     "data": {
      "image/png": "[encoded data removed]",
      "text/plain": [
       "plot without title"
      ]
     },
     "metadata": {},
     "output_type": "display_data"
    }
   ],
   "source": [
    "# Boxplot mostrando a mediana (linha horizontal, quartis 25 % e 75 % (caixa verde - col=3) e observações máxima e\n",
    "#mínima (linhas verticais) – ylab e xlab são as etiquetas dos eixos y e x, respectivamente.\n",
    "boxplot(iris, col=3, ylab=\"Valores(cm)\", xlab=\"Característica\")"
   ]
  },
  {
   "cell_type": "code",
   "execution_count": 43,
   "metadata": {},
   "outputs": [
    {
     "data": {
      "image/png": "[encoded data removed]",
      "text/plain": [
       "plot without title"
      ]
     },
     "metadata": {},
     "output_type": "display_data"
    }
   ],
   "source": [
    "#Usa range=0 para não mostrar os outliers (observações extremas representadas como pontos)\n",
    "boxplot(iris, range=0, col=2, ylab=\"Valores(cm)\", xlab=\"Característica\")"
   ]
  }
 ],
 "metadata": {
  "kernelspec": {
   "display_name": "R",
   "language": "R",
   "name": "ir"
  },
  "language_info": {
   "codemirror_mode": "r",
   "file_extension": ".r",
   "mimetype": "text/x-r-source",
   "name": "R",
   "pygments_lexer": "r",
   "version": "3.6.1"
  }
 },
 "nbformat": 4,
 "nbformat_minor": 4
}
